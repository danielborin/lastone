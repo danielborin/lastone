{
 "cells": [
  {
   "cell_type": "markdown",
   "metadata": {},
   "source": [
    "# Exercicios: Scipy"
   ]
  },
  {
   "cell_type": "code",
   "execution_count": null,
   "metadata": {},
   "outputs": [],
   "source": [
    "import numpy as np\n",
    "import matplotlib.pyplot as plt"
   ]
  },
  {
   "cell_type": "markdown",
   "metadata": {},
   "source": [
    "1. Considere a função $f(x) = e^{-x^2}$.\n",
    "\n",
    "    a) Integre a função no intervalo $[-5, 5]$.\n",
    "\n",
    "    b) Gere a partir dessa função um conjuntos de pontos de tamanho $N=50$ uniformemente distribuidos no intervalo $[-5, 5]$. Calcule a integral dessa função amostrada utilizando o método de Simpson (``integrate.simps``).\n",
    "\n",
    "\n"
   ]
  },
  {
   "cell_type": "code",
   "execution_count": null,
   "metadata": {},
   "outputs": [],
   "source": [
    "pass"
   ]
  },
  {
   "cell_type": "markdown",
   "metadata": {},
   "source": [
    "2. Considere a função $f(x)=x \\cos(x)$. Então crie um código que:\n",
    "\n",
    "* Crie $N$ amostras dessa função\n",
    "\n",
    "* Interpole os dados usando interpolação linear, quadrática e cúbica.\n",
    "\n",
    "* Plote a função original, as amostras e as interpolações"
   ]
  },
  {
   "cell_type": "code",
   "execution_count": null,
   "metadata": {},
   "outputs": [],
   "source": [
    "pass"
   ]
  },
  {
   "cell_type": "markdown",
   "metadata": {},
   "source": [
    "3. Considere a função:\n",
    "\n",
    "    $$q(x) = x^3 - 2x^2 - 11x + 12$$\n",
    "\n",
    "    Encontre às três raízes dessa função. (Dica: Primeiro plote a função para encontrar os intervalos que elas possivelmente irão se anular)"
   ]
  },
  {
   "cell_type": "markdown",
   "metadata": {},
   "source": []
  }
 ],
 "metadata": {
  "kernelspec": {
   "display_name": "base",
   "language": "python",
   "name": "python3"
  },
  "language_info": {
   "codemirror_mode": {
    "name": "ipython",
    "version": 3
   },
   "file_extension": ".py",
   "mimetype": "text/x-python",
   "name": "python",
   "nbconvert_exporter": "python",
   "pygments_lexer": "ipython3",
   "version": "3.11.7"
  }
 },
 "nbformat": 4,
 "nbformat_minor": 4
}
