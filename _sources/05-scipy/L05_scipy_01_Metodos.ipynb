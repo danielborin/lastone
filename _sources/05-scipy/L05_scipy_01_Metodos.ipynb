{
 "cells": [
  {
   "cell_type": "markdown",
   "metadata": {},
   "source": [
    "# Métodos Númericos e o Scipy"
   ]
  },
  {
   "cell_type": "code",
   "execution_count": null,
   "metadata": {},
   "outputs": [],
   "source": [
    "import numpy as np\n",
    "import matplotlib.pyplot as plt"
   ]
  },
  {
   "cell_type": "markdown",
   "metadata": {},
   "source": [
    "A biblioteca SciPy oferece uma ampla gama de funcionalidades para computação científica, implementadas de maneira eficiente, como integração numérica, interpolação, otimização e álgebra linear.\n",
    "\n",
    "O Scipy consiste em um conjunto de algoritmos numéricos com interfaces em Python. Essas interfaces costumam funcionar como \"envoltórios\" de bibliotecas numéricas amplamente usadas, desenvolvidas pela comunidade e que também podem ser utilizadas em outras linguagens de programação.\n",
    "\n",
    "Em geral, há documentação detalhada disponível para esclarecer como cada implementação funciona, todavia uma documentação geral pode ser encontrada em [docs.scipy.org/doc](https://docs.scipy.org/doc/).\n",
    "\n",
    "\n",
    "O Scipy oferece vários subpacotes; usualmente, você os importa de forma individual, como no exemplo:"
   ]
  },
  {
   "cell_type": "code",
   "execution_count": null,
   "metadata": {},
   "outputs": [],
   "source": [
    "from scipy import linalg, optimize"
   ]
  },
  {
   "cell_type": "markdown",
   "metadata": {},
   "source": [
    "Dessa maneira, você tem acesso às funções e métodos presentes nesses módulos."
   ]
  },
  {
   "cell_type": "markdown",
   "metadata": {},
   "source": [
    "É importante ter em mente que todos os métodos numéricos possuem suas vantagens e limitações, além de se basearem em suposições. Portanto, é essencial **sempre** pesquisar sobre o método utilizado para entender como ele funciona.\n",
    "\n",
    "Além disso, testar um novo método em um problema onde a resposta é conhecida é uma prática recomendada, para verificar se o método está funcionando corretamente."
   ]
  },
  {
   "cell_type": "markdown",
   "metadata": {},
   "source": [
    "O SciPy oferece uma vasta gama de funcionalidades. Neste material, explorarei os seguintes módulos:\n",
    "\n",
    "1. `integrate`: Funções para cálculo de integrais e soluções de equações diferenciais ordinárias.\n",
    "2. `interpolate`: Técnicas de interpolação.\n",
    "3. `optimize`: Métodos de otimização e funções para encontrar raízes."
   ]
  },
  {
   "cell_type": "code",
   "execution_count": null,
   "metadata": {},
   "outputs": [],
   "source": []
  }
 ],
 "metadata": {
  "kernelspec": {
   "display_name": "base",
   "language": "python",
   "name": "python3"
  },
  "language_info": {
   "codemirror_mode": {
    "name": "ipython",
    "version": 3
   },
   "file_extension": ".py",
   "mimetype": "text/x-python",
   "name": "python",
   "nbconvert_exporter": "python",
   "pygments_lexer": "ipython3",
   "version": "3.11.7"
  }
 },
 "nbformat": 4,
 "nbformat_minor": 4
}
