{
 "cells": [
  {
   "cell_type": "markdown",
   "metadata": {},
   "source": [
    "# Integração"
   ]
  },
  {
   "cell_type": "code",
   "execution_count": null,
   "metadata": {},
   "outputs": [],
   "source": [
    "import numpy as np\n",
    "import matplotlib.pyplot as plt"
   ]
  },
  {
   "cell_type": "markdown",
   "metadata": {},
   "source": [
    "Vamos realizar algumas integrais do tipo\n",
    "\n",
    "$$I = \\int_a^b f(x) dx$$\n",
    "\n",
    "Podemos considerar duas situações possíveis:\n",
    "* Quando a função $f(x)$ é expressa por uma fórmula analítica. Nesse caso, temos a flexibilidade de escolher os pontos de integração, o que geralmente nos permite otimizar os resultados e alcançar alta precisão.\n",
    "* Quando a função $f(x)$ é definida em um conjunto de pontos (que podem ser espaçados de maneira regular).\n",
    "\n",
    "Na análise numérica, o termo _quadratura_ refere-se a qualquer método de integração que expressa a integral como a soma ponderada de um número finito de pontos.\n",
    "\n",
    "Com isso em mente, o módulo `integrate` disponibiliza várias funções para o cálculo de integrais. A principal delas é a função `quad`, que possibilita o cálculo de uma integral definida de uma variável, utilizando precisamente técnicas de quadratura. Ela retorna o valor da integral junto com uma estimativa do erro.\n",
    "\n",
    "\n"
   ]
  },
  {
   "cell_type": "code",
   "execution_count": null,
   "metadata": {},
   "outputs": [],
   "source": [
    "from scipy import integrate\n",
    "#help(integrate)"
   ]
  },
  {
   "cell_type": "markdown",
   "metadata": {},
   "source": [
    "Como exemplo, vamos calcular a integral\n",
    "\n",
    "$$I = \\int_0^{2\\pi} \\sin^2(x) dx$$"
   ]
  },
  {
   "cell_type": "code",
   "execution_count": null,
   "metadata": {},
   "outputs": [],
   "source": [
    "def f(x):\n",
    "    return np.sin(x)**2"
   ]
  },
  {
   "cell_type": "code",
   "execution_count": null,
   "metadata": {},
   "outputs": [
    {
     "name": "stdout",
     "output_type": "stream",
     "text": [
      "resultado: 3.141592653589793, erro: 2.3058791671639882e-09\n"
     ]
    }
   ],
   "source": [
    "I, err = integrate.quad(f, 0.0, 2.0*np.pi)\n",
    "print('resultado: {}, erro: {}'.format(I, err))"
   ]
  },
  {
   "cell_type": "markdown",
   "metadata": {},
   "source": [
    "Podemos usar a função `help` para compreende-lá melhor"
   ]
  },
  {
   "cell_type": "code",
   "execution_count": null,
   "metadata": {},
   "outputs": [],
   "source": [
    "#help(integrate.quad)"
   ]
  },
  {
   "cell_type": "markdown",
   "metadata": {},
   "source": [
    "### Argumentos adicionais\n",
    "\n",
    "Em alguns casos, nossa função integranda pode receber argumentos opcionais. Vamos considerar a integral da função Gausssiana\n",
    "\n",
    "$$g(x) = A e^{-(x/\\sigma)^2}$$\n",
    "\n",
    "\n",
    "Agora, queremos poder definir a amplitude, $A$, e a largura, $\\sigma$, diretamente na função."
   ]
  },
  {
   "cell_type": "code",
   "execution_count": null,
   "metadata": {},
   "outputs": [],
   "source": [
    "def g(x, A, sigma):\n",
    "    return A*np.exp(-x**2/sigma**2)"
   ]
  },
  {
   "cell_type": "code",
   "execution_count": null,
   "metadata": {},
   "outputs": [
    {
     "name": "stdout",
     "output_type": "stream",
     "text": [
      "1.8451240256511698 2.0484991765669867e-14\n"
     ]
    }
   ],
   "source": [
    "I, err = integrate.quad(g, -1.0, 1.0, args=(1.0, 2.0))\n",
    "print(I, err)"
   ]
  },
  {
   "cell_type": "markdown",
   "metadata": {},
   "source": [
    "### Integração até o infinito\n",
    "\n",
    "O Numpy define o valor `inf`, que pode ser utilizado nos limites de integração. Por exemplo, podemos integrar uma função Gaussiana \n",
    "\n",
    "$$g(x) = A e^{-(x/\\sigma)^2}$$\n",
    "\n",
    "no intervalo $[-\\infty, \\infty]$ (sabemos que o resultado é $\\sqrt{\\pi}$)."
   ]
  },
  {
   "cell_type": "code",
   "execution_count": null,
   "metadata": {},
   "outputs": [
    {
     "name": "stdout",
     "output_type": "stream",
     "text": [
      "1.7724538509055159 1.4202637059452923e-08\n",
      "1.7724538509055159\n",
      "0.0\n"
     ]
    }
   ],
   "source": [
    "I, err = integrate.quad(g, -np.inf, np.inf, args=(1.0, 1.0))\n",
    "print(I, err)\n",
    "print(np.pi**0.5)\n",
    "print(abs(I-np.pi**0.5)) #Remember 0 in a computer always means \"0 within machine epsilon\""
   ]
  },
  {
   "cell_type": "markdown",
   "metadata": {},
   "source": [
    "### Multidimensional integrals"
   ]
  },
  {
   "cell_type": "markdown",
   "metadata": {},
   "source": [
    "A integração multidimensional pode ser realizada com chamadas sucessivas à função `quad()`, mas existem módulos que facilitam esse processo. Um dos módulos mais úteis para integrais duplas é a função `dblquad`\n",
    "\n",
    "Observe a forma da função:\n",
    "\n",
    "```\n",
    "dblquad(f, a, b, xlo, xhi)\n",
    "```\n",
    "\n",
    "onde:\n",
    "- $f$ é a função que será integrada, expressa como $f(y, x)$. É importante notar que, no caso da função `dblquad`, **o argumento $y$ vem primeiro**, e o $x$ é integrado em relação ao segundo.\n",
    "-  $a$ e $b$ são os valores de integração para $y$\n",
    "- para cada valor de $y$, o limite inferior de integração de $x$ é dado pela função `xlo(y)`, e o limite superior é dado pela função `xhi(y)`."
   ]
  },
  {
   "cell_type": "markdown",
   "metadata": {},
   "source": [
    "Vamos calcular\n",
    "\n",
    "$$I = \\int_{y=0}^{1/2} \\int_{x=0}^{1-2y} xy \\, dx \\, dy = \\frac{1}{96}$$\n",
    "\n",
    "Note que os limites de integração em $x$ dependem de $y$.\n",
    "\n",
    "A integral será de: $y = [0, 1/2]$, e $x$ variando entre $x_{inicial}$ = `xlo(y)`, $x_{final}$ = `xhi(y)`\n",
    "\n",
    "Isso significa que para cada valor de y, a integral de x será calculada dentro do intervalo determinado por essas funções."
   ]
  },
  {
   "cell_type": "code",
   "execution_count": null,
   "metadata": {},
   "outputs": [
    {
     "name": "stdout",
     "output_type": "stream",
     "text": [
      "0.010416666666666668 4.1016201284723663e-16\n"
     ]
    }
   ],
   "source": [
    "def integrand(y, x):\n",
    "    return x*y\n",
    "\n",
    "def x_lower_lim(y):\n",
    "    return 0\n",
    "    \n",
    "def x_upper_lim(y):\n",
    "    return 1-2*y\n",
    "\n",
    "# we change the definitions of x and y in this call\n",
    "I, err = integrate.dblquad(integrand, 0.0, 0.5, x_lower_lim, x_upper_lim)\n",
    "print(I, err)\n"
   ]
  },
  {
   "cell_type": "markdown",
   "metadata": {},
   "source": [
    "Se você se lembra das funções lambda em Python (funções de uso único), pode fazer isso de maneira mais compacta:"
   ]
  },
  {
   "cell_type": "code",
   "execution_count": null,
   "metadata": {},
   "outputs": [
    {
     "name": "stdout",
     "output_type": "stream",
     "text": [
      "0.010416666666666668\n"
     ]
    }
   ],
   "source": [
    "I, err = integrate.dblquad(lambda x, y: x*y, 0.0, 0.5, lambda y: 0, lambda y: 1-2*y)\n",
    "print(I)"
   ]
  },
  {
   "cell_type": "markdown",
   "metadata": {},
   "source": [
    "### Integração de uma função amostrada\n",
    "\n",
    "Em algumas situações, como em experimentos, a função que estamos tentando integrar pode não estar disponível em uma forma analítica, mas apenas como um conjunto de dados amostrados. Nestes casos, precisamos calcular a integral com base em uma sequência de pontos discretos. Assim, vamos calcular a integral\n",
    "\n",
    "$$I = \\int_0^{2\\pi} f(x_i) \\, dx$$\n",
    "\n",
    "onde os pontos $x_i$ são dados por $x_i = 0, \\ldots, 2\\pi$, definidos em $N$ pontos discretos.\n",
    "\n",
    "Há diversas maneiras de se integrar funções definidas por pontos. No caso de amostras com espaçamento arbitrário, as duas funções mais famosas são `trapezoid` e `simpson`. Elas utilizam as fórmulas de Newton-Cotes de ordem 1 e 2, respectivamente, para realizar a integração. A regra dos trapézios aproxima a função como uma linha reta entre pontos adjacentes, enquanto a regra de Simpson aproxima a função entre três pontos adjacentes como uma parábola.\n",
    "\n",
    "![image-2.png](attachment:image-2.png)\n"
   ]
  },
  {
   "cell_type": "code",
   "execution_count": null,
   "metadata": {},
   "outputs": [
    {
     "name": "stdout",
     "output_type": "stream",
     "text": [
      "3.141592653589793\n"
     ]
    }
   ],
   "source": [
    "N = 17\n",
    "x = np.linspace(0.0, 2.0*np.pi, N, endpoint=True)\n",
    "y = np.sin(x)**2\n",
    "\n",
    "I = integrate.trapezoid(y, x)\n",
    "print(I)"
   ]
  },
  {
   "cell_type": "code",
   "execution_count": null,
   "metadata": {},
   "outputs": [
    {
     "name": "stdout",
     "output_type": "stream",
     "text": [
      "3.141592653589793\n"
     ]
    }
   ],
   "source": [
    "N = 17\n",
    "x = np.linspace(0.0, 2.0*np.pi, N, endpoint=True)\n",
    "y = np.sin(x)**2\n",
    "\n",
    "I = integrate.simps(y, x)\n",
    "print(I)"
   ]
  }
 ],
 "metadata": {
  "kernelspec": {
   "display_name": "base",
   "language": "python",
   "name": "python3"
  },
  "language_info": {
   "codemirror_mode": {
    "name": "ipython",
    "version": 3
   },
   "file_extension": ".py",
   "mimetype": "text/x-python",
   "name": "python",
   "nbconvert_exporter": "python",
   "pygments_lexer": "ipython3",
   "version": "3.11.7"
  }
 },
 "nbformat": 4,
 "nbformat_minor": 4
}
