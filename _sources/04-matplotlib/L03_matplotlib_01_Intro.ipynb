{
 "cells": [
  {
   "cell_type": "markdown",
   "metadata": {},
   "source": [
    "# Entendendo o matplotlib"
   ]
  },
  {
   "cell_type": "markdown",
   "metadata": {},
   "source": [
    "[Matplotlib](https://matplotlib.org/) é uma biblioteca de *Python* voltada para a criação de gráficos, permitindo gerar figuras com alta qualidade para publicação em diversos formatos. A biblioteca possibilita a criação de gráficos de pontos e linhas, histogramas, densidades espectrais, gráficos de superfície e outros tipos, com apenas algumas linhas de código."
   ]
  },
  {
   "cell_type": "code",
   "execution_count": null,
   "metadata": {},
   "outputs": [],
   "source": [
    "import numpy as np\n",
    "import matplotlib.pyplot as plt\n"
   ]
  },
  {
   "cell_type": "markdown",
   "metadata": {},
   "source": [
    "## Conceitos do Matplotlib\n",
    "\n",
    "A biblioteca `matplotlib` é composta por um grande número de funções, o que pode ser intimidador para iniciantes. O objetivo principal da biblioteca é facilitar a visualização de dados, oferecendo todo o controle necessário. Na maioria das situações, o usuário utilizará comandos simples e de alto nível, mas sempre mantendo a possibilidade de usar comandos mais específicos e de baixo nível, que permitem ajustar detalhes precisos dos gráficos.\n",
    "\n",
    "O Matplotlib foi projetado com os seguintes objetivos (de acordo com a documentação do mpl):\n",
    "\n",
    "* Os gráficos devem ter uma ótima aparência -- qualidade para publicação (por exemplo, antialiasing)\n",
    "* Saída vetorial para inclusão em documentos TeX\n",
    "* Integrável em uma interface gráfica para o desenvolvimento de aplicações\n",
    "* O código deve ser fácil de entender e estender\n",
    "* Criar gráficos deve ser fácil\n",
    "* Os padrões devem ser bons, mas a personalização deve ser possível\n",
    "\n",
    "O Matplotlib é principalmente para dados 2D, mas há algumas interfaces básicas para 3D (superfície). Dados dessa forma exigem uma abordagem diferente."
   ]
  },
  {
   "cell_type": "markdown",
   "metadata": {},
   "source": [
    "### Galeria\n",
    "\n",
    "O Matplotlib tem uma ótima galeria em seu site — encontre algo lá que seja próximo do que você está tentando fazer e use como ponto de partida:\n",
    "\n",
    "https://matplotlib.org/stable/gallery/index.html\n",
    "\n",
    "Hoje em dia, acredito que você poderia simplesmente perguntar ao ChatGPT: 'Crie um gráfico no Matplotlib com quatro subpainéis organizados em uma grade 2x2, com eixos compartilhados, um mapa de cores no painel superior e uma legenda no painel inferior.'"
   ]
  },
  {
   "cell_type": "markdown",
   "metadata": {},
   "source": [
    "# Anatomia de uma figura\n",
    "\n",
    "Figuras são o objeto de nível mais alto e podem incluir múltiplos eixos\n",
    "![](https://matplotlib.org/2.0.2/_images/anatomy1.png)\n",
    "\n",
    "(figura de: http://matplotlib.org/faq/usage_faq.html#parts-of-a-figure )\n"
   ]
  }
 ],
 "metadata": {
  "kernelspec": {
   "display_name": "base",
   "language": "python",
   "name": "python3"
  },
  "language_info": {
   "codemirror_mode": {
    "name": "ipython",
    "version": 3
   },
   "file_extension": ".py",
   "mimetype": "text/x-python",
   "name": "python",
   "nbconvert_exporter": "python",
   "pygments_lexer": "ipython3",
   "version": "3.11.7"
  }
 },
 "nbformat": 4,
 "nbformat_minor": 4
}
