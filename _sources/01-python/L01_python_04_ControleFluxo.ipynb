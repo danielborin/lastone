{
 "cells": [
  {
   "cell_type": "markdown",
   "metadata": {},
   "source": [
    "# Controle de Fluxo (Condições e Laços)"
   ]
  },
  {
   "cell_type": "markdown",
   "metadata": {},
   "source": [
    "Normalmente, o interpretador executa as instruções de um programa sequencialmente, uma por vez. No entanto, as linhas que definem funções e classes são processadas apenas quando essas funções ou classes são chamadas. Além disso, algumas palavras-chave têm a capacidade de modificar a sequência de execução do programa.\n"
   ]
  },
  {
   "cell_type": "markdown",
   "metadata": {},
   "source": [
    "## Operadores Lógicos\n",
    "\n",
    "Em Python, existem três operadores lógicos (*booleanos*):\n",
    "\n",
    "* `or` (ou)\n",
    "* `and` (e)\n",
    "* `not` (não). \n",
    "\n",
    "Os operadores `or` e `and` trabalham com dois operandos e retornam valores lógicos, como **True** (verdadeiro) ou **False** (falso). Já o operador `not` recebe apenas um operando e retorna o valor lógico inverso. A tabela verdade a seguir mostra os resultados desses operadores para diferentes combinações de operandos.\n",
    "\n",
    "| x         | y         | `not` x | x `or` y| x `and` y |\n",
    "| --------- |:---------:| ---------:| ---------:| -----------:|\n",
    "| **True**  | **True**  | **False** | **True**  | **True**    |\n",
    "| **True**  | **False** | **False** | **True**  | **False**   |\n",
    "| **False** | **True**  | **True**  | **True**  | **False**   |\n",
    "| **False** | **False** | **True**  | **False** | **False**   |\n",
    "\n",
    "O operador `or` retorna **False** apenas quando ambos os operandos são falsos, por isso, em termos de desempenho, Python avalia o segundo operando apenas se o primeiro for **False**. Por sua vez, o operador `and` retorna **True** somente quando os dois operandos são verdadeiros, então Python só verifica o segundo operando se o primeiro for **True**. Esse comportamento, conhecido como \"curto-circuito\", pode ser usado para otimizar o código, colocando operações menos custosas à esquerda desses op\n"
   ]
  },
  {
   "cell_type": "markdown",
   "metadata": {},
   "source": [
    "## Operadores Relacionais\n",
    "\n",
    "O(a) usuário(a) de Python tem à disposição oito operadores de comparação (ou operadores relacionais), conforme apresentado na tabela abaixo. Os dois últimos operadores são casos especiais de verificação de igualdade e diferença de objetos, que serão abordados mais adiante no livro. Também veremos que, exceto para números, objetos de tipos diferentes nunca serão considerados iguais.\n",
    "\n",
    "| Operador         | Significado         |\n",
    "| --------- |---------|\n",
    "| `<`, `>`  | menor/maior que |\n",
    "| `<=`, `>=`  | menor/maior ou igual a |\n",
    "| `==`, `!=` | igual/diferente  |\n",
    "| `is`, `is not` | igualdade/diferença de objetos |\n",
    "\n",
    "As comparações podem ser encadeadas de forma livre, permitindo, por exemplo, verificar se o valor de uma variável `y` está dentro do intervalo `(0, 4]` da seguinte maneira:\n"
   ]
  },
  {
   "cell_type": "code",
   "execution_count": null,
   "metadata": {},
   "outputs": [
    {
     "data": {
      "text/plain": [
       "True"
      ]
     },
     "metadata": {},
     "output_type": "display_data"
    }
   ],
   "source": [
    "y = 2\n",
    "\n",
    "0 < y <= 4"
   ]
  },
  {
   "cell_type": "markdown",
   "metadata": {},
   "source": [
    "O código acima é equivalente ao código abaixo, que segue uma abordagem mais comum em outras linguagens de programação. No entanto, no formato encadeado apresentado anteriormente, a variável `y` é avaliada apenas uma vez, resultando em um código mais eficiente. Além disso, como as comparações envolvem um `and`, a segunda parte (`y <= 4`) só será avaliada se a primeira (`0 < y`) for **True**.\n"
   ]
  },
  {
   "cell_type": "code",
   "execution_count": null,
   "metadata": {},
   "outputs": [
    {
     "data": {
      "text/plain": [
       "True"
      ]
     },
     "metadata": {},
     "output_type": "display_data"
    }
   ],
   "source": [
    "0 < y and y <= 4"
   ]
  },
  {
   "cell_type": "markdown",
   "metadata": {},
   "source": [
    "## Condições (Instruções If)"
   ]
  },
  {
   "cell_type": "markdown",
   "metadata": {},
   "source": [
    "Os operadores condicionais `if` (se), `elif` (senão se) e `else` (senão) são empregados para criar blocos de código que serão executados apenas quando determinadas condições forem atendidas. Esses operadores, portanto, são blocos de **controle de fluxo**, já que alteram a sequência de execução do programa, como ilustrado no fluxograma abaixo."
   ]
  },
  {
   "cell_type": "markdown",
   "metadata": {},
   "source": [
    "<div style=\"text-align: center;\">\n",
    "    <img src=\"https://raw.githubusercontent.com/tmfilho/pyestbook/c53bb64992b805325fd0f982d5aa5f4ff96d7dd9/content/guide/images/flow-if.svg\" alt=\"Descrição da Imagem\">\n",
    "</div>"
   ]
  },
  {
   "cell_type": "markdown",
   "metadata": {},
   "source": [
    "O fluxograma acima representa uma entrevista de emprego onde a única pergunta é se o candidato tem conhecimento em Python ou não. Se a resposta for positiva, a pessoa é contratada de imediato. Caso contrário, continuará sem emprego. Esse cenário pode ser descrito da seguinte maneira: \n",
    "\n",
    "```{panels}\n",
    "\"**se** (`if`) a pessoa sabe Python, então está contratada; **senão** (`else`), está desempregada.\"\n",
    "```\n",
    "\n",
    "Em Python, isso seria escrito da seguinte forma:\n"
   ]
  },
  {
   "cell_type": "code",
   "execution_count": null,
   "metadata": {},
   "outputs": [
    {
     "data": {
      "text/plain": [
       "'hired'"
      ]
     },
     "metadata": {},
     "output_type": "display_data"
    }
   ],
   "source": [
    "knows_python = True\n",
    "\n",
    "if knows_python == True:\n",
    "    situation = 'hired'\n",
    "else:\n",
    "    situation = 'unemployed'\n",
    "\n",
    "print(situation)"
   ]
  },
  {
   "cell_type": "markdown",
   "metadata": {},
   "source": [
    "Observe que para utilizar a condicional acima fez-se uso da indentação.\n",
    "\n",
    "A indentação no python define o que chamos de *bloco de código*.  \n",
    "\n",
    "Blocos são seções de código que executam uma tarefa ou um conjunto de tarefas relacionadas. Essas seções podem definir operações condicionais, iterações (operações repetitivas), funções e tipos de dados. Além disso, blocos podem ser aninhados, ou seja, é possível incluir blocos dentro de outros, o que corresponde à definição de sub-tarefas.\n",
    "\n",
    "A principal diferença entre Python e outras linguagens, como R, C, Fortran e Java, é a forma como os blocos de código são representados. Em Python, utilizam-se níveis de indentação para definir os blocos, eliminando a necessidade de chaves `{}` para marcar o início e o fim dos mesmos ou palavras-chave de início (*begin*) e fim (*end*).\n",
    "\n"
   ]
  },
  {
   "cell_type": "markdown",
   "metadata": {},
   "source": [
    "A utilização de indentação para definir a estrutura do código oferece diversos benefícios, incluindo:\n",
    "\n",
    "1. **Menos necessidade de padrões adicionais**: a indentação será sempre de 4 espaços, e a IDE utilizada para escrever o código garante essa consistência automaticamente;\n",
    "2. **Uniformidade no estilo de indentação**: códigos de diferentes fontes são obrigados a seguir o mesmo estilo de indentação;\n",
    "3. **Redução de esforço**: não é preciso se preocupar com a definição de padrões para chaves ou indentação;\n",
    "4. **Código mais limpo**: a indentação contribui para uma aparência mais clara e organizada do código;\n",
    "5. **Execução condicional**: o código só funcionará se a indentação estiver correta, o que significa que, se o código parece correto, ele está de fato correto;\n",
    "6. **Evita confusão em blocos aninhados**: não há risco de confundir os escopos de blocos de código dentro de estruturas aninhadas.\n"
   ]
  },
  {
   "cell_type": "markdown",
   "metadata": {},
   "source": [
    "Retornando ao exemplo, observe que a variável `situation` não foi definida antes do bloco condicional. Isso não gera erro porque existem apenas dois fluxos possíveis para o código: `knows_python == True` ou `knows_python == False`. No entanto, se uma variável não for definida em todos os fluxos possíveis, pode ocorrer um erro. Por exemplo, imagine que, se a pessoa for contratada, ela receberá um salário de R$6000,00. Se a pessoa não souber Python e tentarmos acessar o salário, isso causará um erro."
   ]
  },
  {
   "cell_type": "code",
   "execution_count": null,
   "metadata": {},
   "outputs": [
    {
     "ename": "NameError",
     "evalue": "name 'salary' is not defined",
     "output_type": "error",
     "traceback": [
      "\u001b[0;31m---------------------------------------------------------------------------\u001b[0m\n",
      "\u001b[0;31mNameError\u001b[0m                                 Traceback (most recent call last)\n",
      "\u001b[0;32m<ipython-input-4-a57fd5684b67>\u001b[0m in \u001b[0;36m<module>\u001b[0;34m\u001b[0m\n",
      "\u001b[1;32m      7\u001b[0m     \u001b[0msituation\u001b[0m \u001b[0;34m=\u001b[0m \u001b[0;34m'unemployed'\u001b[0m\u001b[0;34m\u001b[0m\u001b[0;34m\u001b[0m\u001b[0m\n",
      "\u001b[1;32m      8\u001b[0m \u001b[0;34m\u001b[0m\u001b[0m\n",
      "\u001b[0;32m----> 9\u001b[0;31m \u001b[0msalary\u001b[0m\u001b[0;34m\u001b[0m\u001b[0;34m\u001b[0m\u001b[0m\n",
      "\u001b[0m\n",
      "\u001b[0;31mNameError\u001b[0m: name 'salary' is not defined"
     ]
    }
   ],
   "source": [
    "knows_python = False\n",
    "\n",
    "if knows_python == True:\n",
    "    situation = 'hired'\n",
    "    salary = 6000\n",
    "else:\n",
    "    situation = 'unemployed'\n",
    "\n",
    "salary"
   ]
  },
  {
   "cell_type": "markdown",
   "metadata": {},
   "source": [
    "Note que a linha que define o bloco condicional começa com o operador `if`, seguido por uma expressão, e termina com dois pontos. A linha que define o caso contrário contém apenas `else:`. Em geral, o `if` verifica se a expressão que o acompanha é `True` ou `False` e executa o bloco de código associado somente quando o resultado da expressão for `True`. Vale observar que, como o operador `if` já testa se a expressão é `True`, o código acima é redundante e pode ser simplificado para o seguinte teste: `(knows_python == True) == True`. Ou seja, a condição poderia ser escrita de maneira mais simples assim:\n"
   ]
  },
  {
   "cell_type": "code",
   "execution_count": null,
   "metadata": {},
   "outputs": [
    {
     "name": "stdout",
     "output_type": "stream",
     "text": [
      "hired\n"
     ]
    }
   ],
   "source": [
    "knows_python = True\n",
    "\n",
    "if knows_python:\n",
    "    situation = 'hired'\n",
    "else:\n",
    "    situation = 'unemployed'\n",
    "\n",
    "print(situation)"
   ]
  },
  {
   "cell_type": "markdown",
   "metadata": {},
   "source": [
    "Ao eliminar a necessidade de escrever explicitamente o teste de igualdade, Python torna o código mais próximo da linguagem natural.\n",
    "\n",
    "Como vimos, o código acima verifica se o valor de uma variável booleana é verdadeiro ou falso. No entanto, de maneira curiosa, Python também permite testar se `True` ou `False` se aplicam a outros tipos de valores, o que, embora não seja tão intuitivo, acaba sendo muito útil. Os valores que são avaliados como `False` incluem `None` (nulo), o valor `0` de qualquer tipo numérico e coleções vazias, como `''`, `()`, `[]`, `{}`, `set()`, `range(0)`. Todos os outros valores são avaliados como `True`."
   ]
  },
  {
   "cell_type": "code",
   "execution_count": null,
   "metadata": {},
   "outputs": [
    {
     "data": {
      "text/plain": [
       "'teste False'"
      ]
     },
     "metadata": {},
     "output_type": "display_data"
    }
   ],
   "source": [
    "if '':\n",
    "    result = 'teste True'\n",
    "else:\n",
    "    result = 'teste False'\n",
    "\n",
    "result"
   ]
  },
  {
   "cell_type": "code",
   "execution_count": null,
   "metadata": {},
   "outputs": [
    {
     "data": {
      "text/plain": [
       "'teste False'"
      ]
     },
     "metadata": {},
     "output_type": "display_data"
    }
   ],
   "source": [
    "if None:\n",
    "    result = 'teste True'\n",
    "else:\n",
    "    result = 'teste False'\n",
    "\n",
    "result    "
   ]
  },
  {
   "cell_type": "markdown",
   "metadata": {},
   "source": [
    "Isso permite testar facilmente se uma lista tem ou elementos ou não. Por exemplo:"
   ]
  },
  {
   "cell_type": "code",
   "execution_count": null,
   "metadata": {},
   "outputs": [],
   "source": [
    "if []:\n",
    "    result = 'lista com elementos'\n",
    "else:\n",
    "    result = 'lista vazia'\n",
    "\n",
    "result"
   ]
  },
  {
   "cell_type": "markdown",
   "metadata": {},
   "source": [
    "A expressão associada ao `if` pode ser tão complexa quanto necessário, utilizando operadores e chamadas de funções, que abordaremos mais adiante. O código abaixo verifica se a média de três valores é maior que 8 (vale notar que a expressão aritmética é avaliada antes da comparação):"
   ]
  },
  {
   "cell_type": "code",
   "execution_count": null,
   "metadata": {},
   "outputs": [
    {
     "name": "stdout",
     "output_type": "stream",
     "text": [
      "A média é maior do que 8\n"
     ]
    }
   ],
   "source": [
    "x1 = 1\n",
    "x2 = 3\n",
    "x3 = 6\n",
    "\n",
    "if (x1 + x2 + x3) / 3 > 3:\n",
    "    result = 'A média é maior do que 8'\n",
    "else:\n",
    "    result = 'A média é menor do que 8'\n",
    "\n",
    "print(result)"
   ]
  },
  {
   "cell_type": "markdown",
   "metadata": {},
   "source": [
    "### Múltiplas condições\n",
    "\n",
    "Os exemplos anteriores testaram apenas situações binárias, ou seja, com duas respostas possíveis. Para verificar mais condições dentro de um único bloco condicional, existem duas abordagens: \n",
    "\n",
    "* usar o comando `elif` para testar múltiplas situações \n",
    "* utilizar `ifs` aninhados. \n",
    "\n",
    "O comando `elif` funciona como o `else if` em outras linguagens de programação e pode ser interpretado como *senão se*. \n",
    "\n",
    "Vamos imaginar que, na entrevista de emprego que simulamos anteriormente, não seja perguntado apenas se a pessoa sabe ou não Python, mas quais linguagens de programação ela domina. \n",
    "\n",
    "1. Se a pessoa não souber nenhuma linguagem, continuará desempregada. \n",
    "1. Caso ela domine Python e R, será contratada como cientista de dados.\n",
    "1. Se souber outras linguagens, incluindo Python ou R (mas não as duas), será contratada como desenvolvedora de software. \n",
    "\n",
    "Essa entrevista poderia ser codificada em Python da seguinte maneira:"
   ]
  },
  {
   "cell_type": "code",
   "execution_count": null,
   "metadata": {},
   "outputs": [
    {
     "data": {
      "text/plain": [
       "'ciêntista de dados'"
      ]
     },
     "metadata": {},
     "output_type": "display_data"
    }
   ],
   "source": [
    "linguagens = ['Python', 'R']\n",
    "\n",
    "if not linguagens:\n",
    "    situação = 'desempregada'\n",
    "elif 'Python' in linguagens and 'R' in linguagens:\n",
    "    situação = 'ciêntista de dados'\n",
    "else:\n",
    "    situação = 'desenvolvedor de softwares'\n",
    "\n",
    "print(situação)"
   ]
  },
  {
   "cell_type": "code",
   "execution_count": null,
   "metadata": {},
   "outputs": [
    {
     "name": "stdout",
     "output_type": "stream",
     "text": [
      "desenvolvedor de softwares\n"
     ]
    }
   ],
   "source": [
    "linguagens = ['Python', 'JavaScript', 'C', 'Fortran']\n",
    "\n",
    "if not linguagens:\n",
    "    situação = 'desempregada'\n",
    "elif 'Python' in linguagens and 'R' in linguagens:\n",
    "    situação = 'ciêntista de dados'\n",
    "else:\n",
    "    situação = 'desenvolvedor de softwares'\n",
    "\n",
    "print(situação)"
   ]
  },
  {
   "cell_type": "markdown",
   "metadata": {},
   "source": [
    "Vamos imaginar que a empresa vai classificar o novo cientista de dados de acordo com sua experiência profissional em três níveis: júnior, pleno ou sênior. As condições para cada nível seriam:\n",
    "\n",
    "1. O candidato será considerado **cientista de dados júnior** se tiver menos de 3 anos de experiência.\n",
    "2. Se o candidato tiver entre 3 e 5 anos de experiência, será classificado como **cientista de dados pleno**.\n",
    "3. Para candidatos com 5 anos ou mais de experiência, a classificação será **cientista de dados sênior**.\n",
    "\n",
    "O código Python para essa situação seria:\n"
   ]
  },
  {
   "cell_type": "code",
   "execution_count": null,
   "metadata": {},
   "outputs": [
    {
     "data": {
      "text/plain": [
       "'cientista de dados pleno'"
      ]
     },
     "metadata": {},
     "output_type": "display_data"
    }
   ],
   "source": [
    "linguagens = ['Python', 'R']\n",
    "experiencia = 4\n",
    "\n",
    "if not linguagens:\n",
    "    situacao = 'desempregado'\n",
    "elif 'Python' in linguagens and 'R' in linguagens:\n",
    "    if experiencia < 3:\n",
    "        situacao = 'cientista de dados júnior'\n",
    "    elif experiencia < 5:\n",
    "        situacao = 'cientista de dados pleno'\n",
    "    else:\n",
    "        situacao = 'cientista de dados sênior'\n",
    "else:\n",
    "    situacao = 'desenvolvedor de softwares'\n",
    "\n",
    "situacao"
   ]
  },
  {
   "cell_type": "markdown",
   "metadata": {},
   "source": [
    "`if` permite a ramificação. O Python não possui uma instrução select/case como algumas outras linguagens, mas `if`, `elif` e `else` podem reproduzir qualquer funcionalidade de ramificação que você possa precisar."
   ]
  },
  {
   "cell_type": "markdown",
   "metadata": {},
   "source": [
    "```{admonition} Exercício Rapído\n",
    "Dado um valor de x, escreva um programa que imprima \"negativo\" se x for menor que 0, \"zero\" se x for igual a 0 e \"positivo\" caso contrário.\n",
    "```"
   ]
  },
  {
   "cell_type": "markdown",
   "metadata": {},
   "source": [
    "\n",
    "```{dropdown} Solução\n",
    "\n",
    "```python\n",
    "x = 0\n",
    "\n",
    "if x < 0:\n",
    "    print(\"negativo\")\n",
    "elif x == 0:\n",
    "    print(\"zero\")\n",
    "else:\n",
    "    print(\"positivo\")\n",
    "\n",
    "```\n"
   ]
  },
  {
   "cell_type": "markdown",
   "metadata": {},
   "source": [
    "## Loops (Laços)\n",
    "\n",
    "Um simples laço while — note a indentação para denotar o bloco que faz parte do laço.\n",
    "\n",
    "Aqui também usamos o operador compacto `+=`: `n += 1` é o mesmo que `n = n + 1`."
   ]
  },
  {
   "cell_type": "markdown",
   "metadata": {},
   "source": [
    "Os blocos condicionais permitem alterar o fluxo do programa, mas são executados apenas uma vez. Para repetir a execução de um bloco de código, utilizamos os operadores de laço, como **while** (enquanto) e **for** (para cada).\n"
   ]
  },
  {
   "cell_type": "markdown",
   "metadata": {},
   "source": [
    "### O comando while\n",
    "\n",
    "O comando **while** executa um bloco de código enquanto a expressão associada for avaliada como **True**, ou seja, ele age como um **if** repetido. \n",
    "\n",
    "Deve-se ter cuidado ao usá-lo, pois se a expressão nunca for avaliada como **False**, o código ficará preso em um laço infinito. "
   ]
  },
  {
   "cell_type": "code",
   "execution_count": null,
   "metadata": {},
   "outputs": [
    {
     "name": "stdout",
     "output_type": "stream",
     "text": [
      "0\n",
      "1\n",
      "2\n",
      "3\n",
      "4\n",
      "5\n",
      "6\n",
      "7\n",
      "8\n",
      "9\n"
     ]
    }
   ],
   "source": [
    "n = 0\n",
    "while n < 10:\n",
    "    print(n)\n",
    "    n += 1"
   ]
  },
  {
   "cell_type": "markdown",
   "metadata": {},
   "source": [
    "Podemos também usar o comando while para navegar entre elementos em uma lista."
   ]
  },
  {
   "cell_type": "markdown",
   "metadata": {},
   "source": [
    "Considere uma lista `l = [3, 1, 3, 5, 6]` com números inteiros, o programa abaixo remove os elementos dessa lista um a um, somando seus valores em uma variável `total` até que a lista esteja vazia. Ao final, o valor de `total` deve ser igual à soma de todos os elementos da lista. \n",
    "\n",
    "A operação `pop(0)` remove o primeiro elemento da lista (índice 0) e o retorna, nesse caso atribuindo-o à variável `value`.\n",
    "```"
   ]
  },
  {
   "cell_type": "code",
   "execution_count": null,
   "metadata": {},
   "outputs": [
    {
     "name": "stdout",
     "output_type": "stream",
     "text": [
      "[] 18\n"
     ]
    }
   ],
   "source": [
    "l = [3, 1, 3, 5, 6]\n",
    "\n",
    "total = 0\n",
    "\n",
    "while l:\n",
    "    valor = l.pop(0)\n",
    "    total = total + valor\n",
    "\n",
    "print(l,total)"
   ]
  },
  {
   "cell_type": "markdown",
   "metadata": {},
   "source": [
    "Observe que a expressão testada pelo ``while`` é simplesmente a lista ``l``. Como vimos anteriormente, uma lista é considerada ``False`` apenas quando está vazia, portanto, o laço ``while`` continuará a execução até que a lista ``l`` seja esvaziada. Assim como ocorre com o ``if``, o ``while`` também pode ter um \"caso contrário\", ou seja, um bloco de código associado ao operador ``else``, que será executado apenas quando a expressão vinculada ao ``while`` for avaliada como ``False``."
   ]
  },
  {
   "cell_type": "code",
   "execution_count": null,
   "metadata": {},
   "outputs": [
    {
     "name": "stdout",
     "output_type": "stream",
     "text": [
      "A lista está vazia\n"
     ]
    }
   ],
   "source": [
    "l = [3, 1, 3, 5, 6]\n",
    "\n",
    "total = 0\n",
    "mensagem = 'A lista não está vazia'\n",
    "\n",
    "while l:\n",
    "    valor = l.pop(0)\n",
    "    total = total + valor\n",
    "else:\n",
    "    mensagem = 'A lista está vazia'\n",
    "    \n",
    "print(mensagem)"
   ]
  },
  {
   "cell_type": "markdown",
   "metadata": {},
   "source": [
    "A execução de um laço `while` pode ser controlada por dois comandos: \n",
    "\n",
    "- `break`\n",
    "- `continue`. "
   ]
  },
  {
   "cell_type": "markdown",
   "metadata": {},
   "source": [
    "#### Break\n",
    "\n",
    "O comando `break` encerra o laço imediatamente, ou seja, o código dentro do bloco `else` não será executado. "
   ]
  },
  {
   "cell_type": "markdown",
   "metadata": {},
   "source": [
    "No exemplo abaixo, se o valor 5 for encontrado enquanto a lista está sendo processada, a execução irá parar."
   ]
  },
  {
   "cell_type": "code",
   "execution_count": null,
   "metadata": {},
   "outputs": [
    {
     "name": "stdout",
     "output_type": "stream",
     "text": [
      "A lista não está vazia 7\n"
     ]
    }
   ],
   "source": [
    "l = [3, 1, 3, 5, 6]\n",
    "\n",
    "total = 0\n",
    "mensagem = 'A lista não está vazia'\n",
    "\n",
    "while l:\n",
    "    valor = l.pop(0)\n",
    "    if valor == 5:\n",
    "        break\n",
    "\n",
    "    total = total + valor\n",
    "else:\n",
    "    mensagem = 'A lista está vazia'\n",
    "    \n",
    "print(mensagem, total)"
   ]
  },
  {
   "cell_type": "markdown",
   "metadata": {},
   "source": [
    "Perceba que a variável ``mensagem`` não foi alterada, pois seu valor só é atualizado dentro do bloco ``else``. Além disso, a variável ``total`` assume o valor 7, que é a soma de 3 + 1 + 3.\n"
   ]
  },
  {
   "cell_type": "markdown",
   "metadata": {},
   "source": [
    "#### Continue"
   ]
  },
  {
   "cell_type": "markdown",
   "metadata": {},
   "source": [
    "O comando ``continue``, por sua vez, faz com que o ``while`` retorne imediatamente para a verificação da expressão associada, pulando os passos seguintes dentro do seu bloco de código. \n",
    "\n",
    "No exemplo abaixo, se o valor 5 for encontrado, ele será ignorado, o que resulta em a variável ``total`` conter o valor 13 (3 + 1 + 3 + 6). A execução do bloco ``else`` não é alterada.\n"
   ]
  },
  {
   "cell_type": "code",
   "execution_count": null,
   "metadata": {},
   "outputs": [
    {
     "name": "stdout",
     "output_type": "stream",
     "text": [
      "A lista está vazia 13\n"
     ]
    }
   ],
   "source": [
    "l = [3, 1, 3, 5, 6]\n",
    "\n",
    "total = 0\n",
    "mensagem = 'A lista não está vazia'\n",
    "\n",
    "while l:\n",
    "    valor = l.pop(0)\n",
    "    if valor == 5:\n",
    "        continue\n",
    "\n",
    "    total = total + valor\n",
    "else:\n",
    "    mensagem = 'A lista está vazia'\n",
    "    \n",
    "print(mensagem, total)"
   ]
  },
  {
   "cell_type": "markdown",
   "metadata": {},
   "source": [
    "### O comando ``for``\n",
    "\n",
    "O comando ``for`` é utilizado para percorrer os elementos de uma coleção (como listas, tuplas ou strings). Ele pode ser entendido como:\n",
    "\n",
    "```{panels}\n",
    "\"**para cada** item **na** coleção **faça**\". \n",
    "```\n",
    "\n",
    "O bloco de código associado é executado uma vez para cada item da coleção, na ordem em que os elementos são retornados. Quando não houver mais elementos para iterar, as iterações se encerram e, se houver um bloco ``else`` relacionado ao ``for``, ele será executado."
   ]
  },
  {
   "cell_type": "markdown",
   "metadata": {},
   "source": [
    "O comando ``for`` é frequentemente utilizado em conjunto com coleções do tipo ``range``, que gera uma sequência de valores. Por exemplo, para somar todos os elementos no intervalo \\[0, 4), podemos usar:\n"
   ]
  },
  {
   "cell_type": "code",
   "execution_count": null,
   "metadata": {},
   "outputs": [
    {
     "data": {
      "text/plain": [
       "6"
      ]
     },
     "metadata": {},
     "output_type": "display_data"
    }
   ],
   "source": [
    "total = 0\n",
    "\n",
    "for i in range(4):\n",
    "    total += i\n",
    "\n",
    "total"
   ]
  },
  {
   "cell_type": "markdown",
   "metadata": {},
   "source": [
    "Podemos simplesmente acessar os itens da lista"
   ]
  },
  {
   "cell_type": "code",
   "execution_count": null,
   "metadata": {},
   "outputs": [
    {
     "name": "stdout",
     "output_type": "stream",
     "text": [
      "1\n",
      "2.0\n",
      "três\n",
      "4\n"
     ]
    }
   ],
   "source": [
    "alist = [1, 2.0, \"três\", 4]\n",
    "for a in alist:\n",
    "    print(a)"
   ]
  },
  {
   "cell_type": "markdown",
   "metadata": {},
   "source": [
    "Para somar todos os elementos de uma lista, pode-se fazer (note que a lista continua preenchida):"
   ]
  },
  {
   "cell_type": "code",
   "execution_count": null,
   "metadata": {},
   "outputs": [
    {
     "name": "stdout",
     "output_type": "stream",
     "text": [
      "21\n",
      "[2, 1, 4, 8, 6]\n"
     ]
    }
   ],
   "source": [
    "l = [2, 1, 4, 8, 6]\n",
    "total = 0\n",
    "\n",
    "for i in l:\n",
    "    total += i\n",
    "\n",
    "print(total)\n",
    "print(l)"
   ]
  },
  {
   "cell_type": "markdown",
   "metadata": {},
   "source": [
    "A cada iteração do código acima, o próximo elemento retornado pela lista é atribuído à variável ``i``. Por isso, ao final das iterações, ``i`` terá o valor do último elemento que foi atribuído a ela."
   ]
  },
  {
   "cell_type": "code",
   "execution_count": null,
   "metadata": {},
   "outputs": [
    {
     "data": {
      "text/plain": [
       "6"
      ]
     },
     "metadata": {},
     "output_type": "display_data"
    }
   ],
   "source": [
    "i"
   ]
  },
  {
   "cell_type": "markdown",
   "metadata": {},
   "source": [
    "Naturalmente, se o laço não chegar a executar, a variável nunca receberá um valor. Por exemplo:"
   ]
  },
  {
   "cell_type": "code",
   "execution_count": null,
   "metadata": {},
   "outputs": [
    {
     "ename": "NameError",
     "evalue": "name 'j' is not defined",
     "output_type": "error",
     "traceback": [
      "\u001b[0;31m------------------------------------------------\u001b[0m\n",
      "\u001b[0;31mNameError\u001b[0m      Traceback (most recent call last)\n",
      "\u001b[0;32m<ipython-input-38-86a4da602613>\u001b[0m in \u001b[0;36m<module>\u001b[0;34m()\u001b[0m\n",
      "\u001b[1;32m      4\u001b[0m     \u001b[0mtotal\u001b[0m \u001b[0;34m+=\u001b[0m \u001b[0;36m0\u001b[0m\u001b[0;34m\u001b[0m\u001b[0m\n",
      "\u001b[1;32m      5\u001b[0m \u001b[0;34m\u001b[0m\u001b[0m\n",
      "\u001b[0;32m----> 6\u001b[0;31m \u001b[0mj\u001b[0m\u001b[0;34m\u001b[0m\u001b[0m\n",
      "\u001b[0m\n",
      "\u001b[0;31mNameError\u001b[0m: name 'j' is not defined"
     ]
    }
   ],
   "source": [
    "total = 0\n",
    "\n",
    "for j in []:\n",
    "    total += 0\n",
    "\n",
    "j"
   ]
  },
  {
   "cell_type": "markdown",
   "metadata": {},
   "source": [
    "Podemos também interagir com strings. Quando fazemos isso, acessamos cada caractere de forma sequencial"
   ]
  },
  {
   "cell_type": "code",
   "execution_count": null,
   "metadata": {},
   "outputs": [
    {
     "name": "stdout",
     "output_type": "stream",
     "text": [
      "i\n",
      "s\n",
      "t\n",
      "o\n",
      " \n",
      "é\n",
      " \n",
      "u\n",
      "m\n",
      "a\n",
      " \n",
      "s\n",
      "t\n",
      "r\n",
      "i\n",
      "n\n",
      "g\n"
     ]
    }
   ],
   "source": [
    "for c in \"isto é uma string\":\n",
    "    print(c)"
   ]
  },
  {
   "cell_type": "markdown",
   "metadata": {},
   "source": [
    "Podemos combinar laços e testes `if` para realizar lógicas mais complexas, como sair do laço quando você encontra o que está procurando."
   ]
  },
  {
   "cell_type": "code",
   "execution_count": null,
   "metadata": {},
   "outputs": [
    {
     "name": "stdout",
     "output_type": "stream",
     "text": [
      "2\n"
     ]
    }
   ],
   "source": [
    "n = 0\n",
    "for a in alist:\n",
    "    if a == \"três\":\n",
    "        break\n",
    "    else:\n",
    "        n += 1\n",
    "\n",
    "print(n)\n"
   ]
  },
  {
   "cell_type": "markdown",
   "metadata": {},
   "source": [
    "(No entanto, para esse exemplo, há uma maneira mais simples.)"
   ]
  },
  {
   "cell_type": "code",
   "execution_count": null,
   "metadata": {},
   "outputs": [
    {
     "data": {
      "text/plain": [
       "2"
      ]
     },
     "metadata": {},
     "output_type": "display_data"
    }
   ],
   "source": [
    "alist.index(\"três\")"
   ]
  },
  {
   "cell_type": "markdown",
   "metadata": {},
   "source": [
    "Para dicionários, você também pode iterar sobre os elementos."
   ]
  },
  {
   "cell_type": "code",
   "execution_count": null,
   "metadata": {},
   "outputs": [
    {
     "name": "stdout",
     "output_type": "stream",
     "text": [
      "chave = chave1, valor = 1\n",
      "chave = chave2, valor = 2\n",
      "chave = chave3, valor = 3\n"
     ]
    }
   ],
   "source": [
    "my_dict = {\"chave1\":1, \"chave2\":2, \"chave3\":3}\n",
    "\n",
    "for k, v in my_dict.items():\n",
    "    print(\"chave = {}, valor = {}\".format(k, v))    # notice how we do the formatting here\n"
   ]
  },
  {
   "cell_type": "code",
   "execution_count": null,
   "metadata": {},
   "outputs": [
    {
     "name": "stdout",
     "output_type": "stream",
     "text": [
      "chave1 1\n",
      "chave2 2\n",
      "chave3 3\n"
     ]
    }
   ],
   "source": [
    "for k in my_dict:\n",
    "    print(k, my_dict[k])"
   ]
  },
  {
   "cell_type": "markdown",
   "metadata": {},
   "source": [
    "Às vezes, queremos iterar sobre um elemento de uma lista e saber seu índice — `enumerate()` ajuda aqui:"
   ]
  },
  {
   "cell_type": "code",
   "execution_count": null,
   "metadata": {},
   "outputs": [
    {
     "name": "stdout",
     "output_type": "stream",
     "text": [
      "0 1\n",
      "1 2.0\n",
      "2 três\n",
      "3 4\n"
     ]
    }
   ],
   "source": [
    "for n, a in enumerate(alist):\n",
    "    print(n, a)"
   ]
  },
  {
   "cell_type": "markdown",
   "metadata": {},
   "source": [
    "   \n",
    "A função `zip()` nos permite iterar sobre dois iteráveis ao mesmo tempo. Assim `zip(a, b)` atuará como uma lista, onde cada elemento é uma tupla com um item de `a` e o elemento correspondente de `b`."
   ]
  },
  {
   "cell_type": "code",
   "execution_count": null,
   "metadata": {},
   "outputs": [
    {
     "name": "stdout",
     "output_type": "stream",
     "text": [
      "1 a\n",
      "2 b\n",
      "3 c\n",
      "4 d\n",
      "5 e\n",
      "6 f\n",
      "7 g\n",
      "8 h\n"
     ]
    }
   ],
   "source": [
    "a = [1, 2, 3, 4, 5, 6, 7, 8]\n",
    "b = [\"a\", \"b\", \"c\", \"d\", \"e\", \"f\", \"g\", \"h\"]\n",
    "\n",
    "\n",
    "for x,y in zip(a,b):\n",
    "    print(x,y)\n",
    "\n"
   ]
  },
  {
   "cell_type": "code",
   "execution_count": null,
   "metadata": {},
   "outputs": [
    {
     "data": {
      "text/plain": [
       "[(1, 'a'),\n",
       " (2, 'b'),\n",
       " (3, 'c'),\n",
       " (4, 'd'),\n",
       " (5, 'e'),\n",
       " (6, 'f'),\n",
       " (7, 'g'),\n",
       " (8, 'h')]"
      ]
     },
     "metadata": {},
     "output_type": "display_data"
    }
   ],
   "source": [
    "list(zip(a,b))"
   ]
  },
  {
   "cell_type": "markdown",
   "metadata": {},
   "source": [
    "```{admonition} Exercício Rápido:\n",
    "    \n",
    "\n",
    "A função `.split()` em uma string pode dividi-la em palavras (separando por espaços).\n",
    "\n",
    "Usando `.split()`, itere sobre as palavras na string\n",
    "\n",
    "`a = \"O rato roeu a roupa do rei de roma\"`\n",
    "\n",
    "e imprima uma palavra por linha.\n",
    "\n",
    "```"
   ]
  },
  {
   "cell_type": "markdown",
   "metadata": {},
   "source": []
  },
  {
   "cell_type": "markdown",
   "metadata": {},
   "source": [
    "### Compreensão de listas\n",
    "\n",
    "A compreensão de listas (*list comprehension*) é uma técnica que possibilita a criação de novas coleções de maneira compacta, a partir de operações aplicadas a cada item de outras coleções. \n"
   ]
  },
  {
   "cell_type": "markdown",
   "metadata": {},
   "source": [
    "Por exemplo, o código a seguir cria uma lista com os quadrados dos números em ``range(10)``, utilizando o ``for``, conforme já discutido anteriormente:"
   ]
  },
  {
   "cell_type": "code",
   "execution_count": null,
   "metadata": {},
   "outputs": [
    {
     "data": {
      "text/plain": [
       "[0, 1, 4, 9, 16, 25, 36, 49, 64, 81]"
      ]
     },
     "metadata": {},
     "output_type": "display_data"
    }
   ],
   "source": [
    "xaoquadrado = []\n",
    "for x in range(10):\n",
    "    xaoquadrado.append(x**2)\n",
    "    \n",
    "print(xaoquadrado)"
   ]
  },
  {
   "cell_type": "markdown",
   "metadata": {},
   "source": [
    "A mesma lista pode ser criada usando compreensão de listas como segue:"
   ]
  },
  {
   "cell_type": "code",
   "execution_count": null,
   "metadata": {},
   "outputs": [
    {
     "data": {
      "text/plain": [
       "[0, 1, 4, 9, 16, 25, 36, 49, 64, 81]"
      ]
     },
     "metadata": {},
     "output_type": "display_data"
    }
   ],
   "source": [
    "xaoquadrado = [x**2 for x in range(10)]\n",
    "\n",
    "print(xaoquadrado)"
   ]
  },
  {
   "cell_type": "markdown",
   "metadata": {},
   "source": [
    "A compreensão de listas utiliza um ``for`` para atribuir cada valor de ``range`` à variável ``x``, cujo quadrado é então adicionado à nova lista ``squares``. Após a conclusão das iterações, a variável ``x`` terá o último valor que lhe foi atribuído.\n"
   ]
  },
  {
   "cell_type": "code",
   "execution_count": null,
   "metadata": {},
   "outputs": [
    {
     "data": {
      "text/plain": [
       "9"
      ]
     },
     "metadata": {},
     "output_type": "display_data"
    }
   ],
   "source": [
    "x"
   ]
  },
  {
   "cell_type": "markdown",
   "metadata": {},
   "source": [
    "Não é necessário que a coleção gerada pela compreensão de listas tenha o mesmo número de elementos que a coleção original. Por exemplo, o código abaixo calcula apenas os quadrados dos elementos pares (observe o ``if`` dentro do ``for``):"
   ]
  },
  {
   "cell_type": "code",
   "execution_count": null,
   "metadata": {},
   "outputs": [
    {
     "data": {
      "text/plain": [
       "[0, 4, 16, 36, 64]"
      ]
     },
     "metadata": {},
     "output_type": "display_data"
    }
   ],
   "source": [
    "xaoquadrado = [x**2 for x in range(10) if x % 2 == 0]\n",
    "\n",
    "print(xaoquadrado)"
   ]
  },
  {
   "cell_type": "markdown",
   "metadata": {},
   "source": [
    "Também é possível utilizar o operador ``else`` dentro de uma compreensão de listas. Nesse caso, o ``if`` e o ``else`` devem preceder o ``for``, formando uma estrutura conhecida como operador ternário:\n",
    "\n",
    " <valor> ``if`` <expressão> ``else`` <outro_valor>\n"
   ]
  },
  {
   "cell_type": "code",
   "execution_count": null,
   "metadata": {},
   "outputs": [
    {
     "data": {
      "text/plain": [
       "[0, 1, 4, 3, 16, 5, 36, 7, 64, 9]"
      ]
     },
     "metadata": {},
     "output_type": "display_data"
    }
   ],
   "source": [
    "xaoquadrado = [x**2 if x % 2 == 0 else x for x in range(10)]\n",
    "\n",
    "print(xaoquadrado)"
   ]
  },
  {
   "cell_type": "markdown",
   "metadata": {},
   "source": [
    "Observe que o ``if`` só aparece antes do ``for`` quando faz parte de um operador ternário. Ou seja, um ``if`` sem o ``else`` antes do ``for`` resulta em um erro de sintaxe:"
   ]
  },
  {
   "cell_type": "code",
   "execution_count": null,
   "metadata": {},
   "outputs": [
    {
     "ename": "SyntaxError",
     "evalue": "invalid syntax (<ipython-input-5-a09845830dd4>, line 1)",
     "output_type": "error",
     "traceback": [
      "\u001b[0;36m  File \u001b[0;32m\"<ipython-input-5-a09845830dd4>\"\u001b[0;36m, line \u001b[0;32m1\u001b[0m\n",
      "\u001b[0;31m    [x**2 if x % 2 == 0 for x in range(10)]\u001b[0m\n",
      "\u001b[0m                          ^\u001b[0m\n",
      "\u001b[0;31mSyntaxError\u001b[0m\u001b[0;31m:\u001b[0m invalid syntax\n"
     ]
    }
   ],
   "source": [
    "[x**2 if x % 2 == 0 for x in range(10)]"
   ]
  },
  {
   "cell_type": "code",
   "execution_count": null,
   "metadata": {},
   "outputs": [],
   "source": []
  }
 ],
 "metadata": {
  "kernelspec": {
   "display_name": "base",
   "language": "python",
   "name": "python3"
  },
  "language_info": {
   "codemirror_mode": {
    "name": "ipython",
    "version": 3
   },
   "file_extension": ".py",
   "mimetype": "text/x-python",
   "name": "python",
   "nbconvert_exporter": "python",
   "pygments_lexer": "ipython3",
   "version": "3.11.7"
  }
 },
 "nbformat": 4,
 "nbformat_minor": 4
}
