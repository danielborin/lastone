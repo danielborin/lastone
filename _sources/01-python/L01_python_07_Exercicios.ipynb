{
 "cells": [
  {
   "cell_type": "markdown",
   "metadata": {},
   "source": [
    "# Exercícios: Básico do Python"
   ]
  },
  {
   "cell_type": "markdown",
   "metadata": {},
   "source": [
    "1) Elabore um programa em Python que leia três números reais e calcule a média desses números, exibindo o resultado na tela."
   ]
  },
  {
   "cell_type": "code",
   "execution_count": null,
   "metadata": {},
   "outputs": [],
   "source": [
    "pass"
   ]
  },
  {
   "cell_type": "markdown",
   "metadata": {},
   "source": [
    "2. Calcule a área de um círculo de raio 2. Assuma *pi = 3.14*. "
   ]
  },
  {
   "cell_type": "code",
   "execution_count": 20,
   "metadata": {},
   "outputs": [],
   "source": [
    "pass"
   ]
  },
  {
   "cell_type": "markdown",
   "metadata": {},
   "source": [
    "3. Sabemos que a conversão de uma temperatura em Celsius para Fahrenheit é dada pela fórmula:\n",
    "\n",
    "    $$ F = \\frac{9}{5} \\cdot C + 32 $$\n",
    "\n",
    "    Crie um programa que receba uma temperatura em Celsius e exiba o valor correspondente em Fahrenheit na tela.\n"
   ]
  },
  {
   "cell_type": "code",
   "execution_count": null,
   "metadata": {},
   "outputs": [],
   "source": [
    "pass"
   ]
  },
  {
   "cell_type": "markdown",
   "metadata": {},
   "source": [
    "4. A fórmula usada para calcular os juros compostos é:\n",
    "\n",
    "    $$ M = C \\times \\left( 1 + \\frac{J}{100} \\right)^P $$\n",
    "\n",
    "    em que:\n",
    "    - $ C $ é o capital inicial,\n",
    "    - $ J $ é a taxa de juros mensal (%),\n",
    "    - $ P $ é o período em meses.\n",
    "\n",
    "    Desenvolva um programa que leia os valores de $ C $, $ J $ e $ P $, e calcule e mostre na tela o valor final após a aplicação dos juros compostos.\n"
   ]
  },
  {
   "cell_type": "code",
   "execution_count": null,
   "metadata": {},
   "outputs": [],
   "source": [
    "pass"
   ]
  },
  {
   "cell_type": "markdown",
   "metadata": {},
   "source": [
    "5. A média final do curso é calculada pela seguinte fórmula:\n",
    "\n",
    "    $$ MF = 0.35 \\times P1 + 0.35 \\times P2 + 0.2 \\times NT + 0.1 \\times EX $$\n",
    "\n",
    "    Onde:\n",
    "    - P1 é a nota da primeira avaliação,\n",
    "    - P2 é a nota da segunda avaliação,\n",
    "    - NT é a nota dos trabalhos.\n",
    "\n",
    "    Crie um programa que leia as notas P1, P2 e NT, calcule a média final e imprima a situação do aluno com base na média final:\n",
    "    - \"Reprovado\" se a média for inferior a 5,\n",
    "    - \"Recuperação\" se a média estiver entre 5 e 6,\n",
    "    - \"Aprovado\" se a média for maior ou igual a 6.\n"
   ]
  },
  {
   "cell_type": "code",
   "execution_count": null,
   "metadata": {},
   "outputs": [],
   "source": [
    "pass"
   ]
  },
  {
   "cell_type": "markdown",
   "metadata": {},
   "source": [
    "6. O índice de massa corpórea (IMC) de uma pessoa é calculado pela fórmula:\n",
    "\n",
    "    $$ IMC = \\frac{peso}{altura^2} $$\n",
    "\n",
    "    em que:\n",
    "    - peso é o peso da pessoa em quilogramas,\n",
    "    - altura é a altura da pessoa em metros.\n",
    "\n",
    "    Com base no IMC calculado, a classificação do indivíduo é a seguinte:\n",
    "\n",
    "    - Abaixo de 18,5: \"Abaixo do peso\",\n",
    "    - Entre 18,5 e 24,9: \"Peso normal\",\n",
    "    - Entre 25,0 e 29,9: \"Sobrepeso\",\n",
    "    - Entre 30,0 e 34,9: \"Obesidade grau 1\",\n",
    "    - Entre 35,0 e 39,9: \"Obesidade grau 2\",\n",
    "    - Acima de 40,0: \"Obesidade grau 3\".\n",
    "\n",
    "    Crie um programa que leia o peso e a altura de um indivíduo, calcule seu IMC e imprima o valor calculado, além da sua classificação de acordo com a tabela acima."
   ]
  },
  {
   "cell_type": "code",
   "execution_count": null,
   "metadata": {},
   "outputs": [],
   "source": [
    "pass"
   ]
  },
  {
   "cell_type": "markdown",
   "metadata": {},
   "source": [
    "7. Uma equação do 2º grau é representada pela forma padrão:\n",
    "\n",
    "    $$ ax^2 + bx + c = 0 $$\n",
    "\n",
    "    As soluções para essa equação são dadas pela famosa fórmula de Bhaskara:\n",
    "\n",
    "    $$ x_1 = \\frac{-b - \\sqrt{\\Delta}}{2a} $$\n",
    "\n",
    "    $$ x_2 = \\frac{-b + \\sqrt{\\Delta}}{2a} $$\n",
    "\n",
    "    em que $ \\Delta = b^2 - 4ac $ é o discriminante.\n",
    "\n",
    "    Crie um programa que, dados os valores de $a$, $b$ e $c$, calcule e imprima as soluções reais da equação do 2º grau, de acordo com as condições:\n",
    "\n",
    "    - $a$ não pode ser igual a zero.\n",
    "    - $ \\Delta $ não pode ser negativo. Se $ \\Delta = 0 $, existe apenas uma solução real."
   ]
  },
  {
   "cell_type": "code",
   "execution_count": null,
   "metadata": {},
   "outputs": [],
   "source": [
    "pass"
   ]
  },
  {
   "cell_type": "markdown",
   "metadata": {},
   "source": [
    "8. Uma fruteira possui a seguinte tabela de preços para frutas:\n",
    "\n",
    "    | Tipo de fruta | Até 5 Kg | Acima de 5 Kg |\n",
    "    |---------------|----------|---------------|\n",
    "    | Morango       | R$ 2,50 por Kg | R$ 2,20 por Kg |\n",
    "    | Maçã          | R$ 1,80 por Kg | R$ 1,50 por Kg |\n",
    "\n",
    "    Se o cliente comprar mais de 8 Kg no total ou se o valor total da compra ultrapassar R$ 25,00, será concedido um desconto de 10% sobre o total.\n",
    "\n",
    "    Crie um programa que leia a quantidade de morangos (em Kg) e a quantidade de maçãs (em Kg) compradas, calcule o valor total da compra e determine o valor a ser pago pelo cliente, aplicando o desconto se necessário.\n"
   ]
  },
  {
   "cell_type": "code",
   "execution_count": null,
   "metadata": {},
   "outputs": [],
   "source": [
    "pass"
   ]
  },
  {
   "cell_type": "markdown",
   "metadata": {},
   "source": [
    "9. Elabore um programa que solicite a entrada de quatro notas, armazene-as em uma lista e exiba na tela as notas informadas, junto com a média calculada delas.\n"
   ]
  },
  {
   "cell_type": "code",
   "execution_count": null,
   "metadata": {},
   "outputs": [],
   "source": [
    "pass"
   ]
  },
  {
   "cell_type": "markdown",
   "metadata": {},
   "source": [
    "10. Escreva um código que imprima os elementos menores que 5 na seguinte lista:"
   ]
  },
  {
   "cell_type": "code",
   "execution_count": null,
   "metadata": {},
   "outputs": [],
   "source": [
    "a = [1, 4, 2, 3, 2, 1, 5, 8, 5, 7, -1, 0, 23]"
   ]
  },
  {
   "cell_type": "markdown",
   "metadata": {},
   "source": [
    "11. Escreva um código que encontra todos os divisores do número 42."
   ]
  },
  {
   "cell_type": "code",
   "execution_count": 23,
   "metadata": {},
   "outputs": [],
   "source": [
    "pass"
   ]
  },
  {
   "cell_type": "markdown",
   "metadata": {},
   "source": [
    "12. Calcule a multiplicação das duas matrizes abaixo sem usar laços:"
   ]
  },
  {
   "cell_type": "code",
   "execution_count": 15,
   "metadata": {},
   "outputs": [],
   "source": [
    "a = [[2, 3], [4, 2]]\n",
    "b = [[2, 0], [1, 2]]"
   ]
  },
  {
   "cell_type": "markdown",
   "metadata": {},
   "source": [
    "13. Calcule a multiplicação das duas matrizes acima usando laços"
   ]
  },
  {
   "cell_type": "code",
   "execution_count": 24,
   "metadata": {},
   "outputs": [],
   "source": [
    "pass"
   ]
  },
  {
   "cell_type": "markdown",
   "metadata": {},
   "source": [
    "14. Calcule o fatorial de 5 usando algum tipo de laço."
   ]
  },
  {
   "cell_type": "code",
   "execution_count": 25,
   "metadata": {},
   "outputs": [],
   "source": [
    "pass"
   ]
  },
  {
   "cell_type": "markdown",
   "metadata": {},
   "source": [
    "15. Calcule a distância Euclidiana dos seguintes vetores:"
   ]
  },
  {
   "cell_type": "code",
   "execution_count": 14,
   "metadata": {},
   "outputs": [],
   "source": [
    "a, b = [1, 0, 1], [-1, 2, 3]"
   ]
  },
  {
   "cell_type": "markdown",
   "metadata": {},
   "source": [
    "16. Crie um programa que leia um número limite $N$ e imprima todos os números pares de 0 até $N$ (inclusive, caso $N$ seja par).\n"
   ]
  },
  {
   "cell_type": "code",
   "execution_count": null,
   "metadata": {},
   "outputs": [],
   "source": [
    "pass"
   ]
  },
  {
   "cell_type": "markdown",
   "metadata": {},
   "source": [
    "17. Imprima as potências de 2, começando em $2^0$, enquanto o resultado for menor do que 2000."
   ]
  },
  {
   "cell_type": "code",
   "execution_count": 27,
   "metadata": {},
   "outputs": [],
   "source": [
    "pass"
   ]
  },
  {
   "cell_type": "markdown",
   "metadata": {},
   "source": [
    "18. Verifique se o número 79 é primo."
   ]
  },
  {
   "cell_type": "code",
   "execution_count": 28,
   "metadata": {},
   "outputs": [],
   "source": [
    "pass"
   ]
  },
  {
   "cell_type": "markdown",
   "metadata": {},
   "source": [
    "19. Crie um programa que leia um número $N$ e calcule a soma dos $N$ primeiros números inteiros. \n"
   ]
  },
  {
   "cell_type": "markdown",
   "metadata": {},
   "source": [
    "20. Escreva uma linha de código Python que gere uma lista apenas com os valores divisíveis por 2 e por 5 na lista abaixo:"
   ]
  },
  {
   "cell_type": "code",
   "execution_count": 17,
   "metadata": {},
   "outputs": [],
   "source": [
    "a = [1, 4, 10, 13, 15, 16, 20, 28, 30]"
   ]
  },
  {
   "cell_type": "markdown",
   "metadata": {},
   "source": [
    "21. Escreva um laço que resulte no sétimo elemento da [sequência de Fibonacci](https://pt.wikipedia.org/wiki/Sequ%C3%AAncia_de_Fibonacci) (lembrando que em Python os índices começam em 0):"
   ]
  },
  {
   "cell_type": "code",
   "execution_count": 29,
   "metadata": {},
   "outputs": [],
   "source": [
    "pass"
   ]
  },
  {
   "cell_type": "markdown",
   "metadata": {},
   "source": [
    "22. Séries definidas por somatórios matemáticos são utilizadas para computar e aproximar diversas quantidades importantes. Para cada uma das séries abaixo, crie um programa que calcule o valor da série:\n",
    "\n",
    "    a) \n",
    "\n",
    "    $$ S = \\frac{1}{1} + \\frac{2}{2} + \\frac{5}{3} + \\frac{7}{4} + \\dots + \\frac{99}{50} $$\n",
    "\n",
    "    b) \n",
    "\n",
    "    $$ W = \\frac{1}{1} - \\frac{2}{4} + \\frac{3}{9} - \\frac{4}{16} + \\frac{5}{25} - \\frac{6}{36} + \\dots + \\frac{10}{100} $$\n",
    "\n",
    "    c) \n",
    "\n",
    "    $$ Z = \\frac{1000}{1} - \\frac{997}{2} + \\frac{994}{3} - \\frac{991}{4} $$\n",
    "\n",
    "    O programa deve calcular e imprimir o valor de cada uma dessas séries.\n"
   ]
  },
  {
   "cell_type": "code",
   "execution_count": null,
   "metadata": {},
   "outputs": [],
   "source": [
    "pass"
   ]
  },
  {
   "cell_type": "markdown",
   "metadata": {},
   "source": [
    "23. A constante matemática $\\pi$ é amplamente utilizada em diversas áreas do conhecimento, como física, geometria e engenharia. Existem várias maneiras de aproximar o valor de $\\pi$ por meio de séries matemáticas, que são sequências de números que convergem para esse valor conforme somamos mais termos. Abaixo, apresentamos três séries clássicas para calcular aproximações de $\\pi$. \n",
    "\n",
    " 1) **Série de Leibniz**\n",
    "\n",
    "    Uma das séries mais conhecidas para calcular $\\pi$ é a **série de Leibniz**, que é uma soma infinita alternada. A fórmula para calcular $\\pi$ usando essa série é:\n",
    "\n",
    "    $$\n",
    "    \\pi = 4 \\sum_{n=0}^{\\infty} \\frac{(-1)^n}{2n+1} = 4 \\left( 1 - \\frac{1}{3} + \\frac{1}{5} - \\frac{1}{7} + \\frac{1}{9} - \\cdots \\right)\n",
    "    $$\n",
    "\n",
    "\n",
    " 2) **Série de Basel**\n",
    "\n",
    "    Outra maneira de calcular aproximações de $\\pi$ vem da **série de Basel**, que envolve a soma dos inversos dos quadrados dos números naturais. A fórmula é a seguinte:\n",
    "\n",
    "    $$\n",
    "    \\pi = \\sqrt{\\sum_{n=1}^{\\infty} \\frac{1}{n^2}} = \\sqrt{1 + \\frac{1}{4} + \\frac{1}{9} + \\frac{1}{16} + \\frac{1}{25} + \\cdots}\n",
    "    $$\n",
    "\n",
    "3) **Produto de Wallis**\n",
    "\n",
    "    Uma terceira forma de aproximar $\\pi$ é por meio do **produto de Wallis**, que é um produto infinito de frações. A fórmula para esse cálculo é:\n",
    "\n",
    "    $$\n",
    "    \\pi = 4 \\times \\frac{2}{3} \\times \\frac{4}{3} \\times \\frac{6}{5} \\times \\frac{8}{7} \\times \\cdots\n",
    "    $$\n",
    "\n",
    "\n",
    "Para cada uma das séries descritas, desenvolva um programa que compute a aproximação de $\\pi$. O número de termos a ser considerado na série deve ser definido pelo usuário, para que ele possa observar a convergência do valor de $\\pi$ conforme mais termos são somados ou multiplicados. O objetivo é fornecer aproximações cada vez mais precisas de $\\pi$.\n",
    "\n"
   ]
  },
  {
   "cell_type": "code",
   "execution_count": null,
   "metadata": {},
   "outputs": [],
   "source": [
    "pass"
   ]
  },
  {
   "cell_type": "markdown",
   "metadata": {},
   "source": [
    "24. Uma forma de calcular a raiz quadrada de um número, quando ele é um quadrado perfeito, é realizar sucessivas subtrações de números ímpares consecutivos a partir de 1. O processo continua até que o valor restante seja zero ou negativo. O número de subtrações feitas é igual à raiz quadrada do número original.\n",
    "\n",
    "    Considerando o número 16:\n",
    "\n",
    "    Deve-se subtrair de 16 os números ímpares maiores que 1 até o resultado ser zero ou negativo:\n",
    "\n",
    "    1) 16 - 1 = 15  \n",
    "    2) 15 - 3 = 12  \n",
    "    3) 12 - 5 = 7  \n",
    "    4) 7 - 7 = 0\n",
    "\n",
    "    Ao realizar quatro subtrações, o valor chega a zero, e, portanto, a raiz quadrada de 16 é 4.\n",
    "\n",
    "    Elabore um programa que, dado um número inteiro que seja um quadrado perfeito, calcule sua raiz quadrada utilizando essa técnica de subtração de números ímpares.\n"
   ]
  },
  {
   "cell_type": "code",
   "execution_count": null,
   "metadata": {},
   "outputs": [],
   "source": [
    "pass"
   ]
  },
  {
   "cell_type": "markdown",
   "metadata": {},
   "source": [
    "25. Crie um programa que solicite um nome de usuário e uma senha. O programa deve validar essas informações com valores predefinidos e, caso estejam incorretos, exibir uma mensagem de erro, pedindo ao usuário para tentar novamente. Considere que o nome de usuário seja o seu primeiro nome e a senha seja **Scooby-dooby-doo**.\n"
   ]
  },
  {
   "cell_type": "code",
   "execution_count": null,
   "metadata": {},
   "outputs": [],
   "source": [
    "pass"
   ]
  },
  {
   "cell_type": "markdown",
   "metadata": {},
   "source": [
    "26. Elabore um programa que solicite a idade de *n* pessoas. Ao final, o programa deve calcular a média de idade do grupo e classificá-lo conforme os seguintes critérios:\n",
    "\n",
    "    - Se a média for entre 0 e 25, a turma será considerada \"jovem\".\n",
    "    - Se a média estiver entre 26 e 60, a turma será considerada \"adulta\".\n",
    "    - Se a média for superior a 60, a turma será considerada \"idosa\".\n",
    "\n",
    "    A classificação deverá ser exibida com base na média calculada das idades informadas.\n"
   ]
  },
  {
   "cell_type": "code",
   "execution_count": null,
   "metadata": {},
   "outputs": [],
   "source": [
    "pass"
   ]
  },
  {
   "cell_type": "markdown",
   "metadata": {},
   "source": [
    "27. Escreva uma função que calcule o raio de um círculo, dado um valor de raio. Peça um valor de raio ao usuário e calcule o valor da função."
   ]
  },
  {
   "cell_type": "code",
   "execution_count": 1,
   "metadata": {},
   "outputs": [],
   "source": [
    "pass"
   ]
  },
  {
   "cell_type": "markdown",
   "metadata": {},
   "source": [
    "28. Escreva uma função que verifica se um número é par. Se for, imprima uma mensagem. Se não for, imprima outra mensagem."
   ]
  },
  {
   "cell_type": "code",
   "execution_count": null,
   "metadata": {},
   "outputs": [],
   "source": [
    "pass"
   ]
  },
  {
   "cell_type": "markdown",
   "metadata": {},
   "source": [
    "30. No exercício acima, se o número for par, verifique se ele é múltiplo de 4. Se for, exiba uma mensagem diferente."
   ]
  },
  {
   "cell_type": "code",
   "execution_count": null,
   "metadata": {},
   "outputs": [],
   "source": [
    "pass"
   ]
  },
  {
   "cell_type": "markdown",
   "metadata": {},
   "source": [
    "31. Escreva uma função que recebe uma lista e um valor e retorna uma sub-lista apenas com os elementos menores do que o valor fornecido."
   ]
  },
  {
   "cell_type": "code",
   "execution_count": 2,
   "metadata": {},
   "outputs": [],
   "source": [
    "pass"
   ]
  },
  {
   "cell_type": "markdown",
   "metadata": {},
   "source": [
    "32. Escreva uma função que calcula a multiplicação de duas matrizes usando laços, mas apenas se as dimensões das matrizes forem compatíveis."
   ]
  },
  {
   "cell_type": "code",
   "execution_count": 3,
   "metadata": {},
   "outputs": [],
   "source": [
    "pass"
   ]
  },
  {
   "cell_type": "markdown",
   "metadata": {},
   "source": [
    "33. Um número primo é aquele que é divisível apenas por um e por ele mesmo. Escreva uma função que verifica se um número é primo."
   ]
  },
  {
   "cell_type": "code",
   "execution_count": 6,
   "metadata": {},
   "outputs": [],
   "source": [
    "pass"
   ]
  },
  {
   "cell_type": "markdown",
   "metadata": {},
   "source": [
    "34. Faça uma função que retorna todos os divisores de um número."
   ]
  },
  {
   "cell_type": "code",
   "execution_count": 7,
   "metadata": {},
   "outputs": [],
   "source": [
    "pass"
   ]
  },
  {
   "cell_type": "markdown",
   "metadata": {},
   "source": [
    "35. Implemente uma função que determine o valor máximo presente em uma lista de elementos."
   ]
  },
  {
   "cell_type": "code",
   "execution_count": null,
   "metadata": {},
   "outputs": [],
   "source": [
    "pass"
   ]
  },
  {
   "cell_type": "markdown",
   "metadata": {},
   "source": [
    "36. Faça uma função que calcula o fatorial de um número."
   ]
  },
  {
   "cell_type": "code",
   "execution_count": 8,
   "metadata": {},
   "outputs": [],
   "source": [
    "pass"
   ]
  },
  {
   "cell_type": "markdown",
   "metadata": {},
   "source": [
    "37. A função seno de um número pode ser aproximada por meio de uma série infinita, que calcula uma soma sucessiva de termos baseados no valor do ângulo. A fórmula dessa série é:\n",
    "\n",
    "    $$\n",
    "    \\text{sen}(x) = \\sum_{n=0}^{\\infty} \\frac{(-1)^n}{(2n+1)!} \\cdot x^{2n+1} = x - \\frac{x^3}{3!}+\\frac{x^5}{5!} - \\cdots\n",
    "    $$\n",
    "\n",
    "    Elabore um programa que aceite como entrada o valor do ângulo $x$ em radianos e o número de termos $n$ da série. O programa deve calcular e exibir o valor aproximado de $\\text{sen}(x)$ utilizando os $n$ primeiros termos dessa série.\n"
   ]
  },
  {
   "cell_type": "code",
   "execution_count": null,
   "metadata": {},
   "outputs": [],
   "source": [
    "pass"
   ]
  },
  {
   "cell_type": "markdown",
   "metadata": {},
   "source": [
    "38. A função cosseno de um número pode ser aproximada por meio de uma série infinita, que calcula uma soma sucessiva de termos baseados no valor do ângulo. A fórmula dessa série é:\n",
    "\n",
    "    $$\n",
    "    \\text{cos}(x) = \\sum_{n=0}^{\\infty} \\frac{(-1)^n}{(2n)!} \\cdot x^{2n} = 1 - \\frac{x^2}{2!}+\\frac{x^4}{4!} - \\cdots\n",
    "    $$\n",
    "\n",
    "    Elabore um programa que aceite como entrada o valor do ângulo $x$ em radianos e o número de termos $n$ da série. O programa deve calcular e exibir o valor aproximado de $\\text{sen}(x)$ utilizando os $n$ primeiros termos dessa série.\n"
   ]
  },
  {
   "cell_type": "code",
   "execution_count": null,
   "metadata": {},
   "outputs": [],
   "source": [
    "pass"
   ]
  },
  {
   "cell_type": "markdown",
   "metadata": {},
   "source": [
    "39. Escreva uma função que recebe uma lista, um valor e uma função de comparação e retorna uma sub-lista apenas com os elementos para os quais a função fornecida retorna **True**."
   ]
  },
  {
   "cell_type": "code",
   "execution_count": 12,
   "metadata": {},
   "outputs": [],
   "source": [
    "pass"
   ]
  },
  {
   "cell_type": "markdown",
   "metadata": {},
   "source": [
    "40. Implemente uma função que, dada uma lista de números inteiros L e um valor x, determine se x está presente na lista. Caso esteja, a função deve retornar o índice (posição) onde x se encontra. Se o valor não estiver na lista, a função deve retornar `False`. Essa tarefa é equivalente ao uso do operador `in` em Python, mas implementado de forma personalizada.\n"
   ]
  },
  {
   "cell_type": "code",
   "execution_count": null,
   "metadata": {},
   "outputs": [],
   "source": [
    "pass"
   ]
  },
  {
   "cell_type": "markdown",
   "metadata": {},
   "source": [
    "41. Dada a lista de números `L = [-8, -29, 100, 2, -2, 40, 23, -8, -7, 77]`, implemente funções que, ao receber a lista como entrada, retornem os seguintes resultados:\n",
    "\n",
    "    - a) Encontrar o menor número da lista\n",
    "\n",
    "    - b) Encontrar o maior número da lista\n",
    "\n",
    "    - c) Calcular a média dos elementos da lista\n",
    "\n",
    "    - d) Inverter a lista\n",
    "\n",
    "    - e) Calcular o desvio padrão dos elementos da lista\n",
    "\n",
    "        $$ \\text{Desvio} = \\sqrt{\\frac{1}{n} \\sum_{i=1}^{n} (x_i - \\bar{x})^2} $$\n",
    "\n",
    "        em que:\n",
    "        - $ x_i $ são os elementos da lista.\n",
    "        - $ \\bar{x} $ é a média dos elementos.\n",
    "        - $ n $ é o número de elementos da lista.\n",
    "\n"
   ]
  },
  {
   "cell_type": "code",
   "execution_count": null,
   "metadata": {},
   "outputs": [],
   "source": [
    "pass"
   ]
  },
  {
   "cell_type": "markdown",
   "metadata": {},
   "source": [
    "42. Implemente uma função que receba duas palavras como entrada (strings) e verifique se elas são palíndromas, ou seja, se uma palavra for o inverso exato da outra."
   ]
  },
  {
   "cell_type": "code",
   "execution_count": null,
   "metadata": {},
   "outputs": [],
   "source": [
    "pass"
   ]
  },
  {
   "cell_type": "markdown",
   "metadata": {},
   "source": [
    "43. Um _pangrama_ é uma sentença que contém todas as 26 letras do alfabeto ao menos uma vez. Por exemplo, as sentenças\n",
    "\n",
    "    - \"_Todo pajé vulgar faz boquinha sexy com kiwi._\" \n",
    "    - \"_Já fiz vinho com toque de kiwi para belga sexy._\"\n",
    "    - \"_Bancos fúteis pagavam-lhe queijo, whisky e xadrez._\" \n",
    "\n",
    "    são pangramas, pois inclui todas as letras do alfabeto.\n",
    "\n",
    "    Escreva uma função que receba uma sentença como entrada e retorne `True` se a sentença for um pangrama e `False` caso contrário.\n"
   ]
  },
  {
   "cell_type": "code",
   "execution_count": null,
   "metadata": {},
   "outputs": [],
   "source": [
    "pass"
   ]
  },
  {
   "cell_type": "markdown",
   "metadata": {},
   "source": [
    "44. Seja uma lista `L` que contém o nome de diversas pessoas:\n",
    "\n",
    "    ```python\n",
    "    L = ['mark', 'henry', 'matthew', 'paul', 'luke', 'robert', 'joseph', 'carl', 'michael']\n",
    "    ```\n",
    "\n",
    "    Escreva uma função que receba L como entrada e retorne um dicionário em que os nomes são agrupados pelo tamanho. (Por exemplo, na chave 4 deve ser armazenada uma lista com os nomes de 4 letras, e assim por diante.)"
   ]
  },
  {
   "cell_type": "code",
   "execution_count": null,
   "metadata": {},
   "outputs": [],
   "source": [
    "pass"
   ]
  },
  {
   "cell_type": "markdown",
   "metadata": {},
   "source": [
    "45. Em uma papelaria, os seguintes produtos estão disponíveis com os preços indicados abaixo:\n",
    "\n",
    "    - Caderno: R$ 10,00\n",
    "    - Pasta: R$ 7,50\n",
    "    - Lápis: R$ 2,50\n",
    "    - Caneta: R$ 3,00\n",
    "    - Borracha: R$ 4,00\n",
    "\n",
    "    a) Crie um dicionário `d` onde o nome de cada produto é a chave e o preço é o valor associado.\n",
    "\n",
    "    b) Desenvolva uma função que encontre o produto mais barato.\n",
    "\n",
    "    c) Devido à inflação, os produtos com preço abaixo de R$ 5 terão um aumento de 20%, enquanto os produtos com preço superior a R$ 5 terão um aumento de 10%. Escreva uma função que atualize os preços dos produtos conforme essa regra.\n"
   ]
  },
  {
   "cell_type": "code",
   "execution_count": null,
   "metadata": {},
   "outputs": [],
   "source": [
    "pass"
   ]
  },
  {
   "cell_type": "markdown",
   "metadata": {},
   "source": [
    "46. Em uma turma com N alunos, a avaliação final será realizada com base em 3 provas (P1, P2 e P3). Alunos com média inferior a 6 serão reprovados, enquanto os que tiverem média igual ou superior a 6 serão aprovados. A seguir, temos as questões a serem resolvidas:\n",
    "\n",
    "    a) Escreva um trecho de código em Python que crie um dicionário inicialmente vazio, chamado `dados`, onde a chave é o nome do aluno e o valor é uma lista contendo as 3 notas (P1, P2 e P3) do aluno.\n",
    "\n",
    "    | Aluno   | P1  | P2  | P3  |\n",
    "    |---------|-----|-----|-----|\n",
    "    | João    | 6.5 | 5.0 | 7.0 |\n",
    "    | Ana     | 8.5 | 4.0 | 7.5 |\n",
    "    | Carlos  | 3.0 | 5.0 | 7.0 |\n",
    "    | Maria   | 5.5 | 6.0 | 9.0 |\n",
    "    | José    | 3.5 | 5.0 | 6.0 |\n",
    "\n",
    "    b) Escreva uma função que percorra o dicionário `dados` e, para cada aluno, calcule a média das 3 notas. Com base na média, imprima o nome do aluno e sua condição (aprovado ou reprovado).\n",
    "\n",
    "    c) Os 3 melhores alunos da turma receberão uma bolsa de estudos. Escreva uma função que ordene os alunos pelas suas médias em ordem decrescente e imprima o nome dos alunos e suas respectivas médias. Isso deve gerar um ranking dos estudantes.\n"
   ]
  },
  {
   "cell_type": "code",
   "execution_count": null,
   "metadata": {},
   "outputs": [],
   "source": [
    "pass"
   ]
  },
  {
   "cell_type": "markdown",
   "metadata": {},
   "source": [
    "47. **(Desafio: Cálculo dos Dígitos Verificadores de um CPF)**\n",
    "\n",
    "    O número de um CPF é composto por 9 algarismos seguidos de dois dígitos verificadores, que aparecem após um hífen ou uma barra. Em resumo, o CPF possui 11 algarismos no total. Ele pode ser apresentado no formato `ABCDEFGHI-JK` ou simplesmente como `ABCDEFGHIJK`, sendo que os números não podem ser todos iguais.\n",
    "\n",
    "    Os dois últimos digitos são chamados de verificadores:\n",
    "\n",
    "    - **J** é o primeiro dígito verificador.\n",
    "    - **K** é o segundo dígito verificador.\n",
    "\n",
    "    **Como calcular o primeiro dígito (J)?**\n",
    "\n",
    "    Para calcular o primeiro dígito verificador, denominando-o como **J**, realizamos as seguintes multiplicações:\n",
    "\n",
    "    - Multiplicamos os 9 primeiros dígitos do CPF (A, B, C, D, E, F, G, H, I) pelas constantes:\n",
    "\n",
    "    - A × 10\n",
    "    - B × 9\n",
    "    - C × 8\n",
    "    - D × 7\n",
    "    - E × 6\n",
    "    - F × 5\n",
    "    - G × 4\n",
    "    - H × 3\n",
    "    - I × 2\n",
    "\n",
    "    A soma dos resultados dessas multiplicações é calculada e chamada de **S**.\n",
    "\n",
    "    Em seguida, dividimos **S** por 11 e analisamos o **resto** dessa divisão:\n",
    "\n",
    "    - Se o **resto** for 0 ou 1, o dígito **J** será 0.\n",
    "    - Se o **resto** for qualquer valor de 2 a 10, o dígito **J** será igual a **11 - resto**.\n",
    "\n",
    "    **Como calcular o segundo dígito (K)?**\n",
    "\n",
    "    Com o dígito **J** já calculado, seguimos para o cálculo do segundo dígito verificador, chamado **K**. Para isso, multiplicamos os 9 primeiros dígitos do CPF, além do dígito **J**, pelas seguintes constantes:\n",
    "\n",
    "    - A × 11\n",
    "    - B × 10\n",
    "    - C × 9\n",
    "    - D × 8\n",
    "    - E × 7\n",
    "    - F × 6\n",
    "    - G × 5\n",
    "    - H × 4\n",
    "    - I × 3\n",
    "    - J × 2\n",
    "\n",
    "    Calculamos a soma dos produtos resultantes, que também chamamos de **S**.\n",
    "\n",
    "    Novamente, dividimos a soma por 11 e analisamos o **resto**:\n",
    "\n",
    "    - Se o **resto** for 0 ou 1, o dígito **K** será 0.\n",
    "    - Se o **resto** for qualquer valor de 2 a 10, o dígito **K** será igual a **11 - resto**.\n",
    "\n",
    "    Crie uma função em Python que, ao receber os 9 primeiros dígitos de um CPF, calcule e gere os dois dígitos verificadores (J e K). O programa deve ser testado com um CPF válido.\n",
    "\n"
   ]
  },
  {
   "cell_type": "markdown",
   "metadata": {},
   "source": [
    "48. **(Desafio: Recursão).** \n",
    "\n",
    "    Recursão é uma abordagem para solucionar problemas que envolve dividir a tarefa em partes menores do mesmo tipo, i.e. é uma abordagem do tipo dividir-para-conquistar. Do ponto de vista computacional, um problema resolvido usando recursão envolve uma função que chama a si mesma até que o problema seja resolvido. Uma parte importante desse tipo de solução é a definição do ponto de parada da recursão, quando a função para de chamar a si mesma e começar a retornar os valores para as chamadas mais \"acima\". Vejamos um exemplo de recursão para o cálculo do fatorial de um número *n*:"
   ]
  },
  {
   "cell_type": "code",
   "execution_count": 13,
   "metadata": {},
   "outputs": [
    {
     "data": {
      "text/plain": [
       "(1, 1, 120)"
      ]
     },
     "execution_count": 13,
     "metadata": {},
     "output_type": "execute_result"
    }
   ],
   "source": [
    "def factorial(n):\n",
    "    if n == 0:\n",
    "        return 1\n",
    "    else:\n",
    "        return n * factorial(n - 1)\n",
    "\n",
    "factorial(0), factorial(1), factorial(5)"
   ]
  },
  {
   "cell_type": "markdown",
   "metadata": {},
   "source": [
    "    Agora implemente uma função recursiva que recebe um número e retorna o número correspondente na sequência de Fibonacci."
   ]
  },
  {
   "cell_type": "code",
   "execution_count": 14,
   "metadata": {},
   "outputs": [],
   "source": [
    "pass"
   ]
  },
  {
   "cell_type": "markdown",
   "metadata": {},
   "source": [
    "49. **(Desafio: Precisão da máquina)**\n",
    "\n",
    "  A _precisão da máquina_ é definida como o menor número $\\epsilon$ tal que, quando somado a 1, ainda resulta em um valor diferente de 1. Ou seja, é o menor valor que, quando adicionado a 1, não causa uma alteração no número devido às limitações de precisão do sistema.\n",
    "\n",
    "  Vamos calcular esse valor de $\\epsilon$:\n",
    "\n",
    "    * Escolha um valor inicial para $\\epsilon$, por exemplo, `eps = 1`.\n",
    "    \n",
    "    * Crie um laço que verifique se `1 + eps` é diferente de 1.\n",
    "    \n",
    "    * A cada iteração do laço, corte o valor de `eps` pela metade.\n",
    "    \n",
    "  Qual valor de $\\epsilon$ você encontra?\n"
   ]
  },
  {
   "cell_type": "code",
   "execution_count": null,
   "metadata": {},
   "outputs": [],
   "source": [
    "pass"
   ]
  },
  {
   "cell_type": "markdown",
   "metadata": {},
   "source": [
    "50. (Desafio: Interações - Parte 1)\n",
    "\n",
    "  Para iterar sobre tuplas, onde a tupla _i_-ésima contém os _i_-ésimos elementos de certas sequências, podemos usar a função `zip(*sequences)`.\n",
    "\n",
    "  Vamos iterar sobre duas listas, `names` e `age`, e imprimir as tuplas resultantes.\n",
    "\n",
    "    * Comece inicializando as listas `names = [\"Mary\", \"John\", \"Sarah\"]` e `age = [21, 56, 98]`.\n",
    "    \n",
    "    * Itere sobre as tuplas que contêm um nome e uma idade, a função `zip(list1, list2)` pode ser útil aqui.\n",
    "    \n",
    "    * Imprima strings formatadas do tipo \"*NOME tem IDADE anos*\"."
   ]
  },
  {
   "cell_type": "code",
   "execution_count": null,
   "metadata": {},
   "outputs": [],
   "source": [
    "pass"
   ]
  },
  {
   "cell_type": "markdown",
   "metadata": {},
   "source": [
    "51. (Desafio: Interações - Parte 2)\n",
    "\n",
    "A função `enumerate(sequence)` retorna tuplas contendo índices de objetos na sequência, e os próprios objetos. \n",
    "\n",
    "O módulo `random` fornece ferramentas para trabalhar com números aleatórios. Em particular, `random.randint(start, end)` gera um número aleatório que não é menor que `start` e não é maior que `end`.\n",
    "\n",
    "  * Gere uma lista de 10 números aleatórios de 0 a 9.\n",
    "  \n",
    "  * Usando a função `enumerate(random_list)`, itere sobre as tuplas de números aleatórios e seus índices, e imprima *\"Match: NÚMERO e ÍNDICE\"* se o número aleatório e seu índice na lista coincidirem."
   ]
  },
  {
   "cell_type": "code",
   "execution_count": null,
   "metadata": {},
   "outputs": [],
   "source": [
    "pass"
   ]
  },
  {
   "cell_type": "markdown",
   "metadata": {},
   "source": [
    "52. **(Desafio: Contando Palavras)**\n",
    "\n",
    "Considere o seguinte texto:\n",
    "\n",
    "\n",
    "```python\n",
    "texto = \"\"\"\n",
    "Ouviram do Ipiranga as margens plácidas\n",
    "De um povo heróico o brado retumbante,\n",
    "E o sol da Liberdade, em raios fúlgidos,\n",
    "Brilhou no céu da Pátria nesse instante.\n",
    "Se o penhor dessa igualdade\n",
    "Conseguimos conquistar com braço forte,\n",
    "Em teu seio, ó Liberdade,\n",
    "Desafia o nosso peito a própria morte!\n",
    "Ó Pátria amada, Idolatrada, Salve! Salve!\n",
    "Brasil, um sonho intenso, um raio vívido\n",
    "De amor e de esperança à terra desce,\n",
    "Se em teu formoso céu, risonho e límpido,\n",
    "A imagem do Cruzeiro resplandece.\n",
    "Gigante pela própria natureza,\n",
    "És belo, és forte, impávido colosso,\n",
    "E o teu futuro espelha essa grandeza\n",
    "Terra adorada, Entre outras mil,\n",
    "És tu, Brasil, Ó Pátria amada!\n",
    "Dos filhos deste solo és mãe gentil,\n",
    "Pátria amada, Brasil!\n",
    "Deitado eternamente em berço esplêndido,\n",
    "Ao som do mar e à luz do céu profundo,\n",
    "Fulguras, ó Brasil, florão da América,\n",
    "Iluminado ao sol do Novo Mundo!\n",
    "Do que a terra mais garrida\n",
    "Teus risonhos, lindos campos têm mais flores;\n",
    "\"Nossos bosques têm mais vida\",\n",
    "\"Nossa vida\" no teu seio \"mais amores\".\n",
    "Ó Pátria amada, Idolatrada, Salve! Salve!\n",
    "Brasil, de amor eterno seja símbolo\n",
    "O lábaro que ostentas estrelado,\n",
    "E diga o verde-louro desta flâmula\n",
    "Paz no futuro e glória no passado.\n",
    "Mas, se ergues da justiça a clava forte,\n",
    "Verás que um filho teu não foge à luta,\n",
    "Nem teme, quem te adora, a própria morte!\n",
    "Terra adorada Entre outras mil,\n",
    "És tu, Brasil, Ó Pátria amada!\n",
    "Dos filhos deste solo és mãe gentil,\n",
    "Pátria amada, Brasil!\n",
    "\"\"\"\n",
    "```\n",
    "\n",
    "Crie um dicionário que use as palavras únicas como chaves e tenha como valor o número de vezes que cada palavra aparece.\n",
    "\n",
    "a) Escreva um loop sobre as palavras na string (usando `split`) e faça o seguinte:\n",
    "   * remova qualquer pontuação (função `.replace()`)\n",
    "   * converta para minúsculas (função `.lower()`)\n",
    "   * verifique se a palavra já é uma chave no dicionário (usando o operador `in`)\n",
    "      - se a chave existir, incremente a contagem da palavra para essa chave\n",
    "      - caso contrário, adicione-a ao dicionário com a contagem apropriada de `1`.\n",
    "\n",
    "   Ao final, imprima as palavras e a contagem de quantas vezes elas aparecem.\n",
    "\n",
    "b) Refaça o exercício anterior e após a o item para coversão para eltras minusculas, use o `set` para garantir que as palavras repetidas sejam removidas e o `count` para contar quantas vezes cada palavra aparece na lista e crie o dicionário.\n",
    "\n",
    "c) Considerando o Hino Nacional Brasileiro, escreva uma função que retorne todas as palavras com exatamente $N$ letras. O texto do Hino e o valor de $N$ devem ser fornecidos como entradas para a função.\n"
   ]
  },
  {
   "cell_type": "code",
   "execution_count": null,
   "metadata": {},
   "outputs": [],
   "source": [
    "pass"
   ]
  },
  {
   "cell_type": "markdown",
   "metadata": {},
   "source": [
    "53. (Desafio: Cifra de César)\n",
    "\n",
    "Criptografia é o processo de transformar mensagens usando um conjunto de símbolos, com o objetivo de tornar seu conteúdo mais difícil de ser interpretado. Uma técnica simples para criptografar uma mensagem de texto é a **cifra de César**.\n",
    "\n",
    "A cifra de César consiste em deslocar cada letra do alfabeto um número fixo de vezes. Por exemplo, se o deslocamento for de três, a letra \"B\" se torna \"E\" no texto cifrado.\n",
    "\n",
    "a) Utilize um dicionário para implementar a cifra de César. Crie uma função chamada `encript` que receba três parâmetros: uma mensagem, um alfabeto e um valor K (deslocamento). A função deve retornar a mensagem criptografada.\n",
    "\n",
    "b) Da mesma forma, utilize um dicionário para implementar a cifra de César. Crie uma função chamada `decript` que também receba três parâmetros: uma mensagem, um alfabeto e um valor K (deslocamento). A função deve retornar a mensagem descriptografada."
   ]
  }
 ],
 "metadata": {
  "kernelspec": {
   "display_name": "Python 3",
   "language": "python",
   "name": "python3"
  },
  "language_info": {
   "codemirror_mode": {
    "name": "ipython",
    "version": 3
   },
   "file_extension": ".py",
   "mimetype": "text/x-python",
   "name": "python",
   "nbconvert_exporter": "python",
   "pygments_lexer": "ipython3",
   "version": "3.7.3"
  }
 },
 "nbformat": 4,
 "nbformat_minor": 2
}
