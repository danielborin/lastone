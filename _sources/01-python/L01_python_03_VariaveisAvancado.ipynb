{
 "cells": [
  {
   "cell_type": "markdown",
   "metadata": {},
   "source": [
    "# Variáveis de Tipo Avançado"
   ]
  },
  {
   "cell_type": "markdown",
   "metadata": {},
   "source": [
    "Estas notas seguem o tutorial oficial do Python de forma bastante próxima: http://docs.python.org/3/tutorial/"
   ]
  },
  {
   "cell_type": "markdown",
   "metadata": {},
   "source": [
    "## Listas"
   ]
  },
  {
   "cell_type": "markdown",
   "metadata": {},
   "source": [
    "Listas agrupam dados. Muitas linguagens têm arrays (vamos olhar para eles em breve no Python). Mas, ao contrário dos arrays na maioria das linguagens, as listas podem conter dados de todos os tipos diferentes — não precisam ser homogêneas. Os dados podem ser uma mistura de inteiros, números de ponto flutuante ou complexos, strings ou outros objetos (incluindo outras listas).\n",
    "\n",
    "Uma lista é definida usando colchetes:"
   ]
  },
  {
   "cell_type": "code",
   "execution_count": null,
   "metadata": {},
   "outputs": [],
   "source": [
    "a = [1, 2.0, \"minha lista\", 4]"
   ]
  },
  {
   "cell_type": "code",
   "execution_count": null,
   "metadata": {},
   "outputs": [
    {
     "data": {
      "text/plain": [
       "[1, 2.0, 'minha lista', 4]"
      ]
     },
     "metadata": {},
     "output_type": "display_data"
    }
   ],
   "source": [
    "a"
   ]
  },
  {
   "cell_type": "markdown",
   "metadata": {},
   "source": [
    "### Obtendo o tamanho da lista"
   ]
  },
  {
   "cell_type": "markdown",
   "metadata": {},
   "source": [
    "A função `len()` retorna o comprimento de uma lista."
   ]
  },
  {
   "cell_type": "code",
   "execution_count": null,
   "metadata": {},
   "outputs": [
    {
     "data": {
      "text/plain": [
       "4"
      ]
     },
     "metadata": {},
     "output_type": "display_data"
    }
   ],
   "source": [
    "len(a)"
   ]
  },
  {
   "cell_type": "markdown",
   "metadata": {},
   "source": [
    "### Acessando elementos da lista\n",
    "\n",
    "Listas tem acesso direto aos seus elementos por meio de índices inteiros— lembre-se de que o Python começa a contagem em 0:"
   ]
  },
  {
   "cell_type": "code",
   "execution_count": null,
   "metadata": {},
   "outputs": [
    {
     "data": {
      "text/plain": [
       "'minha lista'"
      ]
     },
     "metadata": {},
     "output_type": "display_data"
    }
   ],
   "source": [
    "a[2]"
   ]
  },
  {
   "cell_type": "markdown",
   "metadata": {},
   "source": [
    "Listas permitem acessar fatias (*slices*) dos seus valores, e.g para obter a fatia da lista *a* compreendida entre os índices \\[*1*, *3*):"
   ]
  },
  {
   "cell_type": "code",
   "execution_count": null,
   "metadata": {},
   "outputs": [
    {
     "data": {
      "text/plain": [
       "[2.0, 'minha lista']"
      ]
     },
     "metadata": {},
     "output_type": "display_data"
    }
   ],
   "source": [
    "a[1:3]"
   ]
  },
  {
   "cell_type": "markdown",
   "metadata": {},
   "source": [
    "Note que o lado direito do intervalo dos índices é aberto. Também é possível definir o intervalo da fatia com início, fim e incremento. O código abaixo seleciona os índices {*1*, *3* e *5*}."
   ]
  },
  {
   "cell_type": "code",
   "execution_count": null,
   "metadata": {},
   "outputs": [
    {
     "data": {
      "text/plain": [
       "[4, 8, 12]"
      ]
     },
     "metadata": {},
     "output_type": "display_data"
    }
   ],
   "source": [
    "s = [2, 4, 6, 8, 10, 12, 14, 16, 18]\n",
    "s[1:7:2]"
   ]
  },
  {
   "cell_type": "markdown",
   "metadata": {},
   "source": [
    "Nenhum dos três valores para definição da fatia é obrigatório. Se o início não for fornecido, a fatia irá iniciar do índice *0*. Se o fim não for definido, a fatia irá até a última posição da lista. Por fim, se o incremento não for informado, ele receberá o valor *1*."
   ]
  },
  {
   "cell_type": "code",
   "execution_count": null,
   "metadata": {},
   "outputs": [
    {
     "data": {
      "text/plain": [
       "[2, 4, 6]"
      ]
     },
     "metadata": {},
     "output_type": "display_data"
    }
   ],
   "source": [
    "s[:3]"
   ]
  },
  {
   "cell_type": "code",
   "execution_count": null,
   "metadata": {},
   "outputs": [
    {
     "data": {
      "text/plain": [
       "[6, 8, 10, 12, 14, 16, 18]"
      ]
     },
     "metadata": {},
     "output_type": "display_data"
    }
   ],
   "source": [
    "s[2:]"
   ]
  },
  {
   "cell_type": "markdown",
   "metadata": {},
   "source": [
    "Python também permite que os elementos sejam acessados usando índices negativos. Para entender esses índices, basta imaginar que a origem deixa de ser o *0* e passa a ser o tamanho da lista, **len**(*s*). Por exemplo, o índice *-1* corresponderá a **len**(*s*) - *1*, ou seja, a última posição da lista. O índice *-2* equivalerá à penúltima posição da lista, i.e. **len**(*s*) - *2*. Além disso, incrementos de fatias também podem ser negativos."
   ]
  },
  {
   "cell_type": "code",
   "execution_count": null,
   "metadata": {},
   "outputs": [
    {
     "data": {
      "text/plain": [
       "12"
      ]
     },
     "metadata": {},
     "output_type": "display_data"
    }
   ],
   "source": [
    "s[-1]"
   ]
  },
  {
   "cell_type": "code",
   "execution_count": null,
   "metadata": {},
   "outputs": [
    {
     "data": {
      "text/plain": [
       "1"
      ]
     },
     "metadata": {},
     "output_type": "display_data"
    }
   ],
   "source": [
    "s[-2]"
   ]
  },
  {
   "cell_type": "code",
   "execution_count": null,
   "metadata": {},
   "outputs": [
    {
     "data": {
      "text/plain": [
       "[9, 3, 2]"
      ]
     },
     "metadata": {},
     "output_type": "display_data"
    }
   ],
   "source": [
    "s = [4, 5, 0, 2, 3, 9, 7, 1, 12]\n",
    "\n",
    "s[5:2:-1]"
   ]
  },
  {
   "cell_type": "markdown",
   "metadata": {},
   "source": [
    "### Verificando se um item está presente\n",
    "\n",
    "Para verificar se um determinado valor **x** existe em uma lista ou vetor **s**, pode-se utilizar o operador **`in`**, que funciona de forma similar à notação matemática $x \\in \\vec{s}$, conforme exemplificado no código abaixo.\n"
   ]
  },
  {
   "cell_type": "code",
   "execution_count": null,
   "metadata": {},
   "outputs": [
    {
     "data": {
      "text/plain": [
       "True"
      ]
     },
     "metadata": {},
     "output_type": "display_data"
    }
   ],
   "source": [
    "s = [1, 2, -1]\n",
    "\n",
    "2 in s"
   ]
  },
  {
   "cell_type": "markdown",
   "metadata": {},
   "source": [
    "Por outro lado, para verificar se o elemento não pertence à lista, i.e. $x \\notin \\vec{s}$:"
   ]
  },
  {
   "cell_type": "code",
   "execution_count": null,
   "metadata": {},
   "outputs": [
    {
     "data": {
      "text/plain": [
       "True"
      ]
     },
     "metadata": {},
     "output_type": "display_data"
    }
   ],
   "source": [
    "3 not in s"
   ]
  },
  {
   "cell_type": "markdown",
   "metadata": {},
   "source": [
    "### Modificando a lista"
   ]
  },
  {
   "cell_type": "markdown",
   "metadata": {},
   "source": [
    "Ao contrário das strings, as listas são _mutáveis_, o que significa que seus elementos podem ser alterados, excluídos ou novos elementos podem ser inseridos. Para alterar um valor em uma lista, basta atribuir um novo valor à posição desejada:"
   ]
  },
  {
   "cell_type": "code",
   "execution_count": null,
   "metadata": {},
   "outputs": [
    {
     "name": "stdout",
     "output_type": "stream",
     "text": [
      "[1, 2.0, 'minha lista', 4, 6, 7]\n"
     ]
    }
   ],
   "source": [
    "print(a)"
   ]
  },
  {
   "cell_type": "code",
   "execution_count": null,
   "metadata": {},
   "outputs": [
    {
     "name": "stdout",
     "output_type": "stream",
     "text": [
      "[1, -2.0, 'minha lista', 4, 6, 7]\n"
     ]
    }
   ],
   "source": [
    "a[1] = -2.0\n",
    "print(a)"
   ]
  },
  {
   "cell_type": "markdown",
   "metadata": {},
   "source": [
    "Uma fatia inteira pode ser substituída pelos valores de uma outra lista do mesmo tamanho, como mostra o código abaixo."
   ]
  },
  {
   "cell_type": "code",
   "execution_count": null,
   "metadata": {},
   "outputs": [
    {
     "data": {
      "text/plain": [
       "[-1, -2.1, -2.0, 'minha lista', 4]"
      ]
     },
     "metadata": {},
     "output_type": "display_data"
    }
   ],
   "source": [
    "a[0:1] = [-1, -2.1]   # isso colocará dois itens no lugar onde 1 existia antes\n",
    "a"
   ]
  },
  {
   "cell_type": "markdown",
   "metadata": {},
   "source": [
    "Note que as listas podem até conter outras listas:"
   ]
  },
  {
   "cell_type": "code",
   "execution_count": null,
   "metadata": {},
   "outputs": [
    {
     "data": {
      "text/plain": [
       "[-1, ['outra lista', 3], -2.0, 'minha lista', 4]"
      ]
     },
     "metadata": {},
     "output_type": "display_data"
    }
   ],
   "source": [
    "a[1] = [\"outra lista\", 3]\n",
    "a"
   ]
  },
  {
   "cell_type": "markdown",
   "metadata": {},
   "source": [
    "O operador **del** permite remover uma fatia inteira da lista, reduzindo seu tamanho:"
   ]
  },
  {
   "cell_type": "code",
   "execution_count": null,
   "metadata": {},
   "outputs": [
    {
     "data": {
      "text/plain": [
       "[4, 2, 2, 9, 1, 12]"
      ]
     },
     "metadata": {},
     "output_type": "display_data"
    }
   ],
   "source": [
    "del s[2:7:2]\n",
    "\n",
    "s"
   ]
  },
  {
   "cell_type": "markdown",
   "metadata": {},
   "source": [
    "Assim como com strings, operadores matemáticos são definidos em listas:"
   ]
  },
  {
   "cell_type": "code",
   "execution_count": null,
   "metadata": {},
   "outputs": [
    {
     "data": {
      "text/plain": [
       "[1, 2.0, 'minha lista', 4, 'hello']"
      ]
     },
     "metadata": {},
     "output_type": "display_data"
    }
   ],
   "source": [
    "a+[\"hello\"]"
   ]
  },
  {
   "cell_type": "code",
   "execution_count": null,
   "metadata": {},
   "outputs": [
    {
     "data": {
      "text/plain": [
       "[1, 2.0, 'minha lista', 4, 1, 2.0, 'minha lista', 4]"
      ]
     },
     "metadata": {},
     "output_type": "display_data"
    }
   ],
   "source": [
    "a*2"
   ]
  },
  {
   "cell_type": "markdown",
   "metadata": {},
   "source": [
    "Existem muitos métodos que funcionam em listas. Dentre eles temos: Dois dos mais úteis são `append`, para adicionar ao final de uma lista, e `pop`, para remover o último elemento:"
   ]
  },
  {
   "cell_type": "markdown",
   "metadata": {},
   "source": [
    "Outras maneiras para adicionar novos elementos a uma lista, você pode usar as seguintes operações:\n",
    "\n",
    "- **`append`**: Adiciona um elemento ao **final** da lista.\n",
    "- **`insert`**: Adiciona um elemento na **posição específica** desejada.\n",
    "- **`extend`**: Adiciona os elementos de **outra lista** ao final da lista."
   ]
  },
  {
   "cell_type": "code",
   "execution_count": null,
   "metadata": {},
   "outputs": [],
   "source": [
    "a = [1, 2.0, \"minha lista\", 4]"
   ]
  },
  {
   "cell_type": "code",
   "execution_count": null,
   "metadata": {},
   "outputs": [
    {
     "data": {
      "text/plain": [
       "[1, 2.0, 'minha lista', 4, 6]"
      ]
     },
     "metadata": {},
     "output_type": "display_data"
    }
   ],
   "source": [
    "a.append(6)\n",
    "a"
   ]
  },
  {
   "cell_type": "code",
   "execution_count": null,
   "metadata": {},
   "outputs": [
    {
     "data": {
      "text/plain": [
       "[1, 2.0, 'minha lista', 5, 4, 6]"
      ]
     },
     "metadata": {},
     "output_type": "display_data"
    }
   ],
   "source": [
    "a.insert(3, 5)\n",
    "\n",
    "a"
   ]
  },
  {
   "cell_type": "code",
   "execution_count": null,
   "metadata": {},
   "outputs": [
    {
     "data": {
      "text/plain": [
       "[1, 2.0, 'minha lista', 5, 4, 6, 7, 8]"
      ]
     },
     "metadata": {},
     "output_type": "display_data"
    }
   ],
   "source": [
    "a.extend([7, 8])\n",
    "\n",
    "a"
   ]
  },
  {
   "cell_type": "markdown",
   "metadata": {},
   "source": [
    "Para remover elementos de uma lista, o Python oferece o método **`pop`**, que remove e retorna o elemento na posição especificada. Se você não passar um índice, o `pop` remove o **último elemento** da lista."
   ]
  },
  {
   "cell_type": "code",
   "execution_count": null,
   "metadata": {},
   "outputs": [
    {
     "data": {
      "text/plain": [
       "8"
      ]
     },
     "metadata": {},
     "output_type": "display_data"
    }
   ],
   "source": [
    "a.pop()"
   ]
  },
  {
   "cell_type": "code",
   "execution_count": null,
   "metadata": {},
   "outputs": [
    {
     "data": {
      "text/plain": [
       "[1, 2.0, 'minha lista', 5, 4, 6, 7]"
      ]
     },
     "metadata": {},
     "output_type": "display_data"
    }
   ],
   "source": [
    "a"
   ]
  },
  {
   "cell_type": "code",
   "execution_count": null,
   "metadata": {},
   "outputs": [
    {
     "name": "stdout",
     "output_type": "stream",
     "text": [
      "[1, 2.0, 'minha lista', 4, 6, 7]\n",
      "5\n"
     ]
    }
   ],
   "source": [
    "elemento_removido = a.pop(3)  # Remove o elemento na posição 3 (número 5)\n",
    "print(a)  \n",
    "print(elemento_removido)  "
   ]
  },
  {
   "cell_type": "markdown",
   "metadata": {},
   "source": [
    "```{admonition} Exercício Rápido:\n",
    "\n",
    "Uma operação que veremos muito é começar com uma lista vazia e adicionar elementos a ela. Uma lista vazia é criada como:\n",
    "\n",
    " a = []\n",
    "\n",
    "* Crie uma lista vazia\n",
    "* Adicione os inteiros de 1 a 10 a ela.\n",
    "* Agora remova-os da lista um por um.\n",
    "  \n",
    "```"
   ]
  },
  {
   "cell_type": "markdown",
   "metadata": {},
   "source": [
    "### Copiando listas\n",
    "\n",
    "Copiar pode parecer um pouco contra-intuitivo no início. A melhor maneira de pensar sobre isso é que sua lista vive em algum lugar na memória e, quando você faz \n",
    "\n",
    "```\n",
    "a = [1, 2, 3, 4]\n",
    "```\n",
    "\n",
    "então a variável `a` é configurada para apontar para aquele local na memória, então ela se refere à lista.\n",
    "\n",
    "Se então fizermos\n",
    "```\n",
    "b = a\n",
    "```\n",
    "então `b` também apontará para aquele mesmo local na memória — o exato mesmo objeto de lista.\n",
    "\n",
    "Como ambos estão apontando para o mesmo local na memória, se alterarmos a lista através de `a`, a mudança será refletida em `b` também:"
   ]
  },
  {
   "cell_type": "code",
   "execution_count": null,
   "metadata": {},
   "outputs": [
    {
     "name": "stdout",
     "output_type": "stream",
     "text": [
      "[1, 2, 3, 4]\n",
      "['alteração', 2, 3, 4]\n"
     ]
    }
   ],
   "source": [
    "a = [1, 2, 3, 4]\n",
    "b = a  # tanto a quanto b se referem ao mesmo objeto de lista na memória\n",
    "print(a)\n",
    "a[0] = \"alteração\"\n",
    "print(b)"
   ]
  },
  {
   "cell_type": "markdown",
   "metadata": {},
   "source": [
    "Se você quiser criar um novo objeto na memória que seja uma cópia de outro, você pode indexar a lista, usando `:` para obter todos os elementos, ou usar a função `list()`:"
   ]
  },
  {
   "cell_type": "code",
   "execution_count": null,
   "metadata": {},
   "outputs": [
    {
     "name": "stdout",
     "output_type": "stream",
     "text": [
      "['alteração', 'dois', 3, 4]\n",
      "['alteração', 2, 3, 4]\n"
     ]
    }
   ],
   "source": [
    "c = list(a)   # você também pode fazer c = a[:], que basicamente fatiará toda a lista\n",
    "a[1] = \"dois\"\n",
    "print(a)\n",
    "print(c)"
   ]
  },
  {
   "cell_type": "markdown",
   "metadata": {},
   "source": [
    "As coisas ficam um pouco complicadas quando uma lista contém outro objeto mutável, como outra lista. Então, a cópia que analisamos acima é apenas uma _cópia rasa_. Faremos isso com mais cuidado na próxima vez."
   ]
  },
  {
   "cell_type": "markdown",
   "metadata": {},
   "source": [
    "Quando estiver em dúvida, use a função `id()` para descobrir onde na memória um objeto está localizado (você não deve se preocupar com o que os valores dos números que você obtém de `id` significam, mas apenas se eles são os mesmos que os de outro objeto)."
   ]
  },
  {
   "cell_type": "code",
   "execution_count": null,
   "metadata": {},
   "outputs": [
    {
     "name": "stdout",
     "output_type": "stream",
     "text": [
      "4436542400 4436542400 4430978048\n"
     ]
    }
   ],
   "source": [
    "print(id(a), id(b), id(c))"
   ]
  },
  {
   "cell_type": "markdown",
   "metadata": {},
   "source": [
    "ou use o operador `is`"
   ]
  },
  {
   "cell_type": "code",
   "execution_count": null,
   "metadata": {},
   "outputs": [
    {
     "data": {
      "text/plain": [
       "True"
      ]
     },
     "metadata": {},
     "output_type": "display_data"
    }
   ],
   "source": [
    "a is b"
   ]
  },
  {
   "cell_type": "code",
   "execution_count": null,
   "metadata": {},
   "outputs": [
    {
     "data": {
      "text/plain": [
       "False"
      ]
     },
     "metadata": {},
     "output_type": "display_data"
    }
   ],
   "source": [
    "a is c"
   ]
  },
  {
   "cell_type": "markdown",
   "metadata": {},
   "source": [
    "Existem muitos outros métodos que funcionam em listas"
   ]
  },
  {
   "cell_type": "code",
   "execution_count": null,
   "metadata": {},
   "outputs": [
    {
     "data": {
      "text/plain": [
       "[-1, -1, 2, 5, 9, 10, 24]"
      ]
     },
     "metadata": {},
     "output_type": "display_data"
    }
   ],
   "source": [
    "my_list = [10, -1, 5, 24, 2, -1, 9]\n",
    "my_list.sort() # Ordena a lista em ordem crescente\n",
    "my_list"
   ]
  },
  {
   "cell_type": "code",
   "execution_count": null,
   "metadata": {},
   "outputs": [
    {
     "data": {
      "text/plain": [
       "2"
      ]
     },
     "metadata": {},
     "output_type": "display_data"
    }
   ],
   "source": [
    "my_list.count(-1) # Conta quantas vezes o valor -1 aparece na lista"
   ]
  },
  {
   "cell_type": "markdown",
   "metadata": {},
   "source": [
    "Podemos também inserir elementos."
   ]
  },
  {
   "cell_type": "code",
   "execution_count": null,
   "metadata": {},
   "outputs": [
    {
     "data": {
      "text/plain": [
       "['alteração', 'dois', 3, 'meu elemento inserido', 4]"
      ]
     },
     "metadata": {},
     "output_type": "display_data"
    }
   ],
   "source": [
    "a.insert(3, \"meu elemento inserido\")\n",
    "a"
   ]
  },
  {
   "cell_type": "markdown",
   "metadata": {},
   "source": [
    "Abaixo estão alguns métodos comuns utilizados com listas em Python, com suas respectivas descrições de efeitos:"
   ]
  },
  {
   "cell_type": "markdown",
   "metadata": {},
   "source": [
    "### Tabela 1.1: Métodos de Listas\n",
    "\n",
    "| Método               | Efeito                                                               |\n",
    "|----------------------|----------------------------------------------------------------------|\n",
    "| `L.append(objeto)`    | Adiciona um elemento ao final da lista.                              |\n",
    "| `L.count(elemento)`   | Retorna o número de ocorrências do elemento.                         |\n",
    "| `L.extend(list)`      | Concatena listas.                                                   |\n",
    "| `L.index(value)`      | Retorna índice da primeira ocorrência do valor.                      |\n",
    "| `L.insert(i, o)`      | Insere objeto (o) antes de índice (i).                               |\n",
    "| `L.pop([indice])`     | Remove e retorna objeto no índice ou o último elemento.              |\n",
    "| `L.remove(value)`     | Remove a primeira ocorrência do valor.                               |\n",
    "| `L.reverse()`         | Inverte lista. In situ.                                              |\n",
    "| `L.sort()`            | Ordena lista. In locus.                                              |\n"
   ]
  },
  {
   "cell_type": "markdown",
   "metadata": {},
   "source": [
    "**In situ** significa \"no local\", ou seja, a ação é realizada diretamente no objeto ou estrutura de dados, sem criar uma nova cópia. Um exemplo disso é a função `L.reverse()`, que inverte a lista no próprio local. Já **in locus** também significa \"no local\", mas é mais comumente usado para descrever operações feitas diretamente em estruturas de dados, como a função `L.sort()`, que ordena a lista sem criar uma nova. \n",
    "\n",
    "Por exemplo, imagine que você tem uma lista `L = [1, 2, 3]`. Quando você usa o método `L.reverse()`, ele inverte a lista **no próprio local**, ou seja, a lista original é modificada para `L = [3, 2, 1]` e não cria uma nova lista. Isso é um exemplo de **in situ**. Já se você usar `L.sort()`, a lista `L` será ordenada **no próprio local** também, ou seja, a lista é modificada diretamente e não cria uma nova lista ordenada. Isso é **in locus**.\n",
    "\n",
    "Em resumo, tanto o **in situ** quanto o **in locus** indicam que a operação ocorre diretamente no local da estrutura de dados, sem criar uma nova instância. A diferença está no uso dos termos em contextos ligeiramente diferentes, mas ambos envolvem a modificação da estrutura original.\n"
   ]
  },
  {
   "cell_type": "markdown",
   "metadata": {},
   "source": [
    "### Concatenando listas"
   ]
  },
  {
   "cell_type": "markdown",
   "metadata": {},
   "source": [
    "Dadas duas listas *s1* e *s2*, pode-se concatená-las, produzindo uma terceira lista. Assim como com strings, o operador `+` concatena:"
   ]
  },
  {
   "cell_type": "code",
   "execution_count": null,
   "metadata": {},
   "outputs": [
    {
     "name": "stdout",
     "output_type": "stream",
     "text": [
      "[1, 2, 3, 4, 5, 6]\n"
     ]
    }
   ],
   "source": [
    "b = [1, 2, 3]\n",
    "c = [4, 5, 6]\n",
    "d = b + c\n",
    "print(d)"
   ]
  },
  {
   "cell_type": "markdown",
   "metadata": {},
   "source": [
    "### Verificando a presença de um item\n",
    "\n",
    "Para verificar se um valor *x* pertence à lista ou vetor *s*, usa-se o operador **in**, que equivale à notação matemática $x \\in \\vec{s}$, como mostra o código abaixo."
   ]
  },
  {
   "cell_type": "code",
   "execution_count": null,
   "metadata": {},
   "outputs": [],
   "source": [
    "s = [1, 2, -1]\n",
    "\n",
    "2 in s"
   ]
  },
  {
   "cell_type": "markdown",
   "metadata": {},
   "source": [
    "## Intervalos\n",
    "\n",
    "O tipo de coleção `range` é imutável e contém sequências de números. Ele é definido por três valores: início, fim (intervalo aberto) e incremento. Caso o início ou o incremento não sejam informados, eles assumem, respectivamente, os valores *0* e *1*. \n",
    "\n",
    "Por exemplo, um `range` definido com início $j$, fim $k$ e incremento $t$ gera a sequência $r = \\left\\{j \\leq r_i < k~|~r_i =j + t * i, i \\geq 0\\right\\}$."
   ]
  },
  {
   "cell_type": "markdown",
   "metadata": {},
   "source": [
    "Vamos analisar cada parte da coleção `range`:\n",
    "\n",
    "- **`range(start, stop, step)`**: A função `range()` gera uma sequência de números. Ela aceita três argumentos:\n",
    "  - **`start`**: O valor inicial da sequência (inclusivo).\n",
    "  - **`stop`**: O valor final da sequência (exclusivo). Isso significa que a sequência irá parar antes de chegar no valor `stop`.\n",
    "  - **`step`**: O incremento entre cada número na sequência.\n"
   ]
  },
  {
   "cell_type": "markdown",
   "metadata": {},
   "source": [
    "Uma característica importante do `range` é que ele ocupa a mesma quantidade de memória, independentemente do tamanho do intervalo, pois só armazena os valores de início, fim e incremento. Os valores da sequência são gerados apenas quando solicitados, o que significa que, ao criar um `range`, ele não imprime automaticamente todos os elementos. \n",
    "\n",
    "Por exemplo, o comando abaixo cria um `range` de 0 até 10, mas não exibe todos os valores de imediato.\n"
   ]
  },
  {
   "cell_type": "code",
   "execution_count": null,
   "metadata": {},
   "outputs": [
    {
     "data": {
      "text/plain": [
       "range(0, 10)"
      ]
     },
     "metadata": {},
     "output_type": "display_data"
    }
   ],
   "source": [
    "range(10)"
   ]
  },
  {
   "cell_type": "markdown",
   "metadata": {},
   "source": [
    "Para imprimir todos os elementos, pode-se criar uma lista a partir do intervalo:"
   ]
  },
  {
   "cell_type": "code",
   "execution_count": null,
   "metadata": {},
   "outputs": [
    {
     "data": {
      "text/plain": [
       "[0, 1, 2, 3, 4, 5, 6, 7, 8, 9]"
      ]
     },
     "metadata": {},
     "output_type": "display_data"
    }
   ],
   "source": [
    "list(range(0, 10))"
   ]
  },
  {
   "cell_type": "markdown",
   "metadata": {},
   "source": [
    "Uma fatia de um **range** também é um **range**, mantendo a vantagem de usar pouca memória. Por outra lado, valores únicos podem ser acessados diretamente usando seus índices."
   ]
  },
  {
   "cell_type": "code",
   "execution_count": null,
   "metadata": {},
   "outputs": [
    {
     "data": {
      "text/plain": [
       "range(3, 7, 2)"
      ]
     },
     "metadata": {},
     "output_type": "display_data"
    }
   ],
   "source": [
    "range(1,12)[2:6:2]"
   ]
  },
  {
   "cell_type": "code",
   "execution_count": null,
   "metadata": {},
   "outputs": [
    {
     "data": {
      "text/plain": [
       "[3, 5]"
      ]
     },
     "metadata": {},
     "output_type": "display_data"
    }
   ],
   "source": [
    "list(range(1,12)[2:6:2])"
   ]
  },
  {
   "cell_type": "code",
   "execution_count": null,
   "metadata": {},
   "outputs": [
    {
     "data": {
      "text/plain": [
       "5"
      ]
     },
     "metadata": {},
     "output_type": "display_data"
    }
   ],
   "source": [
    "range(1,12)[4]"
   ]
  },
  {
   "cell_type": "markdown",
   "metadata": {},
   "source": [
    "Note que `range()` pode receber um passo."
   ]
  },
  {
   "cell_type": "code",
   "execution_count": null,
   "metadata": {},
   "outputs": [
    {
     "data": {
      "text/plain": [
       "[2, 4, 6, 8]"
      ]
     },
     "metadata": {},
     "output_type": "display_data"
    }
   ],
   "source": [
    "list(range(2, 10, 2))"
   ]
  },
  {
   "cell_type": "code",
   "execution_count": null,
   "metadata": {},
   "outputs": [
    {
     "name": "stdout",
     "output_type": "stream",
     "text": [
      "2\n",
      "4\n",
      "6\n",
      "8\n"
     ]
    }
   ],
   "source": [
    "for n in range(2, 10, 2):\n",
    "    print(n)"
   ]
  },
  {
   "cell_type": "markdown",
   "metadata": {},
   "source": [
    "## Operações em Lista e Intervalos"
   ]
  },
  {
   "cell_type": "markdown",
   "metadata": {},
   "source": [
    "As operações em lista e intervalo fornecem uma maneira compacta de inicializar realizar operações"
   ]
  },
  {
   "cell_type": "code",
   "execution_count": null,
   "metadata": {},
   "outputs": [
    {
     "data": {
      "text/plain": [
       "[0, 1, 2, 3, 4, 5, 6, 7, 8, 9]"
      ]
     },
     "metadata": {},
     "output_type": "display_data"
    }
   ],
   "source": [
    "list(range(10))"
   ]
  },
  {
   "cell_type": "code",
   "execution_count": null,
   "metadata": {},
   "outputs": [],
   "source": [
    "squares = [x**2 for x in range(10)]"
   ]
  },
  {
   "cell_type": "code",
   "execution_count": null,
   "metadata": {},
   "outputs": [
    {
     "data": {
      "text/plain": [
       "[0, 1, 4, 9, 16, 25, 36, 49, 64, 81]"
      ]
     },
     "metadata": {},
     "output_type": "display_data"
    }
   ],
   "source": [
    "squares"
   ]
  },
  {
   "cell_type": "markdown",
   "metadata": {},
   "source": [
    "Aqui, usamos outro tipo de Python, a tupla, para combinar números de duas listas em um par."
   ]
  },
  {
   "cell_type": "code",
   "execution_count": null,
   "metadata": {},
   "outputs": [
    {
     "data": {
      "text/plain": [
       "[(1, 3), (1, 4), (2, 3), (2, 1), (2, 4), (3, 1), (3, 4)]"
      ]
     },
     "metadata": {},
     "output_type": "display_data"
    }
   ],
   "source": [
    "[(x, y) for x in [1,2,3] for y in [3,1,4] if x != y]"
   ]
  },
  {
   "cell_type": "markdown",
   "metadata": {},
   "source": [
    "```{admonition} Exercício Rapído\n",
    "\n",
    "Use uma operação de lista para criar uma nova lista a partir de `squares` contendo apenas os números pares. Pode ser útil usar o operador de módulo, `%`.\n",
    "\n",
    "```"
   ]
  },
  {
   "cell_type": "code",
   "execution_count": null,
   "metadata": {},
   "outputs": [],
   "source": []
  },
  {
   "cell_type": "markdown",
   "metadata": {},
   "source": [
    "## Tuplas"
   ]
  },
  {
   "cell_type": "markdown",
   "metadata": {},
   "source": [
    "As tuplas são imutáveis — elas não podem ser alteradas, mas são úteis para organizar dados em algumas situações. Usamos () para indicar uma tupla:"
   ]
  },
  {
   "cell_type": "code",
   "execution_count": null,
   "metadata": {},
   "outputs": [
    {
     "data": {
      "text/plain": [
       "(1, 2, 3, 4)"
      ]
     },
     "metadata": {},
     "output_type": "display_data"
    }
   ],
   "source": [
    "a = (1, 2, 3, 4)\n",
    "a"
   ]
  },
  {
   "cell_type": "markdown",
   "metadata": {},
   "source": [
    "Podemos desempacotar uma tupla:"
   ]
  },
  {
   "cell_type": "code",
   "execution_count": null,
   "metadata": {},
   "outputs": [],
   "source": [
    "w, x, y, z = a"
   ]
  },
  {
   "cell_type": "code",
   "execution_count": null,
   "metadata": {},
   "outputs": [
    {
     "data": {
      "text/plain": [
       "1"
      ]
     },
     "metadata": {},
     "output_type": "display_data"
    }
   ],
   "source": [
    "w"
   ]
  },
  {
   "cell_type": "markdown",
   "metadata": {},
   "source": [
    "Como uma tupla é imutável, não podemos alterar um elemento:"
   ]
  },
  {
   "cell_type": "code",
   "execution_count": null,
   "metadata": {},
   "outputs": [
    {
     "ename": "TypeError",
     "evalue": "'tuple' object does not support item assignment",
     "output_type": "error",
     "traceback": [
      "\u001b[1;31m---------------------------------------------------------------------------\u001b[0m\n",
      "\u001b[1;31mTypeError\u001b[0m                                 Traceback (most recent call last)\n",
      "Cell \u001b[1;32mIn[169], line 1\u001b[0m\n",
      "\u001b[1;32m----> 1\u001b[0m a[\u001b[38;5;241m0\u001b[39m] \u001b[38;5;241m=\u001b[39m \u001b[38;5;241m2\u001b[39m\n",
      "\n",
      "\u001b[1;31mTypeError\u001b[0m: 'tuple' object does not support item assignment"
     ]
    }
   ],
   "source": [
    "a[0] = 2"
   ]
  },
  {
   "cell_type": "markdown",
   "metadata": {},
   "source": [
    "Mas podemos transformá-la em uma lista, e então podemos alterá-la."
   ]
  },
  {
   "cell_type": "code",
   "execution_count": null,
   "metadata": {},
   "outputs": [],
   "source": [
    "z = list(a)"
   ]
  },
  {
   "cell_type": "code",
   "execution_count": null,
   "metadata": {},
   "outputs": [],
   "source": [
    "z[0] = \"novo\""
   ]
  },
  {
   "cell_type": "code",
   "execution_count": null,
   "metadata": {},
   "outputs": [
    {
     "data": {
      "text/plain": [
       "['novo', 2, 3, 4]"
      ]
     },
     "metadata": {},
     "output_type": "display_data"
    }
   ],
   "source": [
    "z"
   ]
  },
  {
   "cell_type": "markdown",
   "metadata": {},
   "source": [
    "Frequentemente, não está claro como as tuplas diferem das listas. A diferença mais óbvia é que elas são imutáveis (use isso a seu favor para evitar bugs!). \n",
    "\n",
    "Muitas vezes, veremos tuplas usadas para armazenar dados relacionados que devem ser interpretados juntos. Um bom exemplo é um ponto cartesiano, (x, y). "
   ]
  },
  {
   "cell_type": "code",
   "execution_count": null,
   "metadata": {},
   "outputs": [
    {
     "data": {
      "text/plain": [
       "[(1, 2), (2, 3), (3, 4)]"
      ]
     },
     "metadata": {},
     "output_type": "display_data"
    }
   ],
   "source": [
    "points = []\n",
    "points.append((1,2))\n",
    "points.append((2,3))\n",
    "points.append((3,4))\n",
    "points"
   ]
  },
  {
   "cell_type": "markdown",
   "metadata": {},
   "source": [
    "## Conjuntos \n",
    "\n",
    "Coleções do tipo conjunto (`set`) são exatamente o que se espera: uma coleção não-ordenada de elementos únicos que suporta operações matemáticas em conjuntos, como união, interseção, diferença, etc.\n"
   ]
  },
  {
   "cell_type": "code",
   "execution_count": null,
   "metadata": {},
   "outputs": [
    {
     "data": {
      "text/plain": [
       "{'U', 'e', 'n', 'p', 's'}"
      ]
     },
     "metadata": {},
     "output_type": "display_data"
    }
   ],
   "source": [
    "S = set('Unesp')\n",
    "\n",
    "S"
   ]
  },
  {
   "cell_type": "markdown",
   "metadata": {},
   "source": [
    "Por não ser uma coleção ordenada, não é possível acessar elementos por seus índices, mas naturalmente é possível testar se um elemento pertence a um conjunto."
   ]
  },
  {
   "cell_type": "code",
   "execution_count": null,
   "metadata": {},
   "outputs": [
    {
     "data": {
      "text/plain": [
       "False"
      ]
     },
     "metadata": {},
     "output_type": "display_data"
    }
   ],
   "source": [
    "'b' in S"
   ]
  },
  {
   "cell_type": "code",
   "execution_count": null,
   "metadata": {},
   "outputs": [
    {
     "data": {
      "text/plain": [
       "True"
      ]
     },
     "metadata": {},
     "output_type": "display_data"
    }
   ],
   "source": [
    "'b' not in S"
   ]
  },
  {
   "cell_type": "code",
   "execution_count": null,
   "metadata": {},
   "outputs": [
    {
     "data": {
      "text/plain": [
       "True"
      ]
     },
     "metadata": {},
     "output_type": "display_data"
    }
   ],
   "source": [
    "'p' in S"
   ]
  },
  {
   "cell_type": "markdown",
   "metadata": {},
   "source": [
    "### Comparações de conjuntos\n",
    "\n",
    "Os operadores relacionais <=, <, >= e > tem outros significados quando usados para comparar conjuntos permitindo testar se $S_1 \\subseteq S_2$, $S_1 \\subset S_2$,  $S_1 \\supseteq S_2$ e $S_1 \\supset S_2$, respectivamente.\n",
    "\n",
    "<div style=\"text-align: center;\">\n",
    "    <img src=\"https://matematicabasica.net/wp-content/uploads/2019/02/conjuntos-relacao-de-inclusao.png\" alt=\"Descrição da Imagem\">\n",
    "</div>\n"
   ]
  },
  {
   "cell_type": "code",
   "execution_count": null,
   "metadata": {},
   "outputs": [
    {
     "data": {
      "text/plain": [
       "True"
      ]
     },
     "metadata": {},
     "output_type": "display_data"
    }
   ],
   "source": [
    "S1 = {1, 2}\n",
    "S2 = {1, 2, 3, 4}\n",
    "\n",
    "S1 <= S2"
   ]
  },
  {
   "cell_type": "code",
   "execution_count": null,
   "metadata": {},
   "outputs": [
    {
     "data": {
      "text/plain": [
       "True"
      ]
     },
     "metadata": {},
     "output_type": "display_data"
    }
   ],
   "source": [
    "S1 < S2"
   ]
  },
  {
   "cell_type": "code",
   "execution_count": null,
   "metadata": {},
   "outputs": [
    {
     "data": {
      "text/plain": [
       "False"
      ]
     },
     "metadata": {},
     "output_type": "display_data"
    }
   ],
   "source": [
    "S1 >= S2"
   ]
  },
  {
   "cell_type": "code",
   "execution_count": null,
   "metadata": {},
   "outputs": [
    {
     "data": {
      "text/plain": [
       "False"
      ]
     },
     "metadata": {},
     "output_type": "display_data"
    }
   ],
   "source": [
    "S1 > S2"
   ]
  },
  {
   "cell_type": "markdown",
   "metadata": {},
   "source": [
    "A comparação de igualdade de dois conjuntos só retorna **True** sse $S_1 \\subseteq S_2$ e $S_1 \\supseteq S_2$, i.e. se ambos os conjuntos possuem exatamente os mesmos elementos:"
   ]
  },
  {
   "cell_type": "code",
   "execution_count": null,
   "metadata": {},
   "outputs": [
    {
     "data": {
      "text/plain": [
       "True"
      ]
     },
     "metadata": {},
     "output_type": "display_data"
    }
   ],
   "source": [
    "{1, 2} == {1, 2}"
   ]
  },
  {
   "cell_type": "markdown",
   "metadata": {},
   "source": [
    "Também pode ser útil verificar se dois conjuntos são disjuntos:\n",
    "\n",
    "<div style=\"text-align: center;\">\n",
    "    <img src=\"https://static.todamateria.com.br/upload/di/ag/diagramasdevenn-cke.jpg\" alt=\"Descrição da Imagem\">\n",
    "</div>"
   ]
  },
  {
   "cell_type": "code",
   "execution_count": null,
   "metadata": {},
   "outputs": [
    {
     "data": {
      "text/plain": [
       "True"
      ]
     },
     "metadata": {},
     "output_type": "display_data"
    }
   ],
   "source": [
    "S1 = {0, 8}\n",
    "S2 = {1, 2, 3, 4}\n",
    "\n",
    "S1.isdisjoint(S2)"
   ]
  },
  {
   "cell_type": "markdown",
   "metadata": {},
   "source": [
    "### Operações em dois ou mais conjuntos\n",
    "\n",
    "Python também oferece operadores para realizar a união (|), interseção (&) e a diferença (-) de dois ou mais conjuntos e a diferença simétrica (^) entre dois conjuntos.\n",
    "\n",
    "![](https://static.vecteezy.com/ti/vetor-gratis/p1/35665635-venn-diagrama-definir-cruzando-circulos-matematico-educacao-ilustracao-vetor.jpg)"
   ]
  },
  {
   "cell_type": "code",
   "execution_count": null,
   "metadata": {},
   "outputs": [
    {
     "data": {
      "text/plain": [
       "{1, 2, 3, 4, 5}"
      ]
     },
     "metadata": {},
     "output_type": "display_data"
    }
   ],
   "source": [
    "S1 = {1, 2, 3}\n",
    "S2 = {2, 3, 4}\n",
    "S3 = {5, 3, 4}\n",
    "\n",
    "S1 | S2 | S3"
   ]
  },
  {
   "cell_type": "code",
   "execution_count": null,
   "metadata": {},
   "outputs": [
    {
     "data": {
      "text/plain": [
       "{3}"
      ]
     },
     "metadata": {},
     "output_type": "display_data"
    }
   ],
   "source": [
    "S1 & S2 & S3"
   ]
  },
  {
   "cell_type": "code",
   "execution_count": null,
   "metadata": {},
   "outputs": [
    {
     "data": {
      "text/plain": [
       "{1}"
      ]
     },
     "metadata": {},
     "output_type": "display_data"
    }
   ],
   "source": [
    "S1 - S2 - S3"
   ]
  },
  {
   "cell_type": "code",
   "execution_count": null,
   "metadata": {},
   "outputs": [
    {
     "data": {
      "text/plain": [
       "{1, 4}"
      ]
     },
     "metadata": {},
     "output_type": "display_data"
    }
   ],
   "source": [
    "S1 ^ S2"
   ]
  },
  {
   "cell_type": "markdown",
   "metadata": {},
   "source": [
    "### Modificando um conjunto\n",
    "\n",
    "Conjuntos são coleções mutáveis (há um outro tipo de conjunto, chamado **frozenset** que é imutável e pode ser útil em algumas situações), portanto suportam operações pra adicionar e remover elementos, no entanto os operadores **append**, **insert** e **del** que podem ser usados para as listas não são suportados, pois assumem coleções ordenadas. Assim, para adicionar novos elementos a um conjunto, deve-se usar a operação **add** e para remover, pode-se usar **remove** (resulta em erro do tipo **KeyError**, se o elemento não pertencer ao conjunto) ou **discard** (executa apenas se o elemento pertencer ao conjunto)."
   ]
  },
  {
   "cell_type": "code",
   "execution_count": null,
   "metadata": {},
   "outputs": [
    {
     "data": {
      "text/plain": [
       "{1, 2, 3, 4}"
      ]
     },
     "metadata": {},
     "output_type": "display_data"
    }
   ],
   "source": [
    "S1.add(4)\n",
    "\n",
    "S1"
   ]
  },
  {
   "cell_type": "code",
   "execution_count": null,
   "metadata": {},
   "outputs": [
    {
     "data": {
      "text/plain": [
       "{1, 3, 4}"
      ]
     },
     "metadata": {},
     "output_type": "display_data"
    }
   ],
   "source": [
    "S1.remove(2)\n",
    "\n",
    "S1"
   ]
  },
  {
   "cell_type": "code",
   "execution_count": null,
   "metadata": {},
   "outputs": [
    {
     "ename": "KeyError",
     "evalue": "2",
     "output_type": "error",
     "traceback": [
      "\u001b[0;31m------------------------------------------------\u001b[0m\n",
      "\n",
      "\u001b[0;31mKeyError\u001b[0m       Traceback (most recent call last)\n",
      "\n",
      "\u001b[0;32m<ipython-input-142-acf35d380723>\u001b[0m in \u001b[0;36m<module>\u001b[0;34m()\u001b[0m\n",
      "\n",
      "\u001b[0;32m----> 1\u001b[0;31m \u001b[0mS1\u001b[0m\u001b[0;34m.\u001b[0m\u001b[0mremove\u001b[0m\u001b[0;34m(\u001b[0m\u001b[0;36m2\u001b[0m\u001b[0;34m)\u001b[0m\u001b[0;34m\u001b[0m\u001b[0m\n",
      "\n",
      "\u001b[0m\n",
      "\n",
      "\u001b[0;31mKeyError\u001b[0m: 2"
     ]
    }
   ],
   "source": [
    "S1.remove(2)"
   ]
  },
  {
   "cell_type": "code",
   "execution_count": null,
   "metadata": {},
   "outputs": [
    {
     "data": {
      "text/plain": [
       "{1, 4}"
      ]
     },
     "metadata": {},
     "output_type": "display_data"
    }
   ],
   "source": [
    "S1.discard(3)\n",
    "\n",
    "S1"
   ]
  },
  {
   "cell_type": "code",
   "execution_count": null,
   "metadata": {},
   "outputs": [
    {
     "data": {
      "text/plain": [
       "{1, 4}"
      ]
     },
     "metadata": {},
     "output_type": "display_data"
    }
   ],
   "source": [
    "S1.discard(3)\n",
    "\n",
    "S1"
   ]
  },
  {
   "cell_type": "markdown",
   "metadata": {},
   "source": [
    "## Dicionários"
   ]
  },
  {
   "cell_type": "markdown",
   "metadata": {},
   "source": [
    "Um dicionário armazena dados como um par `chave:valor`. Ao contrário de uma lista, onde você tem uma ordem específica, as chaves em um dicionário permitem que você acesse informações facilmente de qualquer lugar:"
   ]
  },
  {
   "cell_type": "code",
   "execution_count": null,
   "metadata": {},
   "outputs": [],
   "source": [
    "my_dict = {\"chave1\":1, \"chave2\":2, \"chave3\":3}"
   ]
  },
  {
   "cell_type": "code",
   "execution_count": null,
   "metadata": {},
   "outputs": [
    {
     "data": {
      "text/plain": [
       "1"
      ]
     },
     "metadata": {},
     "output_type": "display_data"
    }
   ],
   "source": [
    "my_dict[\"chave1\"]"
   ]
  },
  {
   "cell_type": "markdown",
   "metadata": {},
   "source": [
    "Você pode adicionar uma nova `chave:valor` facilmente, e ela pode ser de qualquer tipo."
   ]
  },
  {
   "cell_type": "code",
   "execution_count": null,
   "metadata": {},
   "outputs": [
    {
     "data": {
      "text/plain": [
       "{'chave1': 1, 'chave2': 2, 'chave3': 3, 'novachave': 'nova'}"
      ]
     },
     "metadata": {},
     "output_type": "display_data"
    }
   ],
   "source": [
    "my_dict[\"novachave\"] = \"nova\"\n",
    "my_dict"
   ]
  },
  {
   "cell_type": "markdown",
   "metadata": {},
   "source": [
    "Você também pode obter facilmente a lista de chaves que estão definidas em um dicionário. A operação **keys** retorna todas as chaves de um dicionário em um tipo de coleção (**dict_keys**)."
   ]
  },
  {
   "cell_type": "code",
   "execution_count": null,
   "metadata": {},
   "outputs": [
    {
     "data": {
      "text/plain": [
       "dict_keys(['chave1', 'chave2', 'chave3', 'novachave'])"
      ]
     },
     "metadata": {},
     "output_type": "display_data"
    }
   ],
   "source": [
    "chaves = my_dict.keys()\n",
    "chaves"
   ]
  },
  {
   "cell_type": "markdown",
   "metadata": {},
   "source": [
    "É importante salientar que essa operação é uma lista que atualiza automaticamente se as chaves do dicionário forem modificadas."
   ]
  },
  {
   "cell_type": "code",
   "execution_count": null,
   "metadata": {},
   "outputs": [
    {
     "name": "stdout",
     "output_type": "stream",
     "text": [
      "dict_keys(['chave1', 'chave2', 'chave3', 'novachave'])\n",
      "dict_keys(['chave1', 'chave2', 'chave3', 'novachave', 'chave4'])\n"
     ]
    }
   ],
   "source": [
    "chaves = my_dict.keys()\n",
    "print(chaves)\n",
    "\n",
    "my_dict['chave4'] = 4\n",
    "\n",
    "print(chaves)"
   ]
  },
  {
   "cell_type": "markdown",
   "metadata": {},
   "source": [
    "Para converter em uma lista basta usar o comando `list()`"
   ]
  },
  {
   "cell_type": "code",
   "execution_count": null,
   "metadata": {},
   "outputs": [
    {
     "data": {
      "text/plain": [
       "['chave1', 'chave2', 'chave3', 'novachave', 'chave4']"
      ]
     },
     "metadata": {},
     "output_type": "display_data"
    }
   ],
   "source": [
    "chaves = list(my_dict.keys())\n",
    "chaves"
   ]
  },
  {
   "cell_type": "markdown",
   "metadata": {},
   "source": [
    "A operação **values** é similar à operação **keys**, mas retorna os valores dos mapeamentos do dicionário em um tipo de coleção (**dict_values**) que também se mantém atualizado quando o dicionário é modificado."
   ]
  },
  {
   "cell_type": "code",
   "execution_count": null,
   "metadata": {},
   "outputs": [
    {
     "name": "stdout",
     "output_type": "stream",
     "text": [
      "dict_values([1, 2, 3, 'nova', 4])\n",
      "dict_values([1, 2, 3, 'nova', 4, 5])\n"
     ]
    }
   ],
   "source": [
    "valores = my_dict.values()\n",
    "print(valores)\n",
    "\n",
    "my_dict['chave5'] = 5\n",
    "\n",
    "print(valores)"
   ]
  },
  {
   "cell_type": "markdown",
   "metadata": {},
   "source": [
    "Por fim, a operação **items** retorna os mapeamentos do dicionário em forma de tuplas em um tipo de coleção (**dict_items**) que também se mantém atualizado quando o dicionário é modificado. "
   ]
  },
  {
   "cell_type": "code",
   "execution_count": null,
   "metadata": {},
   "outputs": [
    {
     "name": "stdout",
     "output_type": "stream",
     "text": [
      "dict_items([('chave1', 1), ('chave2', 2), ('chave3', 3), ('novachave', 'nova'), ('chave4', 4), ('chave5', 5)])\n",
      "dict_items([('chave1', 1), ('chave2', 2), ('chave3', 3), ('novachave', 'nova'), ('chave4', 4), ('chave5', 5), ('chave6', 6)])\n"
     ]
    }
   ],
   "source": [
    "itens = my_dict.items()\n",
    "print(itens)\n",
    "\n",
    "my_dict['chave6'] = 6\n",
    "\n",
    "print(itens)"
   ]
  },
  {
   "cell_type": "markdown",
   "metadata": {},
   "source": [
    "Pode-se verificar facilmente se uma chave existe no dicionário usando os operadores `in` e `not in`."
   ]
  },
  {
   "cell_type": "code",
   "execution_count": null,
   "metadata": {},
   "outputs": [],
   "source": [
    "my_dict = {\"chave1\":1, \"chave2\":2, \"chave3\":3}"
   ]
  },
  {
   "cell_type": "code",
   "execution_count": null,
   "metadata": {},
   "outputs": [
    {
     "name": "stdout",
     "output_type": "stream",
     "text": [
      "True\n",
      "True\n"
     ]
    }
   ],
   "source": [
    "print(\"chave1\" in my_dict)\n",
    "print(\"ChaveInvalida\" not in my_dict)"
   ]
  },
  {
   "cell_type": "markdown",
   "metadata": {},
   "source": [
    "Podemos também checar se a chave existe na operação keys"
   ]
  },
  {
   "cell_type": "code",
   "execution_count": null,
   "metadata": {},
   "outputs": [
    {
     "name": "stdout",
     "output_type": "stream",
     "text": [
      "True\n",
      "False\n"
     ]
    }
   ],
   "source": [
    "print(\"chave1\" in chaves)\n",
    "print(\"ChaveInvalida\" in chaves)"
   ]
  },
  {
   "cell_type": "markdown",
   "metadata": {},
   "source": [
    "Podemos fazer operações com os valores das chaves, e redefini-lás"
   ]
  },
  {
   "cell_type": "code",
   "execution_count": null,
   "metadata": {},
   "outputs": [
    {
     "data": {
      "text/plain": [
       "{'chave1': 1, 'chave2': 2, 'chave3': 4}"
      ]
     },
     "metadata": {},
     "output_type": "display_data"
    }
   ],
   "source": [
    "my_dict[\"chave3\"] = my_dict[\"chave3\"] + 1\n",
    "my_dict"
   ]
  },
  {
   "cell_type": "markdown",
   "metadata": {},
   "source": [
    "Podemos usar o comando del para remover chaves do nosso dicionário"
   ]
  },
  {
   "cell_type": "code",
   "execution_count": null,
   "metadata": {},
   "outputs": [
    {
     "data": {
      "text/plain": [
       "{'chave1': 1, 'chave2': 2}"
      ]
     },
     "metadata": {},
     "output_type": "display_data"
    }
   ],
   "source": [
    "del my_dict[\"chave3\"]\n",
    "my_dict"
   ]
  },
  {
   "cell_type": "markdown",
   "metadata": {},
   "source": [
    "O erro **KeyError** também acontece ao tentar acessar uma chave que não existe no dicionário. Para evitar esse erro, pode-se usar a operação **get**, que retorna um valor padrão, caso a chave não esteja disponível."
   ]
  },
  {
   "cell_type": "code",
   "execution_count": null,
   "metadata": {},
   "outputs": [
    {
     "ename": "KeyError",
     "evalue": "'chave4'",
     "output_type": "error",
     "traceback": [
      "\u001b[1;31m---------------------------------------------------------------------------\u001b[0m\n",
      "\u001b[1;31mKeyError\u001b[0m                                  Traceback (most recent call last)\n",
      "Cell \u001b[1;32mIn[190], line 1\u001b[0m\n",
      "\u001b[1;32m----> 1\u001b[0m my_dict[\u001b[38;5;124m'\u001b[39m\u001b[38;5;124mchave4\u001b[39m\u001b[38;5;124m'\u001b[39m]\n",
      "\n",
      "\u001b[1;31mKeyError\u001b[0m: 'chave4'"
     ]
    }
   ],
   "source": [
    "my_dict['chave4']"
   ]
  },
  {
   "cell_type": "code",
   "execution_count": null,
   "metadata": {},
   "outputs": [
    {
     "data": {
      "text/plain": [
       "0"
      ]
     },
     "metadata": {},
     "output_type": "display_data"
    }
   ],
   "source": [
    "my_dict.get('chave4', 0)"
   ]
  },
  {
   "cell_type": "markdown",
   "metadata": {},
   "source": [
    "Caso o valor padrão não seja informado, **get** retorna o valor **None**, também conhecido como **null** em outras linguagens de programação."
   ]
  },
  {
   "cell_type": "code",
   "execution_count": null,
   "metadata": {},
   "outputs": [
    {
     "name": "stdout",
     "output_type": "stream",
     "text": [
      "None\n"
     ]
    }
   ],
   "source": [
    "print(my_dict.get('chave4'))"
   ]
  },
  {
   "cell_type": "markdown",
   "metadata": {},
   "source": [
    "Abaixo estão alguns métodos comuns utilizados com dicionários em Python, com suas respectivas descrições de efeitos:"
   ]
  },
  {
   "cell_type": "markdown",
   "metadata": {},
   "source": [
    "| Método               | Efeito                                                               |\n",
    "|----------------------|----------------------------------------------------------------------|\n",
    "| `D.clear()`           | Remove todos os itens do dicionário.                                 |\n",
    "| `D.copy()`            | Cria uma cópia de um dicionário.                                     |\n",
    "| `D.get(k[, d])`       | Retorna `D[k]`, se a chave `k` existir. Senão, `d`.                  |\n",
    "| `D.has_key(k)`        | Retorna 1 se `D` possuir a chave `k`.                                |\n",
    "| `D.items()`           | Retorna lista de tuplas (chave:valor).                               |\n",
    "| `D.iteritems()`       | Retorna objeto iterador para `D`.                                    |\n",
    "| `D.iterkeys()`        | Idem para chaves.                                                   |\n",
    "| `D.itervalues()`      | Idem para valores.                                                  |\n",
    "| `D.keys()`            | Retorna lista com todas as chaves.                                   |\n",
    "| `D.popitem()`         | Remove e retorna um ítem (chave:valor).                              |\n",
    "| `D.update(E)`         | Copia itens de `E` para `D`.                                         |\n",
    "| `D.values()`          | Retorna lista com todos os valores.     "
   ]
  },
  {
   "cell_type": "markdown",
   "metadata": {},
   "source": [
    "```{admonition} Exercício Rapído\n",
    "\n",
    "Crie um dicionário onde as chaves são os nomes em string dos números de zero a nove e os valores são suas representações numéricas (0, 1, ... , 9).\n",
    "\n",
    "```"
   ]
  },
  {
   "cell_type": "markdown",
   "metadata": {},
   "source": [
    "```{admonition} Solução\n",
    ":class: dropdown\n",
    "```python\n",
    "# Criando um dicionário com os nomes dos números de zero a nove como chaves\n",
    "number_dict = {\n",
    "    \"zero\": 0,\n",
    "    \"one\": 1,\n",
    "    \"two\": 2,\n",
    "    \"three\": 3,\n",
    "    \"four\": 4,\n",
    "    \"five\": 5,\n",
    "    \"six\": 6,\n",
    "    \"seven\": 7,\n",
    "    \"eight\": 8,\n",
    "    \"nine\": 9\n",
    "}\n",
    "\n",
    "# Exibindo o dicionário\n",
    "print(number_dict)\n",
    "```\n"
   ]
  }
 ],
 "metadata": {
  "kernelspec": {
   "display_name": "base",
   "language": "python",
   "name": "python3"
  },
  "language_info": {
   "codemirror_mode": {
    "name": "ipython",
    "version": 3
   },
   "file_extension": ".py",
   "mimetype": "text/x-python",
   "name": "python",
   "nbconvert_exporter": "python",
   "pygments_lexer": "ipython3",
   "version": "3.11.7"
  }
 },
 "nbformat": 4,
 "nbformat_minor": 4
}
