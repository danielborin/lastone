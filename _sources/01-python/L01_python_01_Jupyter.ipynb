{
 "cells": [
  {
   "cell_type": "markdown",
   "metadata": {},
   "source": [
    "# Jupyter"
   ]
  },
  {
   "cell_type": "markdown",
   "metadata": {},
   "source": [
    "Usaremos o Jupyter para todos os nossos exemplos -- isso nos permite rodar o Python em um notebook baseado na web, mantendo um histórico de entradas e saídas, juntamente com texto e imagens.\n",
    "\n",
    "Para ajuda com o Jupyter, visite: https://jupyter.readthedocs.io/en/latest/content-quickstart.html"
   ]
  },
  {
   "cell_type": "markdown",
   "metadata": {},
   "source": [
    "Nós interagimos com o Python digitando nas _células_ do notebook. Por padrão, uma célula é uma célula de _código_, o que significa que você pode inserir qualquer código Python válido nela e executá-lo. Outro tipo importante de célula é a célula de _markdown_. Isso permite que você coloque texto, com diferentes formatações (itálico, negrito, etc.), que descrevem o que o notebook está fazendo."
   ]
  },
  {
   "cell_type": "markdown",
   "metadata": {},
   "source": [
    "Alguns atalhos úteis:\n",
    "\n",
    " * shift+enter = executar a célula e pular para a próxima (criando uma nova célula se não houver outra nova)\n",
    " * ctrl+enter = executar a célula no local\n",
    " * alt+enter = executar a célula e inserir uma nova abaixo\n",
    "\n",
    "ctrl+m h lista outros comandos"
   ]
  },
  {
   "cell_type": "markdown",
   "metadata": {},
   "source": [
    "Uma \"célula de markdown\" permite que você insira equações em LaTeX diretamente no seu notebook. Basta colocá-las em `$` ou `$$`:\n",
    "\n",
    "$$\\frac{\\partial \\rho}{\\partial t} + \\nabla \\cdot (\\rho U) = 0$$\n"
   ]
  },
  {
   "cell_type": "markdown",
   "metadata": {},
   "source": [
    "<div class=\"alert alert-block alert-danger\">\n",
    "    \n",
    "**Importante**: quando você trabalha em um notebook, tudo o que foi feito nas células anteriores ainda está na memória e é _conhecido_ pelo Python, então você pode se referir a funções e variáveis que foram definidas anteriormente. Mesmo que você vá para o topo do notebook e insira uma célula, toda a informação feita anteriormente na sessão do notebook ainda está definida -- não importa onde fisicamente você esteja no notebook. Se você quiser resetar as coisas, pode usar as opções no menu _Kernel_.\n",
    "</div>"
   ]
  },
  {
   "cell_type": "markdown",
   "metadata": {},
   "source": [
    "<div class=\"alert alert-block alert-warning\">\n",
    "    \n",
    "<span class=\"fa fa-flash\"></span> Exercício Rápido:\n",
    "\n",
    "Crie uma nova célula abaixo desta. Certifique-se de que seja uma célula _de código_ e insira o seguinte código e execute-o:\n",
    "\n",
    "    \n",
    "```\n",
    "\n",
    " print(\"Hello, World\")\n",
    " \n",
    "```\n",
    "</div>"
   ]
  },
  {
   "cell_type": "markdown",
   "metadata": {},
   "source": [
    "`print()` é uma _função_ em Python que recebe argumentos (dentro dos `()`) e exibe a saída na tela. Você pode imprimir várias quantidades de uma vez, como:"
   ]
  },
  {
   "cell_type": "code",
   "execution_count": 3,
   "metadata": {},
   "outputs": [
    {
     "name": "stdout",
     "output_type": "stream",
     "text": [
      "1 2 3\n"
     ]
    }
   ],
   "source": [
    "print(1, 2, 3)"
   ]
  },
  {
   "cell_type": "code",
   "execution_count": 4,
   "metadata": {},
   "outputs": [
    {
     "data": {
      "text/plain": [
       "1"
      ]
     },
     "execution_count": 4,
     "metadata": {},
     "output_type": "execute_result"
    }
   ],
   "source": [
    "1"
   ]
  },
  {
   "cell_type": "markdown",
   "metadata": {},
   "source": [
    "Observe que o comportamento padrão no Jupyter é imprimir o valor de retorno da última instrução em uma célula, então não precisamos usar o `print` se quisermos apenas o valor de algo como:"
   ]
  },
  {
   "cell_type": "code",
   "execution_count": 5,
   "metadata": {
    "tags": []
   },
   "outputs": [
    {
     "data": {
      "text/plain": [
       "10"
      ]
     },
     "execution_count": 5,
     "metadata": {},
     "output_type": "execute_result"
    }
   ],
   "source": [
    "a = 10\n",
    "a"
   ]
  }
 ],
 "metadata": {
  "kernelspec": {
   "display_name": "Python 3 (ipykernel)",
   "language": "python",
   "name": "python3"
  },
  "language_info": {
   "codemirror_mode": {
    "name": "ipython",
    "version": 3
   },
   "file_extension": ".py",
   "mimetype": "text/x-python",
   "name": "python",
   "nbconvert_exporter": "python",
   "pygments_lexer": "ipython3",
   "version": "3.11.4"
  }
 },
 "nbformat": 4,
 "nbformat_minor": 4
}
