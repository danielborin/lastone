{
 "cells": [
  {
   "cell_type": "markdown",
   "metadata": {},
   "source": [
    "# Funções"
   ]
  },
  {
   "cell_type": "markdown",
   "metadata": {},
   "source": [
    "As funções são usadas para organizar o fluxo do programa, especialmente para nos permitir realizar facilmente tarefas comumente necessárias repetidamente. "
   ]
  },
  {
   "cell_type": "markdown",
   "metadata": {},
   "source": [
    "Já usamos muitas funções, como aquelas que trabalham com listas (`append()` e `pop()`) ou strings (como `replace()`). Aqui, veremos como escrever nossas próprias funções."
   ]
  },
  {
   "cell_type": "markdown",
   "metadata": {},
   "source": [
    "Funções definem blocos de código que podem ser reutilizados sempre que necessário. Assim como as funções matemáticas, as funções de Python recebem valores de entrada (chamados de parâmetros ou argumentos) e retornam valores de saída, no entanto não é obrigatório que elas recebam entradas nem que retornem saídas."
   ]
  },
  {
   "cell_type": "markdown",
   "metadata": {},
   "source": [
    "A criação de uma função começa com a palavra ``def``, seguida pelo nome da função (neste caso, ``f``) e os parâmetros entre parênteses, concluindo com os dois pontos (``:``). \n",
    "\n",
    "Vale ressaltar que, como a função define um bloco, as linhas subsequentes precisam ser corretamente indentadas. \n",
    "\n",
    "Aqui está um exemplo simples de uma função que recebe um único argumento, `i`:"
   ]
  },
  {
   "cell_type": "code",
   "execution_count": null,
   "metadata": {},
   "outputs": [
    {
     "name": "stdout",
     "output_type": "stream",
     "text": [
      "na função temos que i = 10\n",
      "na função temos que i = 5\n"
     ]
    }
   ],
   "source": [
    "def minha_func(i):\n",
    "    print(f\"na função temos que i = {i}\")\n",
    "    \n",
    "minha_func(10)\n",
    "minha_func(5)"
   ]
  },
  {
   "cell_type": "markdown",
   "metadata": {},
   "source": [
    "As funções sempre retornam um valor — se um valor não for explicitamente fornecido, então elas retornam `None`"
   ]
  },
  {
   "cell_type": "code",
   "execution_count": null,
   "metadata": {},
   "outputs": [
    {
     "name": "stdout",
     "output_type": "stream",
     "text": [
      "na função temos que i = 10\n"
     ]
    }
   ],
   "source": [
    "a = minha_func(10)"
   ]
  },
  {
   "cell_type": "code",
   "execution_count": null,
   "metadata": {},
   "outputs": [
    {
     "name": "stdout",
     "output_type": "stream",
     "text": [
      "None\n"
     ]
    }
   ],
   "source": [
    "print(a)"
   ]
  },
  {
   "cell_type": "markdown",
   "metadata": {},
   "source": [
    "Para retornar um valor ao chamarmos um função podemos usar `return`. Como exemplo, vamos definir a função $f(x) = x^2$ em Python. "
   ]
  },
  {
   "cell_type": "code",
   "execution_count": null,
   "metadata": {},
   "outputs": [
    {
     "data": {
      "text/plain": [
       "9"
      ]
     },
     "metadata": {},
     "output_type": "display_data"
    }
   ],
   "source": [
    "def f(x):\n",
    "    return x**2\n",
    "\n",
    "f(3)"
   ]
  },
  {
   "cell_type": "markdown",
   "metadata": {},
   "source": [
    "Portanto, quando uma função não possui um comando ``return``, ou possui o comando sem associá-lo a um valor, a função retorna ``None`` (nulo)."
   ]
  },
  {
   "cell_type": "markdown",
   "metadata": {},
   "source": [
    "A definição de uma função gera uma variável com o nome da função, e o tipo dessa variável é função. "
   ]
  },
  {
   "cell_type": "code",
   "execution_count": null,
   "metadata": {},
   "outputs": [
    {
     "data": {
      "text/plain": [
       "function"
      ]
     },
     "metadata": {},
     "output_type": "display_data"
    }
   ],
   "source": [
    "type(f)"
   ]
  },
  {
   "cell_type": "markdown",
   "metadata": {},
   "source": [
    "Isso significa que é possível atribuir a função a outra variável, o que pode ser utilizado como uma forma de renomeação."
   ]
  },
  {
   "cell_type": "code",
   "execution_count": null,
   "metadata": {},
   "outputs": [],
   "source": [
    "xaoquadrado = f\n",
    "\n",
    "xaoquadrado(4)"
   ]
  },
  {
   "cell_type": "markdown",
   "metadata": {},
   "source": [
    "A função não está restrita a apenas a um argumento, podemos utilizar mais do que um. Aqui está uma função simples que recebe dois números e retorna seu produto."
   ]
  },
  {
   "cell_type": "code",
   "execution_count": null,
   "metadata": {},
   "outputs": [
    {
     "data": {
      "text/plain": [
       "12"
      ]
     },
     "metadata": {},
     "output_type": "display_data"
    }
   ],
   "source": [
    "def multiplicação(a, b):\n",
    "    return a*b\n",
    "\n",
    "c = multiplicação(3, 4)\n",
    "c"
   ]
  },
  {
   "cell_type": "markdown",
   "metadata": {},
   "source": [
    "O \"uso\" de uma função após a sua definição é conhecido como \"chamada\" e requer que valores sejam fornecidos para todos os parâmetros. Esses valores podem ser passados de maneira posicional (segundo a ordem de declaração dos parâmetros) ou pelo nome dos parâmetros, dispensando a necessidade de seguir a ordem estabelecida."
   ]
  },
  {
   "cell_type": "code",
   "execution_count": null,
   "metadata": {},
   "outputs": [],
   "source": [
    "def power(x, y):\n",
    "    return x ** y\n",
    "\n",
    "power(3, 2), power(y=2, x=3)"
   ]
  },
  {
   "cell_type": "markdown",
   "metadata": {},
   "source": [
    "É possível construir funções que retornam múltiplos valores em Python. "
   ]
  },
  {
   "cell_type": "code",
   "execution_count": null,
   "metadata": {},
   "outputs": [
    {
     "data": {
      "text/plain": [
       "(11, 12)"
      ]
     },
     "metadata": {},
     "output_type": "display_data"
    }
   ],
   "source": [
    "def medêambos(a, b):\n",
    "    return a+10, b+10\n",
    "\n",
    "medêambos(1,2)"
   ]
  },
  {
   "cell_type": "markdown",
   "metadata": {},
   "source": [
    "```{tabbed} Tab 1 title\n",
    "Construa uma função que recebe dois inteiros e retorna o quociente e o resto da sua divisão\n",
    "```"
   ]
  },
  {
   "cell_type": "markdown",
   "metadata": {},
   "source": [
    "```{tabbed} Tab 2 title\n",
    "``python\n",
    "def div(dividend, divisor):\n",
    "    return dividend // divisor, dividend % divisor\n",
    "\n",
    "div(7, 2)``\n",
    "```"
   ]
  },
  {
   "cell_type": "markdown",
   "metadata": {},
   "source": [
    "Como podemos observar, os resultados da função que retorna dois valores foram impressos entre parênteses, ou seja, na forma de uma tupla. \n",
    "\n",
    "Isso significa que Python simula o retorno de múltiplos valores ao retornar um único valor do tipo tupla. \n",
    "\n",
    "Essa técnica permite que o retorno seja desconstruído em várias atribuições durante a chamada. \n",
    "\n",
    "Vamos considerar então uma função que recebe dois inteiros e retorna o quociente e o resto da sua divisão"
   ]
  },
  {
   "cell_type": "code",
   "execution_count": null,
   "metadata": {},
   "outputs": [
    {
     "data": {
      "text/plain": [
       "(3, 1)"
      ]
     },
     "metadata": {},
     "output_type": "display_data"
    }
   ],
   "source": [
    "def div(dividend, divisor):\n",
    "    return dividend // divisor, dividend % divisor\n",
    "\n",
    "div(7, 2)"
   ]
  },
  {
   "cell_type": "markdown",
   "metadata": {},
   "source": [
    "Podemos então pegar cada termo da seguinte forma"
   ]
  },
  {
   "cell_type": "code",
   "execution_count": null,
   "metadata": {},
   "outputs": [
    {
     "data": {
      "text/plain": [
       "7"
      ]
     },
     "metadata": {},
     "output_type": "display_data"
    }
   ],
   "source": [
    "dividend, divisor = 7, 2\n",
    "(quocient, remainder) = div(dividend, divisor)\n",
    "\n",
    "quocient * divisor + remainder"
   ]
  },
  {
   "cell_type": "markdown",
   "metadata": {},
   "source": [
    "```{admonition} Exercício Rapído\n",
    "    \n",
    "Escreva uma função simples que recebe uma frase (como uma string) e retorna um inteiro igual ao comprimento da palavra mais longa na frase. A função `len()` e o método `.split()` serão úteis aqui.\n",
    "\n",
    "```"
   ]
  },
  {
   "cell_type": "markdown",
   "metadata": {},
   "source": [
    "## Definindo valores padrão para parâmetros\n",
    "\n",
    "É possível definir funções com valores padrão para seus parâmetros. Isso facilita a criação de funções que podem ser chamadas sem a necessidade de passar todos os argumentos. Veja um exemplo:"
   ]
  },
  {
   "cell_type": "code",
   "execution_count": null,
   "metadata": {},
   "outputs": [
    {
     "name": "stdout",
     "output_type": "stream",
     "text": [
      "9\n",
      "16\n",
      "27\n",
      "1\n",
      "0\n"
     ]
    }
   ],
   "source": [
    "def power(x=3, y=2):\n",
    "    return x ** y\n",
    "\n",
    "print(power())\n",
    "print(power(x=4)) \n",
    "print(power(y=3)) \n",
    "print(power(x=10,y=0))\n",
    "print(power(x=0,y=10)) "
   ]
  },
  {
   "cell_type": "markdown",
   "metadata": {},
   "source": [
    "É comum que funções sejam definidas com parâmetros que possuam valores padrão (default) e parâmetros obrigatórios. Quando isso ocorre, é necessário **declarar os parâmetros sem valor padrão primeiro**. \n",
    "\n",
    "Como vimos anteriormente, é possível passar valores para parâmetros com valores padrão pelo nome, o que permite que a ordem de declaração dos parâmetros seja ignorada. \n",
    "\n",
    "No entanto, caso um parâmetro seja passado sem especificar seu nome, a ordem de declaração deve ser respeitada."
   ]
  },
  {
   "cell_type": "code",
   "execution_count": null,
   "metadata": {},
   "outputs": [
    {
     "data": {
      "text/plain": [
       "(9, 9, 9, 9)"
      ]
     },
     "metadata": {},
     "output_type": "display_data"
    }
   ],
   "source": [
    "def power(x, y=2):\n",
    "    return x ** y\n",
    "\n",
    "power(3), power(y=2, x=3), power(3, y=2), power(3, 2)"
   ]
  },
  {
   "cell_type": "markdown",
   "metadata": {},
   "source": [
    "```{admonition} Exercício\n",
    "    \n",
    "\n",
    "Execute esses dois blocos de código e entenda/explique a diferença... **Isso leva a um dos erros mais comuns para iniciantes em Python**\n",
    "\n",
    "Isto:\n",
    "\n",
    "````python    \n",
    "    def f(a, L=[]):\n",
    "        L.append(a)\n",
    "        return L\n",
    "\n",
    "    print(f(1))\n",
    "    print(f(2))\n",
    "    print(f(3))\n",
    "    \n",
    "e isto:\n",
    " ````python    \n",
    "    def fnew(a, L=None):\n",
    "        if L is None:\n",
    "            L = []\n",
    "        L.append(a)\n",
    "        return L\n",
    "\n",
    "    print(fnew(1))\n",
    "    print(fnew(2))\n",
    "    print(fnew(3))   \n",
    "\n",
    "```"
   ]
  },
  {
   "cell_type": "markdown",
   "metadata": {},
   "source": [
    "```{tip} \n",
    ":class: dropdown\n",
    "### Solução\n",
    "Observe que cada chamada na função `f` não cria sua própria lista separada. Em vez disso, uma única lista vazia foi criada quando a função `f` foi processada pela primeira vez, e essa lista persiste na memória como o valor padrão para o argumento opcional `L`.\n",
    "\n",
    "Se quisermos que uma lista única seja criada a cada vez (ou seja, um local separado na memória), devemos inicializar o valor do argumento como None e, em seguida, verificar seu valor real e criar uma lista vazia no corpo da função se o valor padrão não tiver sido alterado. Assim como foi executado na função `fnovo`\n",
    "```"
   ]
  },
  {
   "cell_type": "markdown",
   "metadata": {},
   "source": [
    "## Passando funções como argumentos\n",
    "\n",
    "Como mencionado anteriormente, quando uma função é definida, ela cria uma variável com o mesmo nome, cujo valor é do tipo função. Isso significa que funções também podem ser passadas como parâmetros para outras funções. O exemplo abaixo mostra como isso pode ser feito. A função `aplicar_operacao` recebe um valor `x` e uma função `oper`, que define qual operação será realizada com o valor de `x`:"
   ]
  },
  {
   "cell_type": "code",
   "execution_count": null,
   "metadata": {},
   "outputs": [
    {
     "data": {
      "text/plain": [
       "9"
      ]
     },
     "metadata": {},
     "output_type": "display_data"
    }
   ],
   "source": [
    "# Definindo algumas funções\n",
    "def quadrado(x):\n",
    "    return x ** 2\n",
    "\n",
    "def aplicar_operacao(x, oper):\n",
    "    return 3 * oper(x)\n",
    "\n",
    "def cubo(x):\n",
    "    return x ** 3\n",
    "\n",
    "# Usando a função 'aplicar_operacao' com diferentes operações\n",
    "resultado1 = aplicar_operacao(4, quadrado)\n",
    "resultado2 = aplicar_operacao(3, cubo)\n",
    "\n",
    "print(resultado1)\n",
    "print(resultado2)"
   ]
  },
  {
   "cell_type": "markdown",
   "metadata": {},
   "source": [
    "## Operador Lambda"
   ]
  },
  {
   "cell_type": "markdown",
   "metadata": {},
   "source": [
    "Lambdas são funções pequenas \"descartáveis\" (que ocupam apenas uma linha). Essas são pequenas funções sem nome que são frequentemente usadas como argumentos em outras funções. Os seguintes exemplos são equivalentes:"
   ]
  },
  {
   "cell_type": "code",
   "execution_count": null,
   "metadata": {},
   "outputs": [],
   "source": [
    "def aoquadrado(x):\n",
    "    return x**2\n",
    "\n",
    "aoquadrado = lambda x : x**2"
   ]
  },
  {
   "cell_type": "markdown",
   "metadata": {},
   "source": [
    "Por exemplo: temos uma lista de tuplas e queremos ordenar a lista com base no segundo item da tupla. O método `sort` pode receber um argumento opcional `key` que nos diz como interpretar o item da lista para a ordenação."
   ]
  },
  {
   "cell_type": "code",
   "execution_count": null,
   "metadata": {},
   "outputs": [
    {
     "data": {
      "text/plain": [
       "[(1, 'um'), (2, 'dois'), (3, 'três'), (4, 'quatro')]"
      ]
     },
     "metadata": {},
     "output_type": "display_data"
    }
   ],
   "source": [
    "pairs = [(1, 'um'), (2, 'dois'), (3, 'três'), (4, 'quatro')]\n",
    "pairs.sort()\n",
    "pairs"
   ]
  },
  {
   "cell_type": "code",
   "execution_count": null,
   "metadata": {},
   "outputs": [
    {
     "data": {
      "text/plain": [
       "[(2, 'dois'), (4, 'quatro'), (3, 'três'), (1, 'um')]"
      ]
     },
     "metadata": {},
     "output_type": "display_data"
    }
   ],
   "source": [
    "pairs.sort(key = lambda p: p[1])\n",
    "pairs"
   ]
  },
  {
   "cell_type": "markdown",
   "metadata": {},
   "source": [
    "Aqui usamos uma lambda em um extrato de uma lista (com a função filter)."
   ]
  },
  {
   "cell_type": "code",
   "execution_count": null,
   "metadata": {},
   "outputs": [
    {
     "data": {
      "text/plain": [
       "[1]"
      ]
     },
     "metadata": {},
     "output_type": "display_data"
    }
   ],
   "source": [
    "list(filter(lambda x:x == 1, [1,2,3]))"
   ]
  },
  {
   "cell_type": "code",
   "execution_count": null,
   "metadata": {},
   "outputs": [
    {
     "data": {
      "text/plain": [
       "[0,\n",
       " 36,\n",
       " 144,\n",
       " 324,\n",
       " 576,\n",
       " 900,\n",
       " 1296,\n",
       " 1764,\n",
       " 2304,\n",
       " 2916,\n",
       " 3600,\n",
       " 4356,\n",
       " 5184,\n",
       " 6084,\n",
       " 7056,\n",
       " 8100,\n",
       " 9216]"
      ]
     },
     "metadata": {},
     "output_type": "display_data"
    }
   ],
   "source": [
    "squares = [x**2 for x in range(100)]\n",
    "sq = list(filter(lambda x : x%2 == 0 and x%3 == 0, squares))\n",
    "sq"
   ]
  },
  {
   "cell_type": "markdown",
   "metadata": {},
   "source": [
    "Um dos casos de uso comuns do operador **lambda** é quando precisamos passar uma função simples como parâmetro para outra função de forma concisa. Exemplo:"
   ]
  },
  {
   "cell_type": "code",
   "execution_count": null,
   "metadata": {},
   "outputs": [
    {
     "data": {
      "text/plain": [
       "81"
      ]
     },
     "metadata": {},
     "output_type": "display_data"
    }
   ],
   "source": [
    "def aplicar_operacao(x, oper):\n",
    "    return oper(x)\n",
    "\n",
    "aplicar_operacao(3, lambda x: x ** 4)"
   ]
  },
  {
   "cell_type": "markdown",
   "metadata": {},
   "source": [
    "## Funções essenciais\n",
    "\n",
    "Python oferece uma série defunções integradas, veja documentação (https://docs.python.org/3.7/library/functions.html), que são muito práticas no dia a dia de programação. Algumas operações úteis são:\n",
    "\n",
    "| Função          | Descrição                                                                 |\n",
    "|-----------------|---------------------------------------------------------------------------|\n",
    "| **list()**      | Converte um iterável para uma lista.                                      |\n",
    "| **set()**       | Converte um iterável para um conjunto (removendo duplicatas).            |\n",
    "| **tuple()**     | Converte um iterável para uma tupla.                                      |\n",
    "| **dict()**      | Converte um iterável (geralmente de pares chave-valor) para um dicionário.|\n",
    "| **type()**      | Retorna o tipo de um objeto.                                              |\n",
    "| **sum()**       | Calcula a soma dos itens de uma coleção.                                  |\n",
    "| **min()**       | Retorna o menor valor de uma coleção.                                     |\n",
    "| **max()**       | Retorna o maior valor de uma coleção.                                     |\n",
    "| **pow(x, y)**   | Eleva o valor de *x* à potência *y*.                                      |\n",
    "| **round()**     | Aproxima o valor passado para o número inteiro mais próximo.              |\n",
    "| **all()**       | Retorna **True** se todos os itens da coleção forem avaliados como **True**. |\n",
    "| **any()**       | Retorna **True** se ao menos um item da coleção for avaliado como **True**, caso contrário, retorna **False**. |\n",
    "\n",
    "\n",
    "Existem ainda outras funções frequentemente usadas, como as de entrada e saída de dados, além das funções **zip** e **enumerate**.\n"
   ]
  },
  {
   "cell_type": "markdown",
   "metadata": {},
   "source": [
    "### Função zip\n",
    "\n",
    "A função **zip** combina os elementos de duas ou mais coleções em tuplas, de modo que a i-ésima tupla contém os elementos de índice i de cada coleção fornecida. "
   ]
  },
  {
   "cell_type": "code",
   "execution_count": null,
   "metadata": {},
   "outputs": [
    {
     "name": "stdout",
     "output_type": "stream",
     "text": [
      "[(1, 'a'), (2, 'b'), (3, 'c')]\n"
     ]
    }
   ],
   "source": [
    "valor = [1, 2, 3]\n",
    "letras = ['a', 'b', 'c']\n",
    "resultado = zip(valor, letras)\n",
    "\n",
    "# Convertendo o objeto zip para uma lista para visualização\n",
    "print(list(resultado))"
   ]
  },
  {
   "cell_type": "code",
   "execution_count": null,
   "metadata": {},
   "outputs": [
    {
     "name": "stdout",
     "output_type": "stream",
     "text": [
      "valor: 1, letra: a\n",
      "valor: 2, letra: b\n",
      "valor: 3, letra: c\n"
     ]
    }
   ],
   "source": [
    "for x, y in zip(valor, letras):\n",
    "    print('Valor: {0}, Letra: {1}'.format(x, y))"
   ]
  },
  {
   "cell_type": "markdown",
   "metadata": {},
   "source": [
    "### Função enumerate\n",
    "\n",
    "Permite iterar pelos elementos de uma coleção e pelos seus índices simultaneamente. Exemplo:"
   ]
  },
  {
   "cell_type": "code",
   "execution_count": null,
   "metadata": {},
   "outputs": [
    {
     "name": "stdout",
     "output_type": "stream",
     "text": [
      "Índice: 0, Letra: a\n",
      "Índice: 1, Letra: b\n",
      "Índice: 2, Letra: c\n"
     ]
    }
   ],
   "source": [
    "for i, le in enumerate(letras):\n",
    "    print('Índice: {0}, Letra: {1}'.format(i, le))"
   ]
  },
  {
   "cell_type": "markdown",
   "metadata": {},
   "source": [
    "Como a função **zip** gera uma sequência de tuplas, é possível usar a função **enumerate** para iterar sobre o resultado do **zip**. Vale ressaltar que é importante usar parênteses corretamente para evitar confusão entre as tuplas geradas por **zip** e os valores retornados por **enumerate**."
   ]
  },
  {
   "cell_type": "code",
   "execution_count": null,
   "metadata": {},
   "outputs": [
    {
     "name": "stdout",
     "output_type": "stream",
     "text": [
      "Índice: 0, Letras: a, Valores: 1\n",
      "Índice: 1, Letras: b, Valores: 2\n",
      "Índice: 2, Letras: c, Valores: 3\n"
     ]
    }
   ],
   "source": [
    "for i, (le, val) in enumerate(zip(letras, valores)):\n",
    "    print('Índice: {0}, Letras: {1}, Valores: {2}'.format(i, le, val))"
   ]
  },
  {
   "cell_type": "markdown",
   "metadata": {},
   "source": [
    "## Docstrings em Funções\n",
    "\n",
    "Em Python, uma boa prática é documentar suas funções usando *docstrings*, que são strings utilizadas para descrever o comportamento e a finalidade da função. As *docstrings* são colocadas logo após a definição da função, entre aspas triplas (`\"\"\"` ou `'''`), e podem ser acessadas a qualquer momento usando o comando `help()`. Elas ajudam tanto os desenvolvedores que escreveram o código quanto aqueles que forem utilizá-lo, proporcionando uma explicação clara e acessível sobre como a função deve ser usada.\n",
    "\n",
    "Uma boa *docstring* normalmente inclui:\n",
    "\n",
    "- Uma descrição sucinta do que a função faz.\n",
    "- A descrição dos parâmetros da função, incluindo o tipo esperado e o significado.\n",
    "- O valor que a função retorna, caso haja.\n",
    "- Possíveis exceções ou erros que a função pode levantar.\n",
    "\n",
    "Exemplo de uma função com *docstring*:"
   ]
  },
  {
   "cell_type": "code",
   "execution_count": null,
   "metadata": {},
   "outputs": [],
   "source": [
    "def soma(a, b):\n",
    "    \"\"\"\n",
    "    Soma dois números e retorna o resultado.\n",
    "\n",
    "    Parâmetros:\n",
    "    a (int ou float): O primeiro número a ser somado.\n",
    "    b (int ou float): O segundo número a ser somado.\n",
    "\n",
    "    Retorna:\n",
    "    int ou float: O resultado da soma de a e b.\n",
    "    \"\"\"\n",
    "    return a + b"
   ]
  },
  {
   "cell_type": "markdown",
   "metadata": {},
   "source": [
    "Vamos elaborar então um programa um pouco mais elaborado que retorna a sequência de Fibonacci"
   ]
  },
  {
   "cell_type": "markdown",
   "metadata": {},
   "source": [
    "```{information}\n",
    "A sequência de Fibonacci é uma série de números inteiros que começa com 0 e 1, na qual cada número seguinte é a soma dos dois números anteriores.\n",
    "```"
   ]
  },
  {
   "cell_type": "code",
   "execution_count": null,
   "metadata": {},
   "outputs": [
    {
     "name": "stdout",
     "output_type": "stream",
     "text": [
      "[0, 1, 1, 2, 3, 5, 8, 13, 21, 34, 55, 89, 144, 233] \n",
      " 14\n"
     ]
    }
   ],
   "source": [
    "def fib2(n):\n",
    "    \"\"\"\n",
    "    Retorna uma lista contendo a série de Fibonacci até o valor n e o número de elementos gerados.\n",
    "\n",
    "    Parâmetros:\n",
    "    n (int): O valor limite até o qual a sequência de Fibonacci será gerada. \n",
    "             A sequência irá até o maior número menor que n.\n",
    "\n",
    "    Retorna:\n",
    "    tuple: Um tuplo contendo:\n",
    "        - Uma lista com os números da sequência de Fibonacci até n.\n",
    "        - Um inteiro que representa o número de elementos na lista gerada.\n",
    "    \"\"\"\n",
    "    result = []\n",
    "    a, b = 0, 1\n",
    "    while a < n:\n",
    "        result.append(a)\n",
    "        a, b = b, a + b\n",
    "    return result, len(result)\n",
    "\n",
    "fibb, n = fib2(250)\n",
    "print(fibb, \"\\n\", n)\n"
   ]
  },
  {
   "cell_type": "markdown",
   "metadata": {},
   "source": [
    "Observe que como função inclui uma docstring (logo após a definição da função), quando usamos função `help` podemos visualiza-lá."
   ]
  },
  {
   "cell_type": "code",
   "execution_count": null,
   "metadata": {},
   "outputs": [
    {
     "name": "stdout",
     "output_type": "stream",
     "text": [
      "Help on function fib2 in module __main__:\n",
      "\n",
      "fib2(n)\n",
      "    Retorna uma lista contendo a série de Fibonacci até o valor n e o número de elementos gerados.\n",
      "    \n",
      "    Parâmetros:\n",
      "    n (int): O valor limite até o qual a sequência de Fibonacci será gerada. \n",
      "             A sequência irá até o maior número menor que n.\n",
      "    \n",
      "    Retorna:\n",
      "    tuple: Um tuplo contendo:\n",
      "        - Uma lista com os números da sequência de Fibonacci até n.\n",
      "        - Um inteiro que representa o número de elementos na lista gerada.\n",
      "\n"
     ]
    }
   ],
   "source": [
    "help(fib2)"
   ]
  },
  {
   "cell_type": "code",
   "execution_count": null,
   "metadata": {},
   "outputs": [],
   "source": []
  },
  {
   "cell_type": "markdown",
   "metadata": {},
   "source": [
    "## Módulos\n",
    "\n",
    "A linguagem Python básica é bastante pequena. A maior parte acontece em módulos. Alguns módulos fazem parte de uma biblioteca padrão que fornece funcionalidade adicional. Essas partes adicionadas estão na forma de módulos que podemos _importar_ para nossa sessão (ou programa) Python.\n",
    "\n",
    "O módulo `math` fornece funções que realizam as operações matemáticas básicas, bem como constantes (note que há um módulo separado `cmath` para números complexos).\n",
    "\n",
    "Em Python, você `importa` um módulo. As funções são então definidas em um _namespace_ separado (ou espaço de nomes) — esta é uma região separada que define nomes e variáveis, etc. Uma variável em um namespace pode ter o mesmo nome que uma variável em um namespace diferente, e elas não entram em conflito. Você usa o operador `.` para acessar um membro de um namespace.\n",
    "\n",
    "Em geral, sempre será da forma:\n",
    "\n",
    "**módulo.namespace**\n",
    "\n",
    "Por padrão, quando você digita algo no interpretador Python ou aqui no notebook Jupyter, ou em um script, ele está em seu próprio namespace padrão, e você não precisa prefixar nenhuma das variáveis com um indicador de namespace."
   ]
  },
  {
   "cell_type": "code",
   "execution_count": null,
   "metadata": {},
   "outputs": [],
   "source": [
    "import math"
   ]
  },
  {
   "cell_type": "markdown",
   "metadata": {},
   "source": [
    "O módulo `math` fornece o valor de π (pi)."
   ]
  },
  {
   "cell_type": "code",
   "execution_count": null,
   "metadata": {},
   "outputs": [
    {
     "data": {
      "text/plain": [
       "3.141592653589793"
      ]
     },
     "metadata": {},
     "output_type": "display_data"
    }
   ],
   "source": [
    "math.pi"
   ]
  },
  {
   "cell_type": "markdown",
   "metadata": {},
   "source": [
    "Isso é distinto de qualquer variável `pi` que possamos definir aqui."
   ]
  },
  {
   "cell_type": "code",
   "execution_count": null,
   "metadata": {},
   "outputs": [],
   "source": [
    "pi = 3"
   ]
  },
  {
   "cell_type": "code",
   "execution_count": null,
   "metadata": {},
   "outputs": [
    {
     "name": "stdout",
     "output_type": "stream",
     "text": [
      "3 3.141592653589793\n"
     ]
    }
   ],
   "source": [
    "print(pi, math.pi)"
   ]
  },
  {
   "cell_type": "markdown",
   "metadata": {},
   "source": [
    "Observe que `pi` e `math.pi` são distintos um do outro—eles estão em namespaces diferentes."
   ]
  },
  {
   "cell_type": "markdown",
   "metadata": {},
   "source": [
    "O módulo `math` fornece muitas das funções matemáticas padrão. A maioria delas é na verdade repetida no `numpy`, então, na prática, eu pessoalmente quase nunca uso `math`. Veremos o numpy logo logo, mas vamos brincar um pouco com o `math`.\n",
    "\n",
    "Para as funções trigonométricas, a expectativa é que o argumento da função esteja em radianos—você pode usar `math.radians()` para converter de graus para radianos, por exemplo:"
   ]
  },
  {
   "cell_type": "code",
   "execution_count": null,
   "metadata": {},
   "outputs": [
    {
     "data": {
      "text/plain": [
       "0.7071067811865476"
      ]
     },
     "metadata": {},
     "output_type": "display_data"
    }
   ],
   "source": [
    "math.cos(math.radians(45))"
   ]
  },
  {
   "cell_type": "markdown",
   "metadata": {},
   "source": [
    "Observe que nessa declaração estamos alimentando a saída de uma função (`math.radians()`) em uma segunda função, `math.cos()`\n",
    "\n",
    "Quando em dúvida, peça ajuda para descobrir todas as coisas que um módulo fornece:"
   ]
  },
  {
   "cell_type": "code",
   "execution_count": null,
   "metadata": {},
   "outputs": [
    {
     "name": "stdout",
     "output_type": "stream",
     "text": [
      "Help on built-in function sin in module math:\n",
      "\n",
      "sin(x, /)\n",
      "    Return the sine of x (measured in radians).\n",
      "\n"
     ]
    }
   ],
   "source": [
    "help(math.sin)"
   ]
  },
  {
   "cell_type": "markdown",
   "metadata": {},
   "source": [
    "## Módulos da biblioteca padrão de Python\n",
    "\n",
    "Python já vem de fábrica com uma enorme quantidade de módulos que podem ser importados para facilitar o trabalho de desenvolvimento. Recomendamos uma visita à lista de módulos da [biblioteca padrão](https://docs.python.org/3/library). Alguns módulos importantes:\n",
    "\n",
    "   * **math**: Funções matemáticas\n",
    "   * **statistics**: Funções estatísticas\n",
    "   * **random**: Geração de números aleatórios\n",
    "   * **datetime**: Tipos e funções básicos de datas\n",
    "   * **os**: Funções de interação com o sistema operacional\n",
    "   * **sqlite3**: Interface para bancos de dados SQLite\n",
    "   * **itertools**: Funções para programação funcional\n",
    "   * **multiprocessing**: Processamento paralelo\n",
    "   * **urllib**: Funções para manipulação de URLs e requisições"
   ]
  }
 ],
 "metadata": {
  "kernelspec": {
   "display_name": "base",
   "language": "python",
   "name": "python3"
  },
  "language_info": {
   "codemirror_mode": {
    "name": "ipython",
    "version": 3
   },
   "file_extension": ".py",
   "mimetype": "text/x-python",
   "name": "python",
   "nbconvert_exporter": "python",
   "pygments_lexer": "ipython3",
   "version": "3.11.7"
  }
 },
 "nbformat": 4,
 "nbformat_minor": 4
}
