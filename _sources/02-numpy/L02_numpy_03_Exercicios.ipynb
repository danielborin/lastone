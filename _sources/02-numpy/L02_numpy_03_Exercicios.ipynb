{
 "cells": [
  {
   "cell_type": "markdown",
   "metadata": {},
   "source": [
    "# Exercícios: Numpy"
   ]
  },
  {
   "cell_type": "code",
   "execution_count": 5,
   "metadata": {},
   "outputs": [],
   "source": [
    "import numpy as np"
   ]
  },
  {
   "cell_type": "markdown",
   "metadata": {},
   "source": [
    "1. Crie os seguintes arrays:\n",
    "\n",
    "    - Crie um array com 5 zeros.\n",
    "    - Crie um array com 10 uns.\n",
    "    - Crie um array com 5 valores 3.141.\n",
    "    - Crie um array com os inteiros de 1 a 20.\n",
    "    - Crie uma matriz 5 x 5 de uns com o tipo de dado `int`."
   ]
  },
  {
   "cell_type": "code",
   "execution_count": null,
   "metadata": {},
   "outputs": [],
   "source": [
    "pass"
   ]
  },
  {
   "cell_type": "markdown",
   "metadata": {},
   "source": [
    "2. Use o numpy para:\n",
    "\n",
    "    - Criar uma matriz 3D de 3 x 3 x 3 cheia de números aleatórios retirados de uma distribuição normal padrão (dica: np.random.randn()).\n",
    "    - Redimensionar a matriz acima para o formato (27,)."
   ]
  },
  {
   "cell_type": "code",
   "execution_count": null,
   "metadata": {},
   "outputs": [],
   "source": [
    "pass"
   ]
  },
  {
   "cell_type": "markdown",
   "metadata": {},
   "source": [
    "3. Crie um array com 20 números espaçados linearmente entre 1 e 10."
   ]
  },
  {
   "cell_type": "code",
   "execution_count": null,
   "metadata": {},
   "outputs": [],
   "source": [
    "pass"
   ]
  },
  {
   "cell_type": "markdown",
   "metadata": {},
   "source": [
    "4. Considere a seguinte array:\n",
    "\n",
    "    ``a = np.arange(1, 26).reshape(5, 5)``\n",
    "\n",
    "    Utilize indexação para obter os seguintes resultados:\n",
    "\n",
    "    - ``20``\n",
    "    - ```\n",
    "        array([[ 9, 10],\n",
    "        [14, 15],\n",
    "        [19, 20],\n",
    "        [24, 25]])\n",
    "    ```\n",
    "    - ``array([ 6,  7,  8,  9, 10])``\n",
    "    - ```\n",
    "        array([[11, 12, 13, 14, 15],\n",
    "        [16, 17, 18, 19, 20]])\n",
    "    ```     \n",
    "    - ```\n",
    "        array([[ 8,  9],\n",
    "        [13, 14]])\n",
    "    ```     "
   ]
  },
  {
   "cell_type": "code",
   "execution_count": null,
   "metadata": {},
   "outputs": [],
   "source": [
    "pass"
   ]
  },
  {
   "cell_type": "markdown",
   "metadata": {},
   "source": [
    "5. Considere a seguinte array:\n",
    "\n",
    "    ``a = np.arange(1, 17).reshape(4, 4)``\n",
    "\n",
    "    a) Calcule a soma de todos os numeros de `a`\n",
    "\n",
    "    b) Calcule a soma de cada linha de ``a``\n",
    "\n",
    "    c) Extraia todos os valores de `a` que são maiores que a média de `a` (dica: use uma máscara booleana)."
   ]
  },
  {
   "cell_type": "code",
   "execution_count": null,
   "metadata": {},
   "outputs": [],
   "source": [
    "pass"
   ]
  },
  {
   "cell_type": "markdown",
   "metadata": {},
   "source": [
    "6. O Numpy possui uma função padrão para calcular o desvio padrão, `np.std()`. Porém, vamos escrever nossa própria função que opera sobre um array 1D (vetor). O desvio padrão é uma medida da \"largura\" da distribuição dos números dentro do vetor.\n",
    "\n",
    "    Dado um array $a$ e sua média $\\bar{a}$, o desvio padrão é calculado pela fórmula:\n",
    "\n",
    "    $$\n",
    "    \\sigma = \\left [ \\frac{1}{N} \\sum_{i=1}^N (a_i - \\bar{a})^2 \\right ]^{1/2}\n",
    "    $$\n",
    "\n",
    "    Agora, vamos criar uma função para calcular o desvio padrão de um array de entrada, `a`:\n",
    "\n",
    "    1. Primeiro, calcule a média dos elementos de `a` para obter $\\bar{a}$.\n",
    "    2. Em seguida, calcule a soma dos quadrados de $(a - \\bar{a})$.\n",
    "    3. Depois, divida essa soma pelo número de elementos no array.\n",
    "    4. Por fim, tire a raiz quadrada (você pode usar `np.sqrt()` para isso).\n",
    "\n",
    "    Teste sua função utilizando um array aleatório e compare o resultado com o da função `np.std()` do Numpy. Não se esqueça de verificar também o tempo de execução.\n",
    "\n"
   ]
  },
  {
   "cell_type": "code",
   "execution_count": null,
   "metadata": {},
   "outputs": [],
   "source": [
    "pass"
   ]
  },
  {
   "cell_type": "markdown",
   "metadata": {},
   "source": [
    "7. Crie uma matriz 10 x 10 inicializada com números aleatórios entre 0 e 10. Em seguida, calcule a média da matriz (existe uma função do numpy para isso, `np.mean()`).\n"
   ]
  },
  {
   "cell_type": "code",
   "execution_count": null,
   "metadata": {},
   "outputs": [],
   "source": [
    "pass"
   ]
  },
  {
   "cell_type": "markdown",
   "metadata": {},
   "source": [
    "8. Crie uma função que gere uma aposta válida para a Mega Sena. A função deve produzir uma lista com 6 números aleatórios, variando entre 1 e 60, sem números repetidos."
   ]
  },
  {
   "cell_type": "code",
   "execution_count": null,
   "metadata": {},
   "outputs": [],
   "source": [
    "pass"
   ]
  },
  {
   "cell_type": "markdown",
   "metadata": {},
   "source": [
    "9. Você tem uma lista em que cada elemento representa o valor gasto em reais em uma compra feita com seu cartão:\n",
    "\n",
    "    ```\n",
    "    L = [13.5, 8.0, 5.99, 27.30, 199.99, 57.21]\n",
    "    ```\n",
    "\n",
    "    Faça um programa cujo objetivo é calcular a porcentagem de cada valor em relação ao total gasto, dividindo cada gasto pelo total da lista para obter a porcentagem correspondente a cada compra."
   ]
  },
  {
   "cell_type": "code",
   "execution_count": null,
   "metadata": {},
   "outputs": [],
   "source": [
    "pass"
   ]
  },
  {
   "cell_type": "markdown",
   "metadata": {},
   "source": [
    "10. Crie um array com ângulos em graus: 0, 15, 30, … até 90 (ou seja, de 15 em 15 graus até 90).\n",
    "\n",
    "    Em seguida, crie 3 novos arrays contendo, respectivamente, o seno, cosseno e tangente dos elementos do primeiro array.\n",
    "\n",
    "    Por fim, calcule o arco seno, arco cosseno e arco tangente dos arrays acima e compare os resultados com os ângulos originais.\n"
   ]
  },
  {
   "cell_type": "code",
   "execution_count": null,
   "metadata": {},
   "outputs": [],
   "source": []
  },
  {
   "cell_type": "markdown",
   "metadata": {},
   "source": [
    "11. Desenvolva uma função que receba uma matriz quadrada de dimensão n x n e retorne a matriz triangular superior. Nesse tipo de matriz, todos os elementos abaixo da diagonal principal devem ser substituídos por zeros, mantendo os valores na diagonal e acima dela."
   ]
  },
  {
   "cell_type": "code",
   "execution_count": null,
   "metadata": {},
   "outputs": [],
   "source": [
    "pass"
   ]
  },
  {
   "cell_type": "markdown",
   "metadata": {},
   "source": [
    "12. Dado o array:\n",
    "\n",
    "    ```\n",
    "    x = np.array([1, -1, 2, 5, 8, 4, 10, 12, 3])\n",
    "    ```\n",
    "\n",
    "    Calcule a diferença entre cada elemento e seu vizinho."
   ]
  },
  {
   "cell_type": "code",
   "execution_count": null,
   "metadata": {},
   "outputs": [],
   "source": [
    "pass"
   ]
  },
  {
   "cell_type": "markdown",
   "metadata": {},
   "source": [
    "13. Dada uma matriz de ordem n x n, crie funções para:\n",
    "\n",
    "    a) Calcular a soma dos elementos presentes na diagonal principal da matriz.\n",
    "\n",
    "    b) Calcular a soma dos elementos presentes na diagonal secundária.\n",
    "\n",
    "    c) Calcular a soma dos elementos em cada linha da matriz.\n",
    "\n",
    "    d) Calcular a soma dos elementos em cada coluna da matriz."
   ]
  },
  {
   "cell_type": "code",
   "execution_count": null,
   "metadata": {},
   "outputs": [],
   "source": [
    "pass"
   ]
  },
  {
   "cell_type": "markdown",
   "metadata": {},
   "source": [
    "14. Dada uma matriz quadrada n x n, faça uma função que diga se ela é simétrica ou não. Teste para `np.random.randint(1, 99, (5, 5))`"
   ]
  },
  {
   "cell_type": "code",
   "execution_count": null,
   "metadata": {},
   "outputs": [],
   "source": [
    "pass"
   ]
  },
  {
   "cell_type": "markdown",
   "metadata": {},
   "source": [
    "15. Desenvolva um programa para calcular a multiplicação de duas matrizes $C = AB$, onde $A$, $B$ e $C$ são matrizes de ordem $n \\times n$. Em seguida, compare o resultado obtido pela sua implementação com o resultado da função `dot` do pacote Numpy."
   ]
  },
  {
   "cell_type": "code",
   "execution_count": null,
   "metadata": {},
   "outputs": [],
   "source": [
    "pass"
   ]
  },
  {
   "cell_type": "markdown",
   "metadata": {},
   "source": []
  }
 ],
 "metadata": {
  "kernelspec": {
   "display_name": "base",
   "language": "python",
   "name": "python3"
  },
  "language_info": {
   "codemirror_mode": {
    "name": "ipython",
    "version": 3
   },
   "file_extension": ".py",
   "mimetype": "text/x-python",
   "name": "python",
   "nbconvert_exporter": "python",
   "pygments_lexer": "ipython3",
   "version": "3.11.7"
  }
 },
 "nbformat": 4,
 "nbformat_minor": 4
}
