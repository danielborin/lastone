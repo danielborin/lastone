{
 "cells": [
  {
   "cell_type": "markdown",
   "metadata": {},
   "source": [
    "# Operações Avançadas no Numpy"
   ]
  },
  {
   "cell_type": "markdown",
   "metadata": {},
   "source": [
    "Vale lembrar que sempre que iniciamos um novo arquivo jupyter e o kernel estiver zerado (nada tiver sido compilado) necessitamos compilar os módulos que necessitamos importar:"
   ]
  },
  {
   "cell_type": "code",
   "execution_count": null,
   "metadata": {},
   "outputs": [],
   "source": [
    "import numpy as np"
   ]
  },
  {
   "cell_type": "markdown",
   "metadata": {},
   "source": [
    "## Concatenando arrays\n",
    "\n",
    "As funções ``vstack`` e ``hstack`` permitem concatenar dois ou mais ``arrays`` verticalmente e horizontalmente, respectivamente:"
   ]
  },
  {
   "cell_type": "code",
   "execution_count": null,
   "metadata": {},
   "outputs": [
    {
     "name": "stdout",
     "output_type": "stream",
     "text": [
      "[[0.         1.        ]\n",
      " [2.         3.        ]\n",
      " [4.         5.        ]\n",
      " [0.50141141 0.87359307]\n",
      " [0.48425233 0.60395912]\n",
      " [0.69012221 0.34917156]]\n",
      "\n",
      "[[0.         1.         0.50141141 0.87359307]\n",
      " [2.         3.         0.48425233 0.60395912]\n",
      " [4.         5.         0.69012221 0.34917156]]\n"
     ]
    }
   ],
   "source": [
    "a = np.arange(6).reshape(3, 2)\n",
    "b = np.random.random((3, 2))\n",
    "\n",
    "print(np.vstack((a, b)))\n",
    "print()\n",
    "\n",
    "print(np.hstack((a, b)))"
   ]
  },
  {
   "cell_type": "markdown",
   "metadata": {},
   "source": [
    "A função ``column_stack`` concatena dois ou mais ``arrays`` **unidimensionais** na forma de colunas em um array 2D resultante:"
   ]
  },
  {
   "cell_type": "code",
   "execution_count": null,
   "metadata": {},
   "outputs": [
    {
     "name": "stdout",
     "output_type": "stream",
     "text": [
      "[[0.         0.98972958]\n",
      " [1.         0.33092818]\n",
      " [2.         0.63970443]]\n",
      "\n",
      "[0.         1.         2.         0.98972958 0.33092818 0.63970443]\n"
     ]
    }
   ],
   "source": [
    "a = np.arange(3)\n",
    "b = np.random.random(3)\n",
    "\n",
    "print(np.column_stack((a, b)))\n",
    "print()\n",
    "\n",
    "print(np.hstack((a, b)))  # resultado diferente"
   ]
  },
  {
   "cell_type": "markdown",
   "metadata": {},
   "source": [
    "Essas funções de concatenação são todas casos especiais de uso mais comum da função *concatenate*, que permite definir o eixo sobre o qual ocorrerá a concatenação."
   ]
  },
  {
   "cell_type": "markdown",
   "metadata": {},
   "source": [
    "## Copiando Arrays"
   ]
  },
  {
   "cell_type": "markdown",
   "metadata": {},
   "source": [
    "```{note}\n",
    "Simplesmente usar \"=\" não faz uma cópia, mas, assim como com listas, você terá vários nomes apontando para o mesmo objeto ndarray.\n",
    "```\n",
    "\n",
    "Portanto, precisamos entender se dois arrays, `A` e `B`, apontam para:\n",
    "* o mesmo array, incluindo forma e espaço de dados/memória\n",
    "* o mesmo espaço de dados/memória, mas talvez formas diferentes (uma _view_)\n",
    "* uma cópia separada dos dados (ou seja, armazenada completamente separada na memória)\n",
    "\n",
    "Todos esses casos são possíveis:\n",
    "* `B = A`\n",
    "\n",
    "  isso é _atribuição_. Nenhuma cópia é feita. `A` e `B` apontam para os mesmos dados na memória e compartilham a mesma forma, etc. Eles são apenas dois rótulos diferentes para o mesmo objeto na memória.\n",
    "\n",
    "* `B = A[:]`\n",
    "\n",
    "  isso é uma _view_ ou _cópia rasa_. As informações de forma de A e B são armazenadas independentemente, mas ambos apontam para o mesmo local de memória para os dados.\n",
    "\n",
    "* `B = A.copy()`\n",
    "\n",
    "  isso é uma _cópia profunda_. Um objeto completamente separado será criado na memória, com um local completamente separado na memória.\n",
    "\n",
    "Vamos ver exemplos:\n"
   ]
  },
  {
   "cell_type": "code",
   "execution_count": null,
   "metadata": {},
   "outputs": [
    {
     "name": "stdout",
     "output_type": "stream",
     "text": [
      "[0 1 2 3 4 5 6 7 8 9]\n"
     ]
    }
   ],
   "source": [
    "a = np.arange(10)\n",
    "print(a)"
   ]
  },
  {
   "cell_type": "markdown",
   "metadata": {},
   "source": [
    "Aqui está a atribuição — podemos simplesmente usar o operador `is` para testar a igualdade."
   ]
  },
  {
   "cell_type": "code",
   "execution_count": null,
   "metadata": {},
   "outputs": [
    {
     "data": {
      "text/plain": [
       "True"
      ]
     },
     "metadata": {},
     "output_type": "display_data"
    }
   ],
   "source": [
    "b = a\n",
    "b is a"
   ]
  },
  {
   "cell_type": "markdown",
   "metadata": {},
   "source": [
    "Como `b` e `a` são o mesmo, alterações na forma de um são refletidas no outro — nenhuma cópia é feita."
   ]
  },
  {
   "cell_type": "code",
   "execution_count": null,
   "metadata": {},
   "outputs": [
    {
     "name": "stdout",
     "output_type": "stream",
     "text": [
      "[[0 1 2 3 4]\n",
      " [5 6 7 8 9]]\n"
     ]
    },
    {
     "data": {
      "text/plain": [
       "(2, 5)"
      ]
     },
     "metadata": {},
     "output_type": "display_data"
    }
   ],
   "source": [
    "b.shape = (2, 5)\n",
    "print(b)\n",
    "a.shape"
   ]
  },
  {
   "cell_type": "code",
   "execution_count": null,
   "metadata": {},
   "outputs": [
    {
     "data": {
      "text/plain": [
       "True"
      ]
     },
     "metadata": {},
     "output_type": "display_data"
    }
   ],
   "source": [
    "b is a"
   ]
  },
  {
   "cell_type": "code",
   "execution_count": null,
   "metadata": {},
   "outputs": [
    {
     "name": "stdout",
     "output_type": "stream",
     "text": [
      "[[0 1 2 3 4]\n",
      " [5 6 7 8 9]]\n"
     ]
    }
   ],
   "source": [
    "print(a)"
   ]
  },
  {
   "cell_type": "markdown",
   "metadata": {},
   "source": [
    "Uma cópia rasa cria uma nova *view* do array — os _dados_ são os mesmos, mas as _propriedades_ do array podem ser diferentes."
   ]
  },
  {
   "cell_type": "code",
   "execution_count": null,
   "metadata": {},
   "outputs": [
    {
     "name": "stdout",
     "output_type": "stream",
     "text": [
      "[[ 0  1  2  3]\n",
      " [ 4  5  6  7]\n",
      " [ 8  9 10 11]]\n",
      "[ 0  1  2  3  4  5  6  7  8  9 10 11]\n"
     ]
    }
   ],
   "source": [
    "a = np.arange(12)\n",
    "c = a[:]\n",
    "a.shape = (3,4)\n",
    "\n",
    "print(a)\n",
    "print(c)"
   ]
  },
  {
   "cell_type": "markdown",
   "metadata": {},
   "source": [
    "Como os dados subjacentes estão na mesma memória, alterar um elemento de um é refletido no outro."
   ]
  },
  {
   "cell_type": "code",
   "execution_count": null,
   "metadata": {},
   "outputs": [
    {
     "name": "stdout",
     "output_type": "stream",
     "text": [
      "[[ 0 -1  2  3]\n",
      " [ 4  5  6  7]\n",
      " [ 8  9 10 11]]\n"
     ]
    }
   ],
   "source": [
    "c[1] = -1\n",
    "print(a)"
   ]
  },
  {
   "cell_type": "markdown",
   "metadata": {},
   "source": [
    "Até mesmo fatiamentos em um array são apenas views, ainda apontando para a mesma memória."
   ]
  },
  {
   "cell_type": "code",
   "execution_count": null,
   "metadata": {},
   "outputs": [
    {
     "name": "stdout",
     "output_type": "stream",
     "text": [
      "[3 4 5 6 7]\n"
     ]
    }
   ],
   "source": [
    "d = c[3:8]\n",
    "print(d)"
   ]
  },
  {
   "cell_type": "code",
   "execution_count": null,
   "metadata": {},
   "outputs": [],
   "source": [
    "d[:] = 0 "
   ]
  },
  {
   "cell_type": "code",
   "execution_count": null,
   "metadata": {},
   "outputs": [
    {
     "name": "stdout",
     "output_type": "stream",
     "text": [
      "[[ 0 -1  2  0]\n",
      " [ 0  0  0  0]\n",
      " [ 8  9 10 11]]\n",
      "[ 0 -1  2  0  0  0  0  0  8  9 10 11]\n",
      "[0 0 0 0 0]\n"
     ]
    }
   ],
   "source": [
    "print(a)\n",
    "print(c)\n",
    "print(d)"
   ]
  },
  {
   "cell_type": "markdown",
   "metadata": {},
   "source": [
    "Existem várias maneiras de verificar se dois arrays são iguais, são views, possuem seus próprios dados, etc."
   ]
  },
  {
   "cell_type": "code",
   "execution_count": null,
   "metadata": {},
   "outputs": [
    {
     "name": "stdout",
     "output_type": "stream",
     "text": [
      "False\n",
      "True\n"
     ]
    }
   ],
   "source": [
    "print(c is a)\n",
    "print(c.base is a)\n",
    "#print(c.flags.owndata)\n",
    "#print(a.flags.owndata)"
   ]
  },
  {
   "cell_type": "markdown",
   "metadata": {},
   "source": [
    "Para fazer uma cópia dos dados do array com a qual você possa trabalhar independentemente do original, você precisa de uma _cópia profunda_."
   ]
  },
  {
   "cell_type": "code",
   "execution_count": null,
   "metadata": {},
   "outputs": [
    {
     "name": "stdout",
     "output_type": "stream",
     "text": [
      "[[ 0 -1  2  0]\n",
      " [ 0  0  0  0]\n",
      " [ 8  9 10 11]]\n",
      "[[0 0 0 0]\n",
      " [0 0 0 0]\n",
      " [0 0 0 0]]\n"
     ]
    }
   ],
   "source": [
    "d = a.copy()\n",
    "d[:,:] = 0.0\n",
    "\n",
    "print(a)\n",
    "print(d)"
   ]
  },
  {
   "cell_type": "markdown",
   "metadata": {},
   "source": [
    "## Indexação booleana (também conhecida como mascaramento)"
   ]
  },
  {
   "cell_type": "markdown",
   "metadata": {},
   "source": [
    "Existem várias maneiras interessantes de indexar arrays para acessar apenas os elementos que atendem a uma determinada condição."
   ]
  },
  {
   "cell_type": "code",
   "execution_count": null,
   "metadata": {},
   "outputs": [
    {
     "data": {
      "text/plain": [
       "array([[ 0,  1,  2,  3],\n",
       "       [ 4,  5,  6,  7],\n",
       "       [ 8,  9, 10, 11]])"
      ]
     },
     "metadata": {},
     "output_type": "display_data"
    }
   ],
   "source": [
    "a = np.arange(12).reshape(3,4)\n",
    "a"
   ]
  },
  {
   "cell_type": "markdown",
   "metadata": {},
   "source": [
    "Aqui, definimos todos os elementos do array que são > 4 para zero."
   ]
  },
  {
   "cell_type": "code",
   "execution_count": null,
   "metadata": {},
   "outputs": [
    {
     "data": {
      "text/plain": [
       "array([[False, False, False, False],\n",
       "       [False,  True,  True,  True],\n",
       "       [ True,  True,  True,  True]])"
      ]
     },
     "metadata": {},
     "output_type": "display_data"
    }
   ],
   "source": [
    "a > 4"
   ]
  },
  {
   "cell_type": "code",
   "execution_count": null,
   "metadata": {},
   "outputs": [
    {
     "data": {
      "text/plain": [
       "array([ 5,  6,  7,  8,  9, 10, 11])"
      ]
     },
     "metadata": {},
     "output_type": "display_data"
    }
   ],
   "source": [
    "a[a > 4]"
   ]
  },
  {
   "cell_type": "code",
   "execution_count": null,
   "metadata": {},
   "outputs": [
    {
     "data": {
      "text/plain": [
       "array([[0, 1, 2, 3],\n",
       "       [4, 0, 0, 0],\n",
       "       [0, 0, 0, 0]])"
      ]
     },
     "metadata": {},
     "output_type": "display_data"
    }
   ],
   "source": [
    "a[a > 4] = 0\n",
    "a"
   ]
  },
  {
   "cell_type": "markdown",
   "metadata": {},
   "source": [
    "E agora, todos os zeros para -1."
   ]
  },
  {
   "cell_type": "code",
   "execution_count": null,
   "metadata": {},
   "outputs": [
    {
     "data": {
      "text/plain": [
       "array([[-1,  1,  2,  3],\n",
       "       [ 4, -1, -1, -1],\n",
       "       [-1, -1, -1, -1]])"
      ]
     },
     "metadata": {},
     "output_type": "display_data"
    }
   ],
   "source": [
    "a[a == 0] = -1\n",
    "a"
   ]
  },
  {
   "cell_type": "code",
   "execution_count": null,
   "metadata": {},
   "outputs": [
    {
     "data": {
      "text/plain": [
       "array([[ True, False, False, False],\n",
       "       [False,  True,  True,  True],\n",
       "       [ True,  True,  True,  True]])"
      ]
     },
     "metadata": {},
     "output_type": "display_data"
    }
   ],
   "source": [
    "a == -1"
   ]
  },
  {
   "cell_type": "markdown",
   "metadata": {},
   "source": [
    "Vamos considerar outro exemplo, envolvendo dois arrays distintos"
   ]
  },
  {
   "cell_type": "code",
   "execution_count": null,
   "metadata": {},
   "outputs": [],
   "source": [
    "a = np.arange(12)\n",
    "b = np.arange(12)*123"
   ]
  },
  {
   "cell_type": "code",
   "execution_count": null,
   "metadata": {},
   "outputs": [
    {
     "data": {
      "text/plain": [
       "array([   0,  123,  246,  369,  492,  615,  738,  861,  984, 1107, 1230,\n",
       "       1353])"
      ]
     },
     "metadata": {},
     "output_type": "display_data"
    }
   ],
   "source": [
    "b"
   ]
  },
  {
   "cell_type": "code",
   "execution_count": null,
   "metadata": {},
   "outputs": [
    {
     "data": {
      "text/plain": [
       "array([False, False, False, False, False, False, False,  True,  True,\n",
       "        True,  True,  True])"
      ]
     },
     "metadata": {},
     "output_type": "display_data"
    }
   ],
   "source": [
    "a>6"
   ]
  },
  {
   "cell_type": "code",
   "execution_count": null,
   "metadata": {},
   "outputs": [
    {
     "data": {
      "text/plain": [
       "array([ 861,  984, 1107, 1230, 1353])"
      ]
     },
     "metadata": {},
     "output_type": "display_data"
    }
   ],
   "source": [
    "b[a>6]"
   ]
  },
  {
   "cell_type": "markdown",
   "metadata": {},
   "source": [
    "Se tivermos 2 testes, precisamos usar `logical_and()` ou `logical_or()`."
   ]
  },
  {
   "cell_type": "code",
   "execution_count": null,
   "metadata": {},
   "outputs": [
    {
     "data": {
      "text/plain": [
       "array([[ 0,  1,  2,  3],\n",
       "       [ 0,  0,  0,  0],\n",
       "       [ 0,  0, 10, 11]])"
      ]
     },
     "metadata": {},
     "output_type": "display_data"
    }
   ],
   "source": [
    "a = np.arange(12).reshape(3,4)\n",
    "a[np.logical_and(a > 3, a <= 9)] = 0.0\n",
    "a"
   ]
  },
  {
   "cell_type": "markdown",
   "metadata": {},
   "source": [
    "## Evitando loops"
   ]
  },
  {
   "cell_type": "markdown",
   "metadata": {},
   "source": [
    "De maneira geral, você quer evitar loops sobre os elementos de um array.\n",
    "\n",
    "Aqui, vamos criar coordenadas 1D de x e y e depois tentar preencher um array maior."
   ]
  },
  {
   "cell_type": "code",
   "execution_count": null,
   "metadata": {},
   "outputs": [
    {
     "name": "stdout",
     "output_type": "stream",
     "text": [
      "(3200,)\n",
      "(6400,)\n"
     ]
    }
   ],
   "source": [
    "M = 3200\n",
    "N = 6400\n",
    "xmin = ymin = 0.0\n",
    "xmax = ymax = 1.0\n",
    "\n",
    "x = np.linspace(xmin, xmax, M, endpoint=False)\n",
    "y = np.linspace(ymin, ymax, N, endpoint=False)\n",
    "\n",
    "print(x.shape)\n",
    "print(y.shape)"
   ]
  },
  {
   "cell_type": "markdown",
   "metadata": {},
   "source": [
    "Vamos medir o tempo do nosso código."
   ]
  },
  {
   "cell_type": "code",
   "execution_count": null,
   "metadata": {},
   "outputs": [],
   "source": [
    "import time"
   ]
  },
  {
   "cell_type": "code",
   "execution_count": null,
   "metadata": {},
   "outputs": [
    {
     "name": "stdout",
     "output_type": "stream",
     "text": [
      "tempo decorrido: 16.666316509246826 s\n"
     ]
    }
   ],
   "source": [
    "t0 = time.time()\n",
    "\n",
    "g = np.zeros((M, N))\n",
    "\n",
    "# Índices, que ideia terrível\n",
    "for i in range(M):\n",
    "    for j in range(N):\n",
    "        g[i,j] = np.sin(2.0*np.pi*x[i]*y[j])\n",
    "        \n",
    "t1 = time.time()\n",
    "print(\"tempo decorrido: {} s\".format(t1-t0))"
   ]
  },
  {
   "cell_type": "markdown",
   "metadata": {},
   "source": [
    "Agora, vamos fazer isso usando toda a sintaxe de arrays. Primeiro, vamos estender nossos arrays de coordenadas 1D para 2D. O Numpy tem uma função para isso (`meshgrid()`)."
   ]
  },
  {
   "cell_type": "markdown",
   "metadata": {},
   "source": [
    "Vamos ver como o `meshgrid()` funciona primeiro.\n"
   ]
  },
  {
   "cell_type": "code",
   "execution_count": null,
   "metadata": {},
   "outputs": [
    {
     "data": {
      "text/plain": [
       "array([[0, 0, 0],\n",
       "       [1, 1, 1],\n",
       "       [2, 2, 2],\n",
       "       [3, 3, 3]])"
      ]
     },
     "metadata": {},
     "output_type": "display_data"
    }
   ],
   "source": [
    "x2d, y2d = np.meshgrid([0,1,2,3], [10,20,30], indexing=\"ij\")\n",
    "x2d"
   ]
  },
  {
   "cell_type": "code",
   "execution_count": null,
   "metadata": {},
   "outputs": [
    {
     "data": {
      "text/plain": [
       "array([[10, 20, 30],\n",
       "       [10, 20, 30],\n",
       "       [10, 20, 30],\n",
       "       [10, 20, 30]])"
      ]
     },
     "metadata": {},
     "output_type": "display_data"
    }
   ],
   "source": [
    "y2d"
   ]
  },
  {
   "cell_type": "markdown",
   "metadata": {},
   "source": [
    "Vemos que isso cria 2 arrays bidimensionais, um com os valores de x variando ao longo das linhas e outro com os valores de y variando ao longo das colunas. Isso significa que podemos indexar todos os pontos (`x[i]`, `y[j]`) através do par `x2d`, `y2d`.\n",
    "\n",
    "Agora, vamos fazer o mesmo exemplo usando este método."
   ]
  },
  {
   "cell_type": "code",
   "execution_count": null,
   "metadata": {},
   "outputs": [
    {
     "name": "stdout",
     "output_type": "stream",
     "text": [
      "tempo decorrido: 0.21164917945861816 s\n"
     ]
    }
   ],
   "source": [
    "t0 = time.time()\n",
    "x2d, y2d = np.meshgrid(x, y, indexing=\"ij\")\n",
    "g2 = np.sin(2.0*np.pi*x2d*y2d)\n",
    "t1 = time.time()\n",
    "print(\"tempo decorrido: {} s\".format(t1-t0))"
   ]
  },
  {
   "cell_type": "markdown",
   "metadata": {},
   "source": [
    "No meu laptop, isso é cerca de:Uma verificação final para garantir que eles forneçam a mesma resposta.\n"
   ]
  },
  {
   "cell_type": "code",
   "execution_count": null,
   "metadata": {},
   "outputs": [
    {
     "name": "stdout",
     "output_type": "stream",
     "text": [
      "0.0\n"
     ]
    }
   ],
   "source": [
    "print(np.max(np.abs(g2-g)))"
   ]
  },
  {
   "cell_type": "markdown",
   "metadata": {},
   "source": [
    "### Exemplo: Diferenciação Numérica"
   ]
  },
  {
   "cell_type": "markdown",
   "metadata": {},
   "source": [
    "Agora, queremos construir uma derivada,\n",
    "$$\n",
    "\\frac{d f}{dx}\n",
    "$$\n"
   ]
  },
  {
   "cell_type": "code",
   "execution_count": null,
   "metadata": {},
   "outputs": [],
   "source": [
    "x = np.linspace(0, 2*np.pi, 25)\n",
    "f = np.sin(x)"
   ]
  },
  {
   "cell_type": "markdown",
   "metadata": {},
   "source": [
    "Queremos fazer isso sem loops — usaremos views em arrays deslocados entre si. Lembre-se de cálculo que uma derivada é aproximadamente:\n",
    "$$\n",
    "\\frac{df}{dx} = \\frac{f(x+h) - f(x)}{h}\n",
    "$$\n",
    "Aqui, tomaremos $h$ como um único elemento adjacente."
   ]
  },
  {
   "cell_type": "code",
   "execution_count": null,
   "metadata": {},
   "outputs": [
    {
     "data": {
      "text/plain": [
       "array([ 0.00000000e+00,  2.58819045e-01,  5.00000000e-01,  7.07106781e-01,\n",
       "        8.66025404e-01,  9.65925826e-01,  1.00000000e+00,  9.65925826e-01,\n",
       "        8.66025404e-01,  7.07106781e-01,  5.00000000e-01,  2.58819045e-01,\n",
       "        1.22464680e-16, -2.58819045e-01, -5.00000000e-01, -7.07106781e-01,\n",
       "       -8.66025404e-01, -9.65925826e-01, -1.00000000e+00, -9.65925826e-01,\n",
       "       -8.66025404e-01, -7.07106781e-01, -5.00000000e-01, -2.58819045e-01,\n",
       "       -2.44929360e-16])"
      ]
     },
     "metadata": {},
     "output_type": "display_data"
    }
   ],
   "source": [
    "f"
   ]
  },
  {
   "cell_type": "code",
   "execution_count": null,
   "metadata": {},
   "outputs": [
    {
     "data": {
      "text/plain": [
       "array([ 2.58819045e-01,  5.00000000e-01,  7.07106781e-01,  8.66025404e-01,\n",
       "        9.65925826e-01,  1.00000000e+00,  9.65925826e-01,  8.66025404e-01,\n",
       "        7.07106781e-01,  5.00000000e-01,  2.58819045e-01,  1.22464680e-16,\n",
       "       -2.58819045e-01, -5.00000000e-01, -7.07106781e-01, -8.66025404e-01,\n",
       "       -9.65925826e-01, -1.00000000e+00, -9.65925826e-01, -8.66025404e-01,\n",
       "       -7.07106781e-01, -5.00000000e-01, -2.58819045e-01, -2.44929360e-16])"
      ]
     },
     "metadata": {},
     "output_type": "display_data"
    }
   ],
   "source": [
    "f[1:]"
   ]
  },
  {
   "cell_type": "code",
   "execution_count": null,
   "metadata": {},
   "outputs": [
    {
     "data": {
      "text/plain": [
       "array([ 0.00000000e+00,  2.58819045e-01,  5.00000000e-01,  7.07106781e-01,\n",
       "        8.66025404e-01,  9.65925826e-01,  1.00000000e+00,  9.65925826e-01,\n",
       "        8.66025404e-01,  7.07106781e-01,  5.00000000e-01,  2.58819045e-01,\n",
       "        1.22464680e-16, -2.58819045e-01, -5.00000000e-01, -7.07106781e-01,\n",
       "       -8.66025404e-01, -9.65925826e-01, -1.00000000e+00, -9.65925826e-01,\n",
       "       -8.66025404e-01, -7.07106781e-01, -5.00000000e-01, -2.58819045e-01])"
      ]
     },
     "metadata": {},
     "output_type": "display_data"
    }
   ],
   "source": [
    "f[:-1]"
   ]
  },
  {
   "cell_type": "code",
   "execution_count": null,
   "metadata": {},
   "outputs": [
    {
     "name": "stdout",
     "output_type": "stream",
     "text": [
      "24\n"
     ]
    },
    {
     "data": {
      "text/plain": [
       "24"
      ]
     },
     "metadata": {},
     "output_type": "display_data"
    }
   ],
   "source": [
    "print(len(f[:-1]))\n",
    "len(f[1:])"
   ]
  },
  {
   "cell_type": "code",
   "execution_count": null,
   "metadata": {},
   "outputs": [],
   "source": [
    "dx = x[1] - x[0]\n",
    "dfdx = (f[1:] - f[:-1])/dx"
   ]
  },
  {
   "cell_type": "code",
   "execution_count": null,
   "metadata": {},
   "outputs": [
    {
     "data": {
      "text/plain": [
       "array([ 0.98861593,  0.92124339,  0.79108963,  0.60702442,  0.38159151,\n",
       "        0.13015376, -0.13015376, -0.38159151, -0.60702442, -0.79108963,\n",
       "       -0.92124339, -0.98861593, -0.98861593, -0.92124339, -0.79108963,\n",
       "       -0.60702442, -0.38159151, -0.13015376,  0.13015376,  0.38159151,\n",
       "        0.60702442,  0.79108963,  0.92124339,  0.98861593])"
      ]
     },
     "metadata": {},
     "output_type": "display_data"
    }
   ],
   "source": [
    "dfdx"
   ]
  },
  {
   "cell_type": "markdown",
   "metadata": {},
   "source": [
    "## Ordenando arrays\n",
    "\n",
    "O NumPy fornece diversas funções para ordenar `arrays`. A função principal é o `sort`, que retorna uma cópia do `array` ordenado, com base no array fornecido como argumento:"
   ]
  },
  {
   "cell_type": "code",
   "execution_count": null,
   "metadata": {},
   "outputs": [
    {
     "name": "stdout",
     "output_type": "stream",
     "text": [
      "[-6 -2  0  1  2  7  8 12 13]\n"
     ]
    }
   ],
   "source": [
    "a = np.array([8, 12, 1, 0, -2, -6, 2, 7, 13])\n",
    "print(np.sort(a))"
   ]
  },
  {
   "cell_type": "markdown",
   "metadata": {},
   "source": [
    "Se `a` for um `array` multidimensional, é possível utilizar o parâmetro `axis` para especificar o eixo ao longo do qual a ordenação será realizada."
   ]
  },
  {
   "cell_type": "code",
   "execution_count": null,
   "metadata": {},
   "outputs": [
    {
     "name": "stdout",
     "output_type": "stream",
     "text": [
      "[-6 -2  0  1  2  7  8 12 13]\n",
      "[[ 0 -2 -6]\n",
      " [ 2  7  1]\n",
      " [ 8 12 13]]\n",
      "[[ 1  8 12]\n",
      " [-6 -2  0]\n",
      " [ 2  7 13]]\n"
     ]
    }
   ],
   "source": [
    "b = np.array([[8, 12, 1], [0, -2, -6], [2, 7, 13]])\n",
    "print(np.sort(b, axis=None))  # se axis for None, o array é aplainado antes de ordenar\n",
    "print(np.sort(b, axis=0))  # axis=0 irá ordenar através das linhas\n",
    "print(np.sort(b, axis=1))  # axis=1 irá ordenar através das colunas"
   ]
  },
  {
   "cell_type": "markdown",
   "metadata": {},
   "source": [
    "Também é possível escolher o algoritmo de ordenação usando o parâmetro `kind` (cujo valor padrão é 'quicksort'):"
   ]
  },
  {
   "cell_type": "code",
   "execution_count": null,
   "metadata": {},
   "outputs": [
    {
     "name": "stdout",
     "output_type": "stream",
     "text": [
      "[-6 -2  0  1  2  7  8 12 13]\n"
     ]
    }
   ],
   "source": [
    "print(np.sort(a, kind='mergesort'))"
   ]
  },
  {
   "cell_type": "markdown",
   "metadata": {},
   "source": [
    "Uma outra função relevante é `argsort`, que, em vez de devolver o `array` ordenado, retorna os índices que, quando aplicados ao `array`, o ordenariam corretamente. A função `argsort` recebe os mesmos parâmetros que a função `sort`."
   ]
  },
  {
   "cell_type": "code",
   "execution_count": null,
   "metadata": {},
   "outputs": [
    {
     "name": "stdout",
     "output_type": "stream",
     "text": [
      "[ 8 12  1  0 -2 -6  2  7 13]\n",
      "[5 4 3 2 6 7 0 1 8]\n",
      "[-6 -2  0  1  2  7  8 12 13]\n",
      "\n",
      "[[1 1 1]\n",
      " [2 2 0]\n",
      " [0 0 2]]\n",
      "\n",
      "[[2 0 1]\n",
      " [2 1 0]\n",
      " [0 1 2]]\n"
     ]
    }
   ],
   "source": [
    "print(a)\n",
    "print(np.argsort(a))\n",
    "print(a[np.argsort(a)])\n",
    "print()\n",
    "\n",
    "b = np.array([\n",
    "    [8, 12, 1], \n",
    "    [0, -2, -6], \n",
    "    [2, 7, 13]\n",
    "])\n",
    "\n",
    "print(np.argsort(b, axis=0))\n",
    "print()\n",
    "print(np.argsort(b, axis=1))"
   ]
  },
  {
   "cell_type": "markdown",
   "metadata": {},
   "source": [
    "## Localizando valores\n",
    "\n",
    "As funções `amax` e `amin` são responsáveis por retornar, respectivamente, o maior e o menor valor do `array`. É possível, naturalmente, especificar o eixo desejado utilizando o parâmetro `axis`."
   ]
  },
  {
   "cell_type": "code",
   "execution_count": null,
   "metadata": {},
   "outputs": [
    {
     "name": "stdout",
     "output_type": "stream",
     "text": [
      "13\n",
      "-6\n",
      "\n",
      "[ 8 12 13]\n",
      "[ 1 -6  2]\n"
     ]
    }
   ],
   "source": [
    "b = np.array([\n",
    "    [8, 12, 1], \n",
    "    [0, -2, -6], \n",
    "    [2, 7, 13]\n",
    "])\n",
    "\n",
    "print(np.amax(b))\n",
    "print(np.amin(b))\n",
    "print()\n",
    "\n",
    "print(np.amax(b, axis=0))  # maior elemento de cada coluna\n",
    "print(np.amin(b, axis=1))  # menor elemento de cada linha"
   ]
  },
  {
   "cell_type": "markdown",
   "metadata": {},
   "source": [
    "De forma semelhante à função `argsort`, as funções `argmax` e `argmin` retornam os índices, respectivamente, do maior e do menor elemento do `array`, com a possibilidade de definir o eixo desejado."
   ]
  },
  {
   "cell_type": "code",
   "execution_count": null,
   "metadata": {},
   "outputs": [
    {
     "name": "stdout",
     "output_type": "stream",
     "text": [
      "8\n",
      "5\n",
      "\n",
      "[0 0 2]\n",
      "[2 2 0]\n"
     ]
    }
   ],
   "source": [
    "print(np.argmax(b))  # considera o array aplainado (b.ravel())\n",
    "print(np.argmin(b))\n",
    "print()\n",
    "\n",
    "print(np.argmax(b, axis=0))  # índice do maior elemento de cada coluna\n",
    "print(np.argmin(b, axis=1))  # índice do menor elemento de cada linha"
   ]
  },
  {
   "cell_type": "markdown",
   "metadata": {},
   "source": [
    "Uma função adicional relevante para localizar valores em um `array` é a função `where`, que retorna uma tupla com os índices onde uma condição é verdadeira."
   ]
  },
  {
   "cell_type": "code",
   "execution_count": null,
   "metadata": {},
   "outputs": [
    {
     "name": "stdout",
     "output_type": "stream",
     "text": [
      "[[ 8 12  1]\n",
      " [ 0 -2 -6]\n",
      " [ 2  7 13]]\n",
      "[[False False  True]\n",
      " [ True  True  True]\n",
      " [ True False False]]\n",
      "(array([0, 1, 1, 1, 2], dtype=int64), array([2, 0, 1, 2, 0], dtype=int64))\n"
     ]
    }
   ],
   "source": [
    "print(b)\n",
    "print(b < 7)\n",
    "print(np.where(b < 7))"
   ]
  },
  {
   "cell_type": "markdown",
   "metadata": {},
   "source": [
    "## Geração de números aleatórios\n",
    "\n",
    "O NumPy oferece várias funções para gerar números aleatórios através do pacote `random`. Por exemplo, para gerar números uniformemente distribuídos no intervalo \\[0.0, 1.0), pode-se utilizar a função `random`:"
   ]
  },
  {
   "cell_type": "code",
   "execution_count": null,
   "metadata": {},
   "outputs": [
    {
     "name": "stdout",
     "output_type": "stream",
     "text": [
      "0.22308618591500362\n",
      "[0.17372546 0.93596624 0.96880746]\n",
      "[[0.10932841 0.94618762]\n",
      " [0.24079747 0.44990437]\n",
      " [0.23531846 0.78875791]]\n"
     ]
    }
   ],
   "source": [
    "print(np.random.random())  # apenas um número\n",
    "print(np.random.random(3))  # vetor com 3 números aleatórios\n",
    "print(np.random.random((3, 2)))  # matriz aleatória 3x2"
   ]
  },
  {
   "cell_type": "markdown",
   "metadata": {},
   "source": [
    "Para gerar números inteiros uniformemente distribuídos no intervalo \\[a, b), pode-se utilizar a função `randint`:"
   ]
  },
  {
   "cell_type": "code",
   "execution_count": null,
   "metadata": {},
   "outputs": [
    {
     "name": "stdout",
     "output_type": "stream",
     "text": [
      "3\n",
      "4\n",
      "[[2 4]\n",
      " [3 3]\n",
      " [3 4]]\n"
     ]
    }
   ],
   "source": [
    "print(np.random.randint(2, 5))  # inteiro em [2, 5)\n",
    "print(np.random.randint(5))  # inteiro em [0, 5)\n",
    "print(np.random.randint(2, 5, (3, 2)))  # matriz aleatória 3x2 em [2, 5)"
   ]
  },
  {
   "cell_type": "markdown",
   "metadata": {},
   "source": [
    "Para extrair uma amostra aleatória de um `array`, pode-se utilizar a função `choice`:"
   ]
  },
  {
   "cell_type": "code",
   "execution_count": null,
   "metadata": {},
   "outputs": [
    {
     "name": "stdout",
     "output_type": "stream",
     "text": [
      "[0 1 2 3 4 5 6 7]\n",
      "\n",
      "1\n",
      "\n",
      "[4 0 3]\n",
      "\n",
      "[[6 0]\n",
      " [3 3]\n",
      " [4 7]]\n",
      "\n",
      "[7 0 2]\n",
      "\n",
      "[5 6 4]\n",
      "\n",
      "4\n"
     ]
    }
   ],
   "source": [
    "a = np.arange(8)\n",
    "print(a)\n",
    "print()\n",
    "print(np.random.choice(a))  # um elemento aleatório de a\n",
    "print()\n",
    "print(np.random.choice(a, 3))  # três elementos aleatórios de a\n",
    "print()\n",
    "print(np.random.choice(a, (3, 2)))  # seis elementos aleatórios de a na forma 3x2\n",
    "print()\n",
    "print(np.random.choice(a, 3, replace=False))  # três elementos aleatórios de a sem reposição\n",
    "print()\n",
    "print(\n",
    "    np.random.choice(\n",
    "        a, \n",
    "        3, \n",
    "        replace=False,\n",
    "        p=a/np.sum(a)\n",
    "    )\n",
    ")  # três elementos aleatórios de a sem reposição e com diferentes probabilidades\n",
    "print()\n",
    "print(np.random.choice(5))  # um elemento aleatório no range(5)"
   ]
  },
  {
   "cell_type": "markdown",
   "metadata": {},
   "source": [
    "Para reorganizar aleatoriamente os elementos de um `array`, pode-se usar a função `shuffle`, que altera o próprio `array`, ou seja, não retorna um novo `array` como resultado. Exemplo:"
   ]
  },
  {
   "cell_type": "code",
   "execution_count": null,
   "metadata": {},
   "outputs": [
    {
     "name": "stdout",
     "output_type": "stream",
     "text": [
      "[ 4  6  7 13 11  8  5 12  0 10 14  9  1  2  3]\n"
     ]
    }
   ],
   "source": [
    "a = np.arange(15)\n",
    "\n",
    "np.random.shuffle(a)\n",
    "print(a)"
   ]
  },
  {
   "cell_type": "markdown",
   "metadata": {},
   "source": [
    "Os `arrays` multidimensionais são reorganizados aleatoriamente apenas no primeiro eixo:"
   ]
  },
  {
   "cell_type": "code",
   "execution_count": null,
   "metadata": {},
   "outputs": [
    {
     "name": "stdout",
     "output_type": "stream",
     "text": [
      "[[ 0  1  2  3]\n",
      " [ 4  5  6  7]\n",
      " [ 8  9 10 11]]\n",
      "[[ 4  5  6  7]\n",
      " [ 8  9 10 11]\n",
      " [ 0  1  2  3]]\n"
     ]
    }
   ],
   "source": [
    "a = np.arange(12).reshape(3, 4)\n",
    "print(a)\n",
    "np.random.shuffle(a)\n",
    "print(a)"
   ]
  },
  {
   "cell_type": "markdown",
   "metadata": {},
   "source": [
    "Apenas por curiosidade, para reorganizar aleatoriamente as colunas de um `array` 2D, pode-se utilizar a função de programação funcional `apply_along_axis`, que aplica uma função ao longo de um eixo do `array`."
   ]
  },
  {
   "cell_type": "code",
   "execution_count": null,
   "metadata": {},
   "outputs": [
    {
     "name": "stdout",
     "output_type": "stream",
     "text": [
      "[[ 0  1 10  3]\n",
      " [ 4  5  2  7]\n",
      " [ 8  9  6 11]]\n",
      "\n",
      "[[ 3  0 10  1]\n",
      " [ 2  4  5  7]\n",
      " [11  9  8  6]]\n"
     ]
    }
   ],
   "source": [
    "np.apply_along_axis(np.random.shuffle, 0, a)\n",
    "print(a)\n",
    "print()\n",
    "np.apply_along_axis(np.random.shuffle, 1, a)\n",
    "print(a)"
   ]
  },
  {
   "cell_type": "markdown",
   "metadata": {},
   "source": [
    "De maneira similar à função `shuffle`, a função `permutation` também reorganiza aleatoriamente os elementos de um `array`, mas retorna um novo `array` como resultado. Quando o `array` é multidimensional, ela também afeta apenas o primeiro eixo. Uma diferença em relação à função `shuffle` é que `permutation` pode receber um número inteiro `x` como parâmetro, ao invés de um `array`. Nesse caso, ela retorna uma permutação do **range**(*x*)."
   ]
  },
  {
   "cell_type": "code",
   "execution_count": null,
   "metadata": {},
   "outputs": [
    {
     "name": "stdout",
     "output_type": "stream",
     "text": [
      "[ 0  1  2  3  4  5  6  7  8  9 10 11]\n",
      "[ 8  5  7 10  0  4 11  9  2  1  3  6]\n",
      "[ 0  1  2  3  4  5  6  7  8  9 10 11]\n",
      "\n",
      "[6 4 5 2 0 9 3 7 8 1]\n"
     ]
    }
   ],
   "source": [
    "a = np.arange(12)\n",
    "print(a)\n",
    "print(np.random.permutation(a))\n",
    "print(a)\n",
    "print()\n",
    "print(np.random.permutation(10))"
   ]
  },
  {
   "cell_type": "markdown",
   "metadata": {},
   "source": [
    "Em simulações, é essencial garantir que os resultados possam ser reproduzidos. Para isso, é necessário que os valores aleatórios gerados durante a execução do script sejam consistentes a cada execução. Isso pode ser alcançado definindo a \"semente\" do gerador de números pseudoaleatórios do NumPy, por meio da função `random.seed`. Por exemplo, o número gerado pelo código abaixo será sempre o mesmo.\n"
   ]
  },
  {
   "cell_type": "code",
   "execution_count": null,
   "metadata": {},
   "outputs": [
    {
     "name": "stdout",
     "output_type": "stream",
     "text": [
      "0.9444966028573069\n"
     ]
    }
   ],
   "source": [
    "np.random.seed(37)\n",
    "print(np.random.random())"
   ]
  },
  {
   "cell_type": "markdown",
   "metadata": {},
   "source": [
    "## Álgebra Linear\n",
    "\n",
    "A maioria das funções de álgebra linear do NumPy estão acessíveis por meio do módulo `np.linalg`. Entre as funções importantes, destaca-se a de calcular a inversa de uma matriz:"
   ]
  },
  {
   "cell_type": "code",
   "execution_count": null,
   "metadata": {},
   "outputs": [
    {
     "name": "stdout",
     "output_type": "stream",
     "text": [
      "[[-2.   1. ]\n",
      " [ 1.5 -0.5]]\n"
     ]
    }
   ],
   "source": [
    "a = np.array([[1.0, 2.0], [3.0, 4.0]])\n",
    "print(np.linalg.inv(a))"
   ]
  },
  {
   "cell_type": "markdown",
   "metadata": {},
   "source": [
    "Podemos calcular o determinante e o traço de uma matriz:"
   ]
  },
  {
   "cell_type": "code",
   "execution_count": null,
   "metadata": {},
   "outputs": [
    {
     "name": "stdout",
     "output_type": "stream",
     "text": [
      "-2.0000000000000004\n",
      "5.0\n"
     ]
    }
   ],
   "source": [
    "print(np.linalg.det(a))\n",
    "print(np.trace(a))  # o traço está disponível no próprio np"
   ]
  },
  {
   "cell_type": "markdown",
   "metadata": {},
   "source": [
    "Obter a diagonal de uma matriz como um vetor:"
   ]
  },
  {
   "cell_type": "code",
   "execution_count": null,
   "metadata": {},
   "outputs": [
    {
     "data": {
      "text/plain": [
       "array([1., 4.])"
      ]
     },
     "metadata": {},
     "output_type": "display_data"
    }
   ],
   "source": [
    "np.diag(a)"
   ]
  },
  {
   "cell_type": "markdown",
   "metadata": {},
   "source": [
    "Obter uma matriz diagonal a partir de um vetor:"
   ]
  },
  {
   "cell_type": "code",
   "execution_count": null,
   "metadata": {},
   "outputs": [
    {
     "data": {
      "text/plain": [
       "array([[1., 0.],\n",
       "       [0., 4.]])"
      ]
     },
     "metadata": {},
     "output_type": "display_data"
    }
   ],
   "source": [
    "np.diag(np.diag(a))"
   ]
  },
  {
   "cell_type": "markdown",
   "metadata": {},
   "source": [
    "Resolve um sistema de equações lineares:"
   ]
  },
  {
   "cell_type": "code",
   "execution_count": null,
   "metadata": {},
   "outputs": [
    {
     "data": {
      "text/plain": [
       "array([[-3.],\n",
       "       [ 4.]])"
      ]
     },
     "metadata": {},
     "output_type": "display_data"
    }
   ],
   "source": [
    "y = np.array([[5.0], [7.0]])\n",
    "np.linalg.solve(a, y)"
   ]
  },
  {
   "cell_type": "markdown",
   "metadata": {},
   "source": [
    "Encontrar os autovalores e os autovetores de uma matriz:"
   ]
  },
  {
   "cell_type": "code",
   "execution_count": null,
   "metadata": {},
   "outputs": [
    {
     "data": {
      "text/plain": [
       "(array([-0.37228132,  5.37228132]), array([[-0.82456484, -0.41597356],\n",
       "        [ 0.56576746, -0.90937671]]))"
      ]
     },
     "metadata": {},
     "output_type": "display_data"
    }
   ],
   "source": [
    "np.linalg.eig(a)  # retorna uma tupla (autovalores, autovetores)"
   ]
  }
 ],
 "metadata": {
  "kernelspec": {
   "display_name": "base",
   "language": "python",
   "name": "python3"
  },
  "language_info": {
   "codemirror_mode": {
    "name": "ipython",
    "version": 3
   },
   "file_extension": ".py",
   "mimetype": "text/x-python",
   "name": "python",
   "nbconvert_exporter": "python",
   "pygments_lexer": "ipython3",
   "version": "3.11.7"
  }
 },
 "nbformat": 4,
 "nbformat_minor": 4
}
