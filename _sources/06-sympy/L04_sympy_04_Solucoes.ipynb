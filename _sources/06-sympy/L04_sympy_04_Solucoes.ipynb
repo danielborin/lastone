{
 "cells": [
  {
   "cell_type": "markdown",
   "metadata": {},
   "source": [
    "# Encontrando Soluções\n",
    "\n",
    "O Sympy tem diversas ferramentas para encontrar a soluções de equações, sistemas, EDO, etc de forma simbólica.\n"
   ]
  },
  {
   "cell_type": "code",
   "execution_count": null,
   "metadata": {},
   "outputs": [],
   "source": [
    "from sympy import init_session\n",
    "init_session(use_latex=\"mathjax\")"
   ]
  },
  {
   "cell_type": "markdown",
   "metadata": {},
   "source": [
    "### Equações\n",
    "\n",
    "O `solveset` é uma função do SymPy utilizada para encontrar soluções de equações etc de forma simbólica. \n",
    "\n",
    "Antigamente, a função utilizada era `solve()`, mas ela foi substituída (veja mais em http://docs.sympy.org/latest/modules/solvers/solveset.html).\n",
    "\n",
    "A sintaxe é\n",
    "\n",
    "``solveset(equação, variável)``\n",
    "\n",
    "No exemplo abaixo tentamos buscar o conjunto solução da equação $x^2-x=4$, que para denota-lá usamos `Eq(x**2 - x,4)`"
   ]
  },
  {
   "cell_type": "code",
   "execution_count": null,
   "metadata": {},
   "outputs": [
    {
     "data": {
      "text/latex": [
       "$\\displaystyle \\left\\{\\frac{1}{2} - \\frac{\\sqrt{17}}{2}, \\frac{1}{2} + \\frac{\\sqrt{17}}{2}\\right\\}$"
      ],
      "text/plain": [
       "⎧1   √17  1   √17⎫\n",
       "⎨─ - ───, ─ + ───⎬\n",
       "⎩2    2   2    2 ⎭"
      ]
     },
     "metadata": {},
     "output_type": "display_data"
    }
   ],
   "source": [
    "solveset(Eq(x**2 - x,4), x)"
   ]
  },
  {
   "cell_type": "markdown",
   "metadata": {},
   "source": [
    "Se `Eq()` não for utilizado, assume-se que a equação é igual a 0."
   ]
  },
  {
   "cell_type": "code",
   "execution_count": null,
   "metadata": {},
   "outputs": [
    {
     "data": {
      "text/latex": [
       "$\\displaystyle \\left\\{0, 1\\right\\}$"
      ],
      "text/plain": [
       "{0, 1}"
      ]
     },
     "metadata": {},
     "output_type": "display_data"
    }
   ],
   "source": [
    "solveset(x**2 - x, x)"
   ]
  },
  {
   "cell_type": "markdown",
   "metadata": {},
   "source": [
    "A função `solveset` no **SymPy** permite restringir as soluções de uma equação a um determinado domínio. Os principais domínios de restrição são:\n",
    "\n",
    "1. **`S.Reals`**: \n",
    "   - Restringe as soluções aos números reais.\n",
    "   - Exemplo: Encontrar soluções reais para uma equação.\n",
    "\n",
    "2. **`S.Integers`**: \n",
    "   - Restringe as soluções aos números inteiros.\n",
    "   - Exemplo: Encontrar soluções inteiras para uma equação.\n",
    "\n",
    "3. **`S.Complexes`**: \n",
    "   - Restringe as soluções aos números complexos.\n",
    "   - Este é o comportamento padrão se nenhum domínio for especificado.\n",
    "   - Exemplo: Encontrar soluções complexas para uma equação.\n",
    "\n",
    "4. **`Interval`**:\n",
    "   - Restringe as soluções a um intervalo específico.\n",
    "   - Você pode definir um intervalo com a função `sp.Interval(inicio, fim)`, onde `inicio` e `fim` são os limites do intervalo.\n",
    "   - Exemplo: Encontrar soluções de uma equação dentro do intervalo [0, 3].\n"
   ]
  },
  {
   "cell_type": "code",
   "execution_count": null,
   "metadata": {},
   "outputs": [
    {
     "data": {
      "text/latex": [
       "$\\displaystyle \\left\\{2 n \\pi + \\frac{\\pi}{2}\\; \\middle|\\; n \\in \\mathbb{Z}\\right\\}$"
      ],
      "text/plain": [
       "⎧        π │      ⎫\n",
       "⎨2⋅n⋅π + ─ │ n ∊ ℤ⎬\n",
       "⎩        2 │      ⎭"
      ]
     },
     "metadata": {},
     "output_type": "display_data"
    }
   ],
   "source": [
    "solveset(sin(x) - 1, x, domain=S.Reals)"
   ]
  },
  {
   "cell_type": "markdown",
   "metadata": {},
   "source": [
    "em que o conjunto Z representa os inteiros."
   ]
  },
  {
   "cell_type": "markdown",
   "metadata": {},
   "source": [
    "O `root` é um método do SymPy que permite encontrar a raiz de uma equação ou expressão simbólica. Ele é mais usaddo para encontrar raízes diretas de polinômios simples, enqual o `solveset` para equações gerais com maior flexibilidade e controle sobre o domínio."
   ]
  },
  {
   "cell_type": "code",
   "execution_count": null,
   "metadata": {},
   "outputs": [
    {
     "data": {
      "text/latex": [
       "$\\displaystyle \\left\\{0, 3\\right\\}$"
      ],
      "text/plain": [
       "{0, 3}"
      ]
     },
     "metadata": {},
     "output_type": "display_data"
    }
   ],
   "source": [
    "solveset(x**3 - 6*x**2 + 9*x, x)"
   ]
  },
  {
   "cell_type": "code",
   "execution_count": null,
   "metadata": {},
   "outputs": [
    {
     "data": {
      "text/latex": [
       "$\\displaystyle \\left\\{ 0 : 1, \\  3 : 2\\right\\}$"
      ],
      "text/plain": [
       "{0: 1, 3: 2}"
      ]
     },
     "metadata": {},
     "output_type": "display_data"
    }
   ],
   "source": [
    "roots(x**3 - 6*x**2 + 9*x, x)"
   ]
  },
  {
   "cell_type": "markdown",
   "metadata": {},
   "source": [
    "O número 0 representa uma raiz única, enquanto o número 3 indica duas raízes que coincidem.\n"
   ]
  },
  {
   "cell_type": "markdown",
   "metadata": {},
   "source": [
    "### Sistemas Lineares\n",
    "\n",
    "O `linsolve()` é uma função do SymPy utilizada para encontrar soluções de sistemas de equações lineares de forma simbólica. "
   ]
  },
  {
   "cell_type": "markdown",
   "metadata": {},
   "source": [
    "Sua sintaxe é:\n",
    "\n",
    "`linsolve([expr1, expr2], [variavel1, variavel2])`"
   ]
  },
  {
   "cell_type": "code",
   "execution_count": null,
   "metadata": {},
   "outputs": [
    {
     "data": {
      "text/latex": [
       "$\\displaystyle \\left\\{\\left( \\frac{1}{2}, \\  \\frac{5}{2}\\right)\\right\\}$"
      ],
      "text/plain": [
       "{(1/2, 5/2)}"
      ]
     },
     "metadata": {},
     "output_type": "display_data"
    }
   ],
   "source": [
    "linsolve([x - y + 2, x + y - 3], [x, y])"
   ]
  },
  {
   "cell_type": "code",
   "execution_count": null,
   "metadata": {},
   "outputs": [
    {
     "data": {
      "text/latex": [
       "$\\displaystyle \\left\\{\\left( - y - 1, \\  y, \\  2\\right)\\right\\}$"
      ],
      "text/plain": [
       "{(-y - 1, y, 2)}"
      ]
     },
     "metadata": {},
     "output_type": "display_data"
    }
   ],
   "source": [
    "linsolve([x + y + z - 1, x + y + 2*z - 3 ], (x, y, z))"
   ]
  },
  {
   "cell_type": "markdown",
   "metadata": {},
   "source": [
    "### Equações Diferenciais"
   ]
  },
  {
   "cell_type": "markdown",
   "metadata": {},
   "source": [
    "É necessário ter uma função indefinida (f e g já estão definidas como indefinidas por meio da nossa `init_session()` mencionada acima, mas é provável que já tenhamos reiniciado essas funções).\n"
   ]
  },
  {
   "cell_type": "code",
   "execution_count": null,
   "metadata": {},
   "outputs": [],
   "source": [
    "f, g = symbols('f g', cls=Function)"
   ]
  },
  {
   "cell_type": "markdown",
   "metadata": {},
   "source": [
    "Assim"
   ]
  },
  {
   "cell_type": "code",
   "execution_count": null,
   "metadata": {},
   "outputs": [
    {
     "data": {
      "text/latex": [
       "$\\displaystyle f{\\left(x \\right)}$"
      ],
      "text/plain": [
       "f(x)"
      ]
     },
     "metadata": {},
     "output_type": "display_data"
    }
   ],
   "source": [
    "f(x)"
   ]
  },
  {
   "cell_type": "markdown",
   "metadata": {},
   "source": [
    "Para termos a derivida de $f$ fazemos"
   ]
  },
  {
   "cell_type": "code",
   "execution_count": null,
   "metadata": {},
   "outputs": [
    {
     "data": {
      "text/latex": [
       "$\\displaystyle \\frac{d}{d x} f{\\left(x \\right)}$"
      ],
      "text/plain": [
       "d       \n",
       "──(f(x))\n",
       "dx      "
      ]
     },
     "metadata": {},
     "output_type": "display_data"
    }
   ],
   "source": [
    "f(x).diff(x)"
   ]
  },
  {
   "cell_type": "markdown",
   "metadata": {},
   "source": [
    "Consequentemos podemos escrever uma equação usando derivadas"
   ]
  },
  {
   "cell_type": "code",
   "execution_count": null,
   "metadata": {},
   "outputs": [],
   "source": [
    "diffeq = Eq(f(x).diff(x, 2) - 2*f(x).diff(x) + f(x), sin(x))"
   ]
  },
  {
   "cell_type": "code",
   "execution_count": null,
   "metadata": {},
   "outputs": [
    {
     "data": {
      "text/latex": [
       "$\\displaystyle f{\\left(x \\right)} - 2 \\frac{d}{d x} f{\\left(x \\right)} + \\frac{d^{2}}{d x^{2}} f{\\left(x \\right)} = \\sin{\\left(x \\right)}$"
      ],
      "text/plain": [
       "                      2               \n",
       "         d           d                \n",
       "f(x) - 2⋅──(f(x)) + ───(f(x)) = sin(x)\n",
       "         dx           2               \n",
       "                    dx                "
      ]
     },
     "metadata": {},
     "output_type": "display_data"
    }
   ],
   "source": [
    "diffeq"
   ]
  },
  {
   "cell_type": "markdown",
   "metadata": {},
   "source": [
    "Tais equações envolvendo derivadas ordinárias são chamadas de EDO (equações diferencias ordinárias) e para resolve-las o Sympy tem a função `dsolve`"
   ]
  },
  {
   "cell_type": "code",
   "execution_count": null,
   "metadata": {},
   "outputs": [
    {
     "data": {
      "text/latex": [
       "$\\displaystyle f{\\left(x \\right)} = \\left(C_{1} + C_{2} x\\right) e^{x} + \\frac{\\cos{\\left(x \\right)}}{2}$"
      ],
      "text/plain": [
       "                    x   cos(x)\n",
       "f(x) = (C₁ + C₂⋅x)⋅ℯ  + ──────\n",
       "                          2   "
      ]
     },
     "metadata": {},
     "output_type": "display_data"
    }
   ],
   "source": [
    "dsolve(diffeq, f(x))"
   ]
  },
  {
   "cell_type": "markdown",
   "metadata": {},
   "source": [
    "### Matrizes"
   ]
  },
  {
   "cell_type": "markdown",
   "metadata": {},
   "source": [
    "Considere uma matriz qualquer\n",
    "\n",
    "$$\n",
    "A = \\left ( \\begin{array}{ccc} u  & p    & 0 \\\\                          \n",
    "                                  0  &  u       & 1/p\\\\                     \n",
    "                                  0  & c^2 p & u \\end{array} \\right ) $$\n",
    "\n",
    "\n",
    "Vamos trabalhar com a matriz de Vandermonde para exemplificar"
   ]
  },
  {
   "cell_type": "markdown",
   "metadata": {},
   "source": [
    "Para definir a mariz usamos o comando `Matrix`, mas antes precisamos especificar os simbolos que vamos utilizar usando `symbols`"
   ]
  },
  {
   "cell_type": "code",
   "execution_count": null,
   "metadata": {},
   "outputs": [
    {
     "data": {
      "text/latex": [
       "$\\displaystyle \\left[\\begin{matrix}u & p & 0\\\\0 & u & \\frac{1}{p}\\\\0 & c^{2} p & u\\end{matrix}\\right]$"
      ],
      "text/plain": [
       "⎡u   p    0⎤\n",
       "⎢          ⎥\n",
       "⎢         1⎥\n",
       "⎢0   u    ─⎥\n",
       "⎢         p⎥\n",
       "⎢          ⎥\n",
       "⎢    2     ⎥\n",
       "⎣0  c ⋅p  u⎦"
      ]
     },
     "metadata": {},
     "output_type": "display_data"
    }
   ],
   "source": [
    "p, u, c = symbols('p u c')\n",
    "A = Matrix([[u, p, 0], [0, u, p**-1], [0, c**2 * p, u]])\n",
    "A"
   ]
  },
  {
   "cell_type": "markdown",
   "metadata": {},
   "source": [
    "Caso quisessemos letras gregas precisariamos importar ela diretamente de `sympy.ab`, utilizando o comando:\n",
    "\n",
    "``from sympy.abc import `` + letra"
   ]
  },
  {
   "cell_type": "code",
   "execution_count": null,
   "metadata": {},
   "outputs": [
    {
     "data": {
      "text/latex": [
       "$\\displaystyle \\left[\\begin{matrix}\\alpha & \\rho & 0\\\\0 & \\alpha & \\frac{1}{\\rho}\\\\0 & c^{2} \\rho & \\alpha\\end{matrix}\\right]$"
      ],
      "text/plain": [
       "⎡α   ρ    0⎤\n",
       "⎢          ⎥\n",
       "⎢         1⎥\n",
       "⎢0   α    ─⎥\n",
       "⎢         ρ⎥\n",
       "⎢          ⎥\n",
       "⎢    2     ⎥\n",
       "⎣0  c ⋅ρ  α⎦"
      ]
     },
     "metadata": {},
     "output_type": "display_data"
    }
   ],
   "source": [
    "from sympy.abc import rho, alpha\n",
    "p, u, c = symbols('rho alpha c')\n",
    "A = Matrix([[u, p, 0], [0, u, p**-1], [0, c**2 * p, u]])\n",
    "A"
   ]
  },
  {
   "cell_type": "code",
   "execution_count": null,
   "metadata": {},
   "outputs": [
    {
     "data": {
      "text/latex": [
       "$\\displaystyle \\left[\\begin{matrix}\\alpha & \\rho & 0\\end{matrix}\\right]$"
      ],
      "text/plain": [
       "[α  ρ  0]"
      ]
     },
     "metadata": {},
     "output_type": "display_data"
    }
   ],
   "source": [
    "A.row(0)"
   ]
  },
  {
   "cell_type": "markdown",
   "metadata": {},
   "source": [
    "The eigenvalues of the system are the speeds at which information propagates"
   ]
  },
  {
   "cell_type": "code",
   "execution_count": null,
   "metadata": {},
   "outputs": [
    {
     "data": {
      "text/latex": [
       "$\\displaystyle \\left\\{ \\alpha : 1, \\  \\alpha - c : 1, \\  \\alpha + c : 1\\right\\}$"
      ],
      "text/plain": [
       "{α: 1, α - c: 1, α + c: 1}"
      ]
     },
     "metadata": {},
     "output_type": "display_data"
    }
   ],
   "source": [
    "A.eigenvals()"
   ]
  },
  {
   "cell_type": "markdown",
   "metadata": {},
   "source": [
    "A diagonalização (ou decomposição espectral) de uma matriz quadrada $A$ é dada por:\n",
    "$$ A = PDP^{-1}$$\n",
    "onde $P$ é a matriz dos autovetores e $D$ a matriz dos autovalores."
   ]
  },
  {
   "cell_type": "markdown",
   "metadata": {},
   "source": [
    "Podemos obter tais matrizes utilizando `.diagonalize`"
   ]
  },
  {
   "cell_type": "code",
   "execution_count": null,
   "metadata": {},
   "outputs": [],
   "source": [
    "P, D = A.diagonalize()"
   ]
  },
  {
   "cell_type": "markdown",
   "metadata": {},
   "source": [
    "Assim, $D$ irá fornecer uma matriz diagonal cujos elementos são os autovalores de $A$."
   ]
  },
  {
   "cell_type": "code",
   "execution_count": null,
   "metadata": {},
   "outputs": [
    {
     "data": {
      "text/latex": [
       "$\\displaystyle \\left[\\begin{matrix}0 & 0 & 0\\\\0 & 0 & 0\\\\0 & 0 & x^{4} + x^{2} + 1\\end{matrix}\\right]$"
      ],
      "text/plain": [
       "⎡0  0       0     ⎤\n",
       "⎢                 ⎥\n",
       "⎢0  0       0     ⎥\n",
       "⎢                 ⎥\n",
       "⎢       4    2    ⎥\n",
       "⎣0  0  x  + x  + 1⎦"
      ]
     },
     "metadata": {},
     "output_type": "display_data"
    }
   ],
   "source": [
    "D"
   ]
  },
  {
   "cell_type": "markdown",
   "metadata": {},
   "source": [
    "Enquanto $P$ a matriz cujas colunas são os autovetores de $A$."
   ]
  },
  {
   "cell_type": "code",
   "execution_count": null,
   "metadata": {},
   "outputs": [
    {
     "data": {
      "text/latex": [
       "$\\displaystyle \\left[\\begin{matrix}- x & - x^{2} & \\frac{1}{x^{2}}\\\\1 & 0 & \\frac{1}{x}\\\\0 & 1 & 1\\end{matrix}\\right]$"
      ],
      "text/plain": [
       "⎡      2  1 ⎤\n",
       "⎢-x  -x   ──⎥\n",
       "⎢          2⎥\n",
       "⎢         x ⎥\n",
       "⎢           ⎥\n",
       "⎢         1 ⎥\n",
       "⎢1    0   ─ ⎥\n",
       "⎢         x ⎥\n",
       "⎢           ⎥\n",
       "⎣0    1   1 ⎦"
      ]
     },
     "metadata": {},
     "output_type": "display_data"
    }
   ],
   "source": [
    "P"
   ]
  },
  {
   "cell_type": "markdown",
   "metadata": {},
   "source": [
    "Além disso, podemos calcula a inversa de $A$ utilizando `**-1`"
   ]
  },
  {
   "cell_type": "code",
   "execution_count": null,
   "metadata": {},
   "outputs": [
    {
     "data": {
      "text/latex": [
       "$\\displaystyle \\left[\\begin{matrix}\\frac{1}{\\alpha} & \\frac{\\rho}{- \\alpha^{2} + c^{2}} & - \\frac{1}{- \\alpha^{3} + \\alpha c^{2}}\\\\0 & - \\frac{\\alpha}{- \\alpha^{2} + c^{2}} & \\frac{1}{- \\alpha^{2} \\rho + c^{2} \\rho}\\\\0 & \\frac{c^{2} \\rho}{- \\alpha^{2} + c^{2}} & \\frac{\\alpha}{\\alpha^{2} - c^{2}}\\end{matrix}\\right]$"
      ],
      "text/plain": [
       "⎡1      ρ           -1      ⎤\n",
       "⎢─  ─────────   ─────────── ⎥\n",
       "⎢α     2    2      3      2 ⎥\n",
       "⎢   - α  + c    - α  + α⋅c  ⎥\n",
       "⎢                           ⎥\n",
       "⎢      -α            1      ⎥\n",
       "⎢0  ─────────  ─────────────⎥\n",
       "⎢      2    2     2      2  ⎥\n",
       "⎢   - α  + c   - α ⋅ρ + c ⋅ρ⎥\n",
       "⎢                           ⎥\n",
       "⎢       2                   ⎥\n",
       "⎢      c ⋅ρ          α      ⎥\n",
       "⎢0  ─────────     ───────   ⎥\n",
       "⎢      2    2      2    2   ⎥\n",
       "⎣   - α  + c      α  - c    ⎦"
      ]
     },
     "metadata": {},
     "output_type": "display_data"
    }
   ],
   "source": [
    "A**-1"
   ]
  },
  {
   "cell_type": "markdown",
   "metadata": {},
   "source": [
    "ou usando o comando `.inv()`"
   ]
  },
  {
   "cell_type": "code",
   "execution_count": null,
   "metadata": {},
   "outputs": [
    {
     "data": {
      "text/latex": [
       "$\\displaystyle \\left[\\begin{matrix}\\frac{1}{\\alpha} & \\frac{\\rho}{- \\alpha^{2} + c^{2}} & - \\frac{1}{- \\alpha^{3} + \\alpha c^{2}}\\\\0 & - \\frac{\\alpha}{- \\alpha^{2} + c^{2}} & \\frac{1}{- \\alpha^{2} \\rho + c^{2} \\rho}\\\\0 & \\frac{c^{2} \\rho}{- \\alpha^{2} + c^{2}} & \\frac{\\alpha}{\\alpha^{2} - c^{2}}\\end{matrix}\\right]$"
      ],
      "text/plain": [
       "⎡1      ρ           -1      ⎤\n",
       "⎢─  ─────────   ─────────── ⎥\n",
       "⎢α     2    2      3      2 ⎥\n",
       "⎢   - α  + c    - α  + α⋅c  ⎥\n",
       "⎢                           ⎥\n",
       "⎢      -α            1      ⎥\n",
       "⎢0  ─────────  ─────────────⎥\n",
       "⎢      2    2     2      2  ⎥\n",
       "⎢   - α  + c   - α ⋅ρ + c ⋅ρ⎥\n",
       "⎢                           ⎥\n",
       "⎢       2                   ⎥\n",
       "⎢      c ⋅ρ          α      ⎥\n",
       "⎢0  ─────────     ───────   ⎥\n",
       "⎢      2    2      2    2   ⎥\n",
       "⎣   - α  + c      α  - c    ⎦"
      ]
     },
     "metadata": {},
     "output_type": "display_data"
    }
   ],
   "source": [
    "A.inv()"
   ]
  },
  {
   "cell_type": "markdown",
   "metadata": {},
   "source": [
    "Além disso ele faz operações de multiplicação apenas utilizando o comando `*`"
   ]
  },
  {
   "cell_type": "code",
   "execution_count": null,
   "metadata": {},
   "outputs": [
    {
     "data": {
      "text/latex": [
       "$\\displaystyle \\left[\\begin{matrix}1 & 0 & 0\\\\0 & 1 & 0\\\\0 & 0 & 1\\end{matrix}\\right]$"
      ],
      "text/plain": [
       "⎡1  0  0⎤\n",
       "⎢       ⎥\n",
       "⎢0  1  0⎥\n",
       "⎢       ⎥\n",
       "⎣0  0  1⎦"
      ]
     },
     "metadata": {},
     "output_type": "display_data"
    }
   ],
   "source": [
    "C = A**-1\n",
    "A * C\n"
   ]
  },
  {
   "cell_type": "markdown",
   "metadata": {},
   "source": [
    "Usando o `simplify`, obtemos a matriz A"
   ]
  },
  {
   "cell_type": "code",
   "execution_count": null,
   "metadata": {},
   "outputs": [
    {
     "data": {
      "image/png": "[encoded data removed]",
      "text/latex": [
       "$\\displaystyle \\left[\\begin{matrix}1 & 0 & 0\\\\0 & 1 & 0\\\\0 & 0 & 1\\end{matrix}\\right]$"
      ],
      "text/plain": [
       "⎡1  0  0⎤\n",
       "⎢       ⎥\n",
       "⎢0  1  0⎥\n",
       "⎢       ⎥\n",
       "⎣0  0  1⎦"
      ]
     },
     "metadata": {},
     "output_type": "display_data"
    }
   ],
   "source": [
    "simplify(A*C)"
   ]
  },
  {
   "cell_type": "markdown",
   "metadata": {},
   "source": [
    "```{tabbed} Exercício\n",
    "Verifique que $PDP^{-1}$ resulta em $A$\n",
    "```\n",
    "\n",
    "```{tabbed} Solução\n",
    "```python\n",
    "C = P**-1\n",
    "\n",
    "P * D * C\n",
    "\n",
    "```"
   ]
  }
 ],
 "metadata": {
  "kernelspec": {
   "display_name": "base",
   "language": "python",
   "name": "python3"
  },
  "language_info": {
   "codemirror_mode": {
    "name": "ipython",
    "version": 3
   },
   "file_extension": ".py",
   "mimetype": "text/x-python",
   "name": "python",
   "nbconvert_exporter": "python",
   "pygments_lexer": "ipython3",
   "version": "3.11.7"
  }
 },
 "nbformat": 4,
 "nbformat_minor": 4
}
