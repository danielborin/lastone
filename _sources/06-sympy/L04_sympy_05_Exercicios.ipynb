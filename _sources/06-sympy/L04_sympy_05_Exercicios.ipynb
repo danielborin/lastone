{
 "cells": [
  {
   "cell_type": "markdown",
   "metadata": {},
   "source": [
    "# Exercicios: Sympy"
   ]
  },
  {
   "cell_type": "code",
   "execution_count": null,
   "metadata": {},
   "outputs": [],
   "source": [
    "import sympy as sym\n",
    "from sympy import init_session\n",
    "init_session()"
   ]
  },
  {
   "cell_type": "markdown",
   "metadata": {},
   "source": [
    "1. Crie a expressão:\n",
    "\n",
    "    $$f = x e^{-x} + x (1-x)$$\n",
    "\n",
    "    Em seguida, avalie-a para\n",
    "\n",
    "    $$x = 0, 0.1, 0.2, 0.4, 0.8$$"
   ]
  },
  {
   "cell_type": "code",
   "execution_count": null,
   "metadata": {},
   "outputs": [],
   "source": [
    "pass"
   ]
  },
  {
   "cell_type": "markdown",
   "metadata": {},
   "source": [
    "2. Fatore o seguinte polinômio\n",
    "\n",
    "    $$x^{4} - 6 x^{3} + x^{2} + 24 x + 16$$\n",
    "\n",
    "    Em seguida, encontre suas raízes."
   ]
  },
  {
   "cell_type": "code",
   "execution_count": null,
   "metadata": {},
   "outputs": [],
   "source": []
  },
  {
   "cell_type": "markdown",
   "metadata": {},
   "source": [
    "3. Integre a função:\n",
    "\n",
    "    $$f = \\sin(x) e^{-x}$$\n",
    "\n",
    "    Em seguida, diferencie o resultado para verificar se você retorna à função original."
   ]
  },
  {
   "cell_type": "code",
   "execution_count": null,
   "metadata": {},
   "outputs": [],
   "source": []
  },
  {
   "cell_type": "markdown",
   "metadata": {},
   "source": [
    "4. Escreva um programa que leia uma expressão matemática como uma string (por exemplo, `\"sin(2*pi*x)\"`), converta-a para uma expressão do sympy e então avalie conforme necessário.\n",
    "\n",
    "    Faça com que seu programa gere um gráfico da função inserida.\n",
    "    \n",
    "    Dica, utilize a função `parse_expr()` converte uma string em uma expressão do SymPy e a função `sympy.lambdify()` converte uma expressão do SymPy em uma função que pode ser chamada pelo Python(Você também pode torná-la compatível com o numpy, o que significa, por exemplo, que qualquer `sin()` na sua expressão do SymPy será avaliada usando `np.sin()`)."
   ]
  },
  {
   "cell_type": "code",
   "execution_count": null,
   "metadata": {},
   "outputs": [],
   "source": [
    "from sympy.parsing.sympy_parser import parse_expr\n",
    "from sympy import lambdify"
   ]
  },
  {
   "cell_type": "code",
   "execution_count": null,
   "metadata": {},
   "outputs": [
    {
     "data": {
      "text/latex": [
       "$\\displaystyle \\sin{\\left(2 \\pi x \\right)}$"
      ],
      "text/plain": [
       "sin(2⋅π⋅x)"
      ]
     },
     "metadata": {},
     "output_type": "display_data"
    }
   ],
   "source": [
    "s = \"sin(2*pi*x)\"\n",
    "a = parse_expr(s) # Converte uma string em uma expressão do SymPy\n",
    "print(a)\n",
    "\n",
    "f = lambdify(x, a, \"numpy\") # Converte uma expressão do SymPy em uma função\n",
    "print(f(1.0))"
   ]
  },
  {
   "cell_type": "code",
   "execution_count": null,
   "metadata": {},
   "outputs": [],
   "source": []
  }
 ],
 "metadata": {
  "kernelspec": {
   "display_name": "base",
   "language": "python",
   "name": "python3"
  },
  "language_info": {
   "codemirror_mode": {
    "name": "ipython",
    "version": 3
   },
   "file_extension": ".py",
   "mimetype": "text/x-python",
   "name": "python",
   "nbconvert_exporter": "python",
   "pygments_lexer": "ipython3",
   "version": "3.11.7"
  }
 },
 "nbformat": 4,
 "nbformat_minor": 4
}
