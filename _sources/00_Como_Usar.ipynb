{
 "cells": [
  {
   "cell_type": "markdown",
   "metadata": {},
   "source": [
    "# Introdução à Computação Científica\n",
    "\n",
    "### Prof. Daniel Borin\n",
    "\n",
    "![Image ICC](image_ICC.png)"
   ]
  },
  {
   "cell_type": "markdown",
   "metadata": {},
   "source": [
    "Este conteúdo foi desenvolvido para apresentar aos estudantes de cursos de exatas os conceitos essenciais da linguagem Python, além de introduzi-los às bibliotecas de computação matemática, visualização de dados e outras ferramentas que podem ser úteis em sua jornada acadêmica e profissional."
   ]
  },
  {
   "cell_type": "markdown",
   "metadata": {},
   "source": [
    "# Por que usar Python"
   ]
  },
  {
   "cell_type": "markdown",
   "metadata": {},
   "source": [
    "O Stack Overflow é uma das maiores plataformas online para programadores e desenvolvedores compartilharem conhecimento e resolverem dúvidas técnicas. Fundado em 2008, o site permite que os usuários façam perguntas e forneçam respostas sobre uma vasta gama de tópicos relacionados à programação e desenvolvimento de software.\n",
    "\n",
    "A imagem abaixo mostra o percentual de perguntas feitas no Stack Overflow por mês, com base nos dados coletados pela ferramenta [Stack Overflow Trends](https://trends.stackoverflow.co/?tags=java,c,python,c%23,javascript,r). Essa ferramenta analisa as tendências globais de pesquisas por diferentes linguagens de programação, refletindo o interesse dos usuários ao longo do tempo.\n",
    "\n",
    "<img src=\"https://raw.githubusercontent.com/danielborin/lastone/main/content/stackoverflow-trends-chart.png\" alt=\"Crescimento da porcentagem de perguntas de várias linguagens de programação no Stack Overflow\"/>"
   ]
  },
  {
   "cell_type": "markdown",
   "metadata": {},
   "source": [
    "Ao observar as curvas para várias linguagens, é possível notar que, a partir de meados de 2018, o Python se tornou a linguagem mais buscada no site, superando outras como JavaScript e Java. Esse crescimento está relacionado ao aumento do uso de Python em áreas como ciência de dados e inteligência artificial. \n",
    "\n",
    "Da mesma forma que o Stack Overflow Trends, o [Índice TIOBE](https://www.tiobe.com/tiobe-index/) é um ranking que mede a popularidade das linguagens de programação com base na quantidade de pesquisas feitas na internet, incluindo buscas em sites como Google, Bing e YouTube, além de fóruns e repositórios de código. Atualizado mensalmente, ele fornece uma visão geral de quais linguagens estão em alta e como a popularidade de cada uma muda ao longo do tempo, ajudando desenvolvedores e empresas a identificar tendências no mercado de tecnologia. No Índice TIOBE, o Python ocupa atualmente o primeiro lugar, refletindo seu crescente domínio no mundo da programação."
   ]
  },
  {
   "cell_type": "markdown",
   "metadata": {},
   "source": [
    "# Como usar este livro"
   ]
  },
  {
   "cell_type": "markdown",
   "metadata": {},
   "source": [
    "Este site é um livro digital construído com [Jupyter-Book](https://jupyterbook.org/intro.html), ele pode ser exibido tanto em dispositivos móveis quanto em PC. Ele foi desenvolvido a partir das notas de aula utilizada no curso de Introdução à Computação Científica. Na parte superior você encontrará alguns ícones para interatividade aprimorada, cada um dos quais é explicado abaixo."
   ]
  },
  {
   "cell_type": "markdown",
   "metadata": {},
   "source": [
    "## <i class=\"fa fa-rocket\" aria-hidden=\"true\"></i> Notebook Interativo\n",
    "\n",
    "Se este ícone estiver disponível, você poderá executar o notebook diretamente na nuvem. Existem as seguintes opções de interação:\n",
    "\n",
    "- <img src=\"https://sebasguts.github.io/GAPDaysBinderTutorial/images/logo.png\"  width=\"20\" height=\"20\"> Gera o [Binder](https://mybinder.org/) do documento atual: : Este é um projeto aberto com vínculos ao projeto Jupyter. Pode levar alguns minutos para a página aparecer, caso não tenha sido acessada recentemente, mas depois fornecerá a experiência padrão do Jupyter. \n",
    "\n",
    "- <img src=\"https://themachinelearners.com/wp-content/uploads/2020/05/colab_favicon_256px.png\"  width=\"20\" height=\"20\"> Gera o [Google Colab](https://colab.research.google.com) do documento atual: Esta é a versão do Google para notebooks online, que roda diretamente na nuvem do Google. Esse serviço inicia quase instantaneamente. \n",
    "\n",
    "- <i class=\"fas fa-play\"></i> Gera interação com o documento, permitindo executar os comandos na própria página \n",
    "\n",
    "Tanto o Binder quanto o Colab abrirão uma nova página, enquanto o Live Code atualizará a página atual sem recarregar. Tenha em mente que pode levar alguns segundos para que tudo seja preparado.\n"
   ]
  },
  {
   "cell_type": "markdown",
   "metadata": {},
   "source": [
    "## <i class=\"fas fa-expand\" aria-hidden=\"true\"></i> Modo Tela Cheia\n",
    "\n",
    "Este botão mudará para o modo tela cheia, pode ser útil quando estiver utilizando dispositivos de baixa resolução."
   ]
  },
  {
   "cell_type": "markdown",
   "metadata": {},
   "source": [
    "## <i class=\"fa fa-download\" aria-hidden=\"true\"></i> Baixar\n",
    "\n",
    "Se este ícone estiver presente, a página pode ser baixada. Dependendo do formato, as opções podem variar.\n",
    "\n",
    "- Jupyter notebook *.ipynb (quando disponível)\n",
    "- Markdown *.md (quando disponível)\n",
    "- Documento *.pdf (quando disponível, com impressão do navegador)"
   ]
  },
  {
   "cell_type": "markdown",
   "metadata": {},
   "source": [
    "## Ocultar/Mostrar"
   ]
  },
  {
   "cell_type": "markdown",
   "metadata": {},
   "source": [
    "Algumas páginas podem ter conteúdo ainda não exibido. Quando isso ocorrer, \"Show code cell output\" aparecerá embaixo da celula."
   ]
  },
  {
   "cell_type": "code",
   "execution_count": 3,
   "metadata": {
    "tags": [
     "hide-output"
    ]
   },
   "outputs": [
    {
     "name": "stdout",
     "output_type": "stream",
     "text": [
      "Exemplo de 'Show code cell output'\n"
     ]
    }
   ],
   "source": [
    "print(\"Exemplo de 'Show code cell output'\")"
   ]
  },
  {
   "cell_type": "code",
   "execution_count": 2,
   "metadata": {
    "tags": [
     "hide-output"
    ]
   },
   "outputs": [
    {
     "data": {
      "text/plain": [
       "256"
      ]
     },
     "execution_count": 2,
     "metadata": {},
     "output_type": "execute_result"
    }
   ],
   "source": [
    "4 ** 4"
   ]
  },
  {
   "cell_type": "markdown",
   "metadata": {},
   "source": [
    "## Comentários Finais\n",
    "\n",
    "Se você ainda tiver alguma dúvida, fique à vontade para entrar em contato com o professor pelo e-mail [daniel.borin@unesp.br](mailto:daniel.borin@unesp.br)."
   ]
  }
 ],
 "metadata": {
  "celltoolbar": "Edit Metadata",
  "kernelspec": {
   "display_name": "Python 3",
   "language": "python",
   "name": "python3"
  },
  "language_info": {
   "codemirror_mode": {
    "name": "ipython",
    "version": 3
   },
   "file_extension": ".py",
   "mimetype": "text/x-python",
   "name": "python",
   "nbconvert_exporter": "python",
   "pygments_lexer": "ipython3",
   "version": "3.7.9"
  },
  "toc": {
   "base_numbering": 1,
   "nav_menu": {},
   "number_sections": true,
   "sideBar": true,
   "skip_h1_title": false,
   "title_cell": "Conteúdo",
   "title_sidebar": "Conteúdo",
   "toc_cell": true,
   "toc_position": {},
   "toc_section_display": true,
   "toc_window_display": true
  }
 },
 "nbformat": 4,
 "nbformat_minor": 4
}
